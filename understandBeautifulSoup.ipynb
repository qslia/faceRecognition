{
 "cells": [
  {
   "cell_type": "code",
   "execution_count": 2,
   "id": "dfcba586",
   "metadata": {},
   "outputs": [],
   "source": [
    "from pathlib import Path\n",
    "import requests"
   ]
  },
  {
   "cell_type": "code",
   "execution_count": 3,
   "id": "9e1b39b0",
   "metadata": {},
   "outputs": [],
   "source": [
    "class BingImageCrawler:\n",
    "    \"\"\"\n",
    "    A simple web crawler to download images from Bing Image Search.\n",
    "    \"\"\"\n",
    "\n",
    "    def __init__(self, output_dir=\"images\", max_images=50, delay=1.0):\n",
    "        \"\"\"\n",
    "        Initialize the crawler.\n",
    "\n",
    "        Args:\n",
    "            output_dir: Directory to save downloaded images\n",
    "            max_images: Maximum number of images to download\n",
    "            delay: Delay between requests in seconds (to be respectful)\n",
    "        \"\"\"\n",
    "        self.output_dir = Path(output_dir)\n",
    "        self.max_images = max_images\n",
    "        self.delay = delay\n",
    "        self.session = requests.Session()\n",
    "        self.session.headers.update(\n",
    "            {\n",
    "                \"User-Agent\": (\n",
    "                    \"Mozilla/5.0 (Windows NT 10.0; Win64; x64) \"\n",
    "                    \"AppleWebKit/537.36 (KHTML, like Gecko) \"\n",
    "                    \"Chrome/91.0.4472.124 Safari/537.36\"\n",
    "                )\n",
    "            }\n",
    "        )\n",
    "\n",
    "    def search_bing_images(self, query):\n",
    "        \"\"\"\n",
    "        Search Bing for images and return image URLs.\n",
    "\n",
    "        Args:\n",
    "            query: Search query string\n",
    "\n",
    "        Returns:\n",
    "            List of image URLs\n",
    "        \"\"\"\n",
    "        search_url = (\n",
    "            f\"https://www.bing.com/images/search?\" f\"q={query}&form=HDRSC3&first=1\"\n",
    "        )\n",
    "\n",
    "        try:\n",
    "            response = self.session.get(search_url, timeout=10)\n",
    "            response.raise_for_status()\n",
    "            with open(\"response.html\", \"w\", encoding=\"utf-8\") as f:\n",
    "                f.write(response.text)\n",
    "        except Exception as e:\n",
    "            print(f\"Error searching Bing: {e}\")\n",
    "            return []"
   ]
  },
  {
   "cell_type": "code",
   "execution_count": 4,
   "id": "f432bc5f",
   "metadata": {},
   "outputs": [],
   "source": [
    "cralwer = BingImageCrawler()"
   ]
  },
  {
   "cell_type": "code",
   "execution_count": null,
   "id": "52038eec",
   "metadata": {},
   "outputs": [],
   "source": [
    "# cralwer.search_bing_images(\"elon musk\")"
   ]
  },
  {
   "cell_type": "code",
   "execution_count": 5,
   "id": "7310207b",
   "metadata": {},
   "outputs": [],
   "source": [
    "from bs4 import BeautifulSoup\n",
    "with open(\"response.html\", \"r\", encoding=\"utf-8\") as f:\n",
    "    soup = BeautifulSoup(f, \"html.parser\")"
   ]
  },
  {
   "cell_type": "code",
   "execution_count": 6,
   "id": "977a3dc9",
   "metadata": {},
   "outputs": [],
   "source": [
    "image_urls = []"
   ]
  },
  {
   "cell_type": "code",
   "execution_count": 7,
   "id": "9bceb9ea",
   "metadata": {},
   "outputs": [
    {
     "data": {
      "text/plain": [
       "[<script nonce=\"CZILAxNck2OhDPiJPq78Mm+KckEg07o1OjzdS2cGNUA=\" type=\"text/javascript\">//<![CDATA[\n",
       " \n",
       " si_ST=new Date\n",
       " \n",
       " //]]></script>,\n",
       " <script nonce=\"CZILAxNck2OhDPiJPq78Mm+KckEg07o1OjzdS2cGNUA=\" type=\"text/javascript\">//<![CDATA[\n",
       " _G={Region:\"HK\",Lang:\"zh-HK\",ST:(typeof si_ST!=='undefined'?si_ST:new Date),Mkt:\"zh-HK\",RevIpCC:\"hk\",RTL:false,Ver:\"43\",IG:\"A463BA497B4F44C7819699A1CF9F80D0\",EventID:\"68fb8361f6304198b8d461bc837d3010\",V:\"images\",P:\"images\",DA:\"PUSE01\",CID:\"0CBE8DDCDA656E8A08E19B53DB6D6FF6\",SUIH:\"DRltaK-Fu2EARYdhXAJeeg\",adc:\"b_ad\",EF:{cookss:1,bmcov:1,crossdomainfix:1,bmasynctrigger:1,bmasynctrigger3:1,getslctspt:1,newtabsloppyclick:1,chevroncheckmousemove:1,sharepreview:1,shareoutimage:1,sharefixreadnum:1,clickbackRSFlare:1,clickbackRSAfterOnP1:1,clickbackRSonTopW:1,clickbackRSonAdAlgo:1,clickbackAjaxRsFlare:1,sharepreviewthumbnailid:1,shareencodefix:1,chatskip2content:1,fablogfix:1,uaclickbackas:1,uaasnodisappear:1,clearuspreo:1,fixTypeToSearchIssueFlare:1},gpUrl:\"\\/fd\\/ls\\/GLinkPing.aspx?\",Salt:\"CfDJ8BJecyNyfxpMtsfDoM3OqQunH2uz3yfC_DW1F3RoZdXEuLl_CteeAOnc-TpnjdGVULOX3Jf19793qbxgu8yiX2j-IqhRAZG11bpS2CzzEiZ4_g8iYlI9svyp71YD_SrI-zDE6ZPUL3pJ0OEheuPNioovgIachqHuQtOlud-rjficMjkhQeSMBp2E-XTejAXaHg\" }; _G.lsUrl=\"/fd/ls/l?IG=\"+_G.IG+\"&CID=\"+_G.CID ;curUrl=\"https:\\/\\/www.bing.com\\/images\\/search\";_G.EnableCompression=true;_G.XLSC=\"\\/web\\/xlsc.aspx\"; _G.XLS=\"\\/web\\/xls.aspx\"; _G.XLSM=\"\\/threshold\\/xls.aspx\";_G.XLSOvr=8;_G.XLSThrottle=500;_G.XLSNoFlush=true; _G.DirectLogFlight=3; function directLog(d,g,f){if(window.Log&&Log.DirectLog){Log.DirectLog(d,g,f);}else if (window.sj_gx){var x=sj_gx();x.open('GET',_G.lsUrl+\"&Type=Event.ClientInst&DATA=\"+d+\"&dl=4\");x.send()}}; _G.LSP = \"/fd/ls/lsp.aspx?dl=3\";_G.DLPState = 1;function si_T(a){var ig='';if(!(a.length>2&&a.substring(0,3)===\"IG=\")){ig='IG='+_G.IG;}if(document.images){_G.GPImg=new Image;_G.GPImg.src=_G.gpUrl+ig+'&CID='+_G.CID+'&'+a;}return true;}_G.BAT=\"0\";_G.NTT=\"600000\";_G.CTT=\"3000\";_G.BNFN=\"Default\";_G.LG=\"160\";_G.CBRSHT=\"400\";_G.CBRSHTAM=\"400\";;_G.SID='3F3A2D95E990685532463B1AE89869FC';_G.InpOpt=true;;\n",
       " //]]></script>,\n",
       " <script nonce=\"CZILAxNck2OhDPiJPq78Mm+KckEg07o1OjzdS2cGNUA=\" type=\"text/javascript\">//<![CDATA[\n",
       " var __assign=this&&this.__assign||function(){return __assign=Object.assign||function(n){for(var t,r,i=1,u=arguments.length;i<u;i++){t=arguments[i];for(r in t)Object.prototype.hasOwnProperty.call(t,r)&&(n[r]=t[r])}return n},__assign.apply(this,arguments)},logE=function(n,t,i){t===void 0&&(t=null);i===void 0&&(i=\"ClientInst\");var r=[__assign({T:\"CI.\".concat(i),FID:\"CI\",Name:n},t&&{Text:t})];typeof _G!=\"undefined\"&&_w.directLog(encodeURIComponent(JSON.stringify(r)),2)},CSPIF;window.CSPEL=[];CSPIF=function(n){var t=\"clarity\",i=\"CSPViolation\",r,u;return(window[t]&&(window[t](\"set\",i,n.sample),window[t](\"event\",i)),r=[\"chrome-extension\"],u=[\"javascript:void(0)\",\"javascript: void(0)\"],r.some(function(t){return n.sourceFile.includes(t)})||u.some(function(t){return n.sample.includes(t)}))?!0:window.CSPEL.includes(n.sample)?!0:(window.CSPEL.push(n.sample),!1)};try{var ignErr=[\"ResizeObserver loop\",\"Script error\"],ignCSPErr=[\"unsafe-eval\"],maxErr=3,ignoreCurrentError=function(n,t){return(ignErr.some(function(t){return n.includes(t)})||ignCSPErr.some(function(t){return n.includes(t)}))?ignCSPErr.some(function(t){return n.includes(t)})&&t.filename&&!t.filename.includes(\"chrome-extension://\")?!1:(t!=null&&(typeof sj_sp!=\"undefined\"&&sj_sp(t),typeof sj_pd!=\"undefined\"&&sj_pd(t)),!0):!1},regexEsc=function(n){return n.replace(/([.?*+^$&[\\]\\\\(){}|<>-])/g,\"\\\\$1\")},ignoreCSPLog=function(n){return[\"javascript:void(0)\",\"javascript: void(0)\",\"javascript:void()\"].some(function(t){return n.sample.includes(t)})};window.jsErrorHandler=function(n){var f,p,h,rt,ut,u,e,ft,o,a,v,s;try{if(f='\"noMessage\"',p=(n.error||n).message||f,ignoreCurrentError(p,n))return;if(h=(window.ERC?window.ERC:0)+1,window.ERC=h,h>maxErr){logE(\"max errors reached\");return}var c=n.error||n,w=n.filename,b=n.lineno,k=n.colno,d=n.extra,l=c.severity||\"Error\",g=c.message||f,i=c.stack,t='\"'+escape(g.replace(/\"/g,\"\"))+'\"',nt=new RegExp(regexEsc(location.href),\"g\"),tt=window.lirab,it=window.liraa,r=tt?\" hint == [\"+tt:\"\";if(r=r+(it?\", \"+it+\")\":r?\"]\":\"\"),i){for(rt=/\\(([^\\)]+):[0-9]+:[0-9]+\\)/g,u={};(ut=rt.exec(i))!==null;)e=ut[1],u[e]?u[e]++:u[e]=1;o=0;for(a in u)u[a]>1&&(v=regexEsc(a),ft=new RegExp(v,\"g\"),i=i.replace(ft,o),i+=\"#\"+o+\"=\"+v,o++);i=i.replace(nt,\"self\").replace(/\"/g,\"\");t+=',\"Stack\":\"'+(escape(i)+'\"')}if(w?t+=',\"Meta\":\"'+escape(w.replace(nt,\"self\"))+r+'\"':r&&(t+=',\"Meta\":\"'+r+'\"'),b&&(t+=',\"Line\":\"'+b+'\"'),k&&(t+=',\"Char\":\"'+k+'\"'),d&&(t+=',\"ExtraInfo\":\"'+d+'\"'),g===f)if(l=\"Warning\",t+=',\"ObjectToString\":\"'+n.toString()+'\"',JSON&&JSON.stringify)t+=',\"JSON\":\"'+escape(JSON.stringify(n))+'\"';else for(s in n)n.hasOwnProperty(s)&&(t+=',\"'+s+'\":\"'+n[s]+'\"');var et=(new Date).getTime(),ot='\"T\":\"CI.'+l+'\",\"FID\":\"CI\",\"Name\":\"JS'+l+'\",\"Text\":'+t+\"\",st=\"<E><T>Event.ClientInst<\\/T><IG>\"+_G.IG+\"<\\/IG><TS>\"+et+\"<\\/TS><D><![CDATA[[{\"+ot+\"}]]\\]><\\/D><\\/E>\",ht=\"<ClientInstRequest><Events>\"+st+\"<\\/Events><STS>\"+et+\"<\\/STS><\\/ClientInstRequest>\",y=new XMLHttpRequest;y.open(\"POST\",\"/fd/ls/lsp.aspx?\",!0);y.setRequestHeader(\"Content-Type\",\"text/xml\");y.send(ht);typeof sj_evt!=\"undefined\"&&sj_evt.fire(\"ErrorInstrumentation\",t)}catch(ct){logE(\"MetaJSError\",\"Failed to execute error handler. \"+ct.message)}};window.CSPEH=function(n){CSPIF(n)||logE(\"CSPViolation\",n.sample,\"Error\")};window.addEventListener&&(window.addEventListener(\"error\",window.jsErrorHandler,!1),window.addEventListener(\"unhandledrejection\",window.jsErrorHandler,!1),window.addEventListener(\"securitypolicyviolation\",window.CSPEH))}catch(e){logE(\"MetaJSError\",\"Failed to bind error handler \"+e.message)};var amd,define,require;(function(n){function e(n,i,u){t[n]||(t[n]={dependencies:i,callback:u},r(n))}function r(n){if(n){if(n)return u(n)}else{if(!f){for(var r in t)u(r);f=!0}return i}}function u(n){var s,e;if(i[n])return i[n];if(t.hasOwnProperty(n)){var h=t[n],f=h.dependencies,l=h.callback,a=r,o={},c=[a,o];if(f.length<2)throw\"invalid usage\";else if(f.length>2)for(s=f.slice(2,f.length),e=0;e<s.length;e++)c.push(u(s[e]));return l.apply(this,c),i[n]=o,o}}var t={},i={},f=!1;n.define=e;n.require=r})(amd||(amd={}));define=amd.define;require=amd.require;var _w=window,_d=document,sb_ie=window.ActiveXObject!==undefined,sb_i6=sb_ie&&!_w.XMLHttpRequest,_ge=function(n){return _d.getElementById(n)},_qs=function(n,t){return t=typeof t==\"undefined\"?_d:t,t.querySelector?t.querySelector(n):null},sb_st=function(n,t){return setTimeout(n,t)},sb_rst=sb_st,sb_ct=function(n){clearTimeout(n)},sb_gt=function(){return(new Date).getTime()},sj_gx=function(){return sb_i6?new ActiveXObject(\"MSXML2.XMLHTTP\"):new XMLHttpRequest};_w.sj_ce=function(n,t,i){var r=_d.createElement(n);return t&&(r.id=t),i&&(r.className=i),r};_w.sj_cook=_w.sj_cook||{get:function(n,t){var i=_d.cookie.match(new RegExp(\"\\\\b\"+n+\"=[^;]+\")),r;return t&&i?(r=i[0].match(new RegExp(\"\\\\b\"+t+\"=([^&]*)\")),r?r[1]:null):i?i[0]:null}};_w.sk_merge||(_w.sk_merge=function(n){_d.cookie=n});_w.bbe=\"A:rms:answers:Shared:BingCore.Bundle\";define(\"fallback.mm\",[\"require\",\"exports\"],function(n,t){function e(){return function(){for(var r,h,c,t=[],n=0;n<arguments.length;n++)t[n]=arguments[n];if(r=s(arguments.callee),u&&(h=f(r),h.toString()!=e().toString()))return h.apply(null,arguments);c=i[r].q;t[0]===\"onPP\"&&o();c.push(t)}}function s(n){for(var t in i)if(i[t].h===n)return t}function f(n,t){for(var u,f=n.split(\".\"),i=_w,r=0;r<f.length;r++)u=f[r],typeof i[u]==\"undefined\"&&t&&(i[u]=r===f.length-1?e():{}),i=i[u];return i}function o(){var e=i[\"rms.js\"].q,o,f,r,n,s,u,t;if(e.length>0)for(o=!1,f=0;f<e.length;f++){for(r=e[f],n=0;n<r.length;n++)if(s=_w.bbe,u=r[n][s],u||(u=r[n][\"A:rmsBu0\"]),u){t=_d.createElement(\"script\");t.setAttribute(\"data-rms\",\"1\");t.setAttribute(\"crossorigin\",\"anonymous\");t.src=u;t.type=\"text/javascript\";setTimeout(function(){_d.body.appendChild(t)},0);r.splice(n,1);o=!0;break}if(o)break}}function h(){var n,t,e;for(u=!1,n=0;n<r.length;n++)t=r[n],e=f(t,!0),i[t]={h:e,q:[]}}function c(){for(var t,n=0;n<r.length;n++){var e=r[n],o=i[e].q,s=f(e);for(t=0;t<o.length;t++)s.apply(null,o[t])}u=!0}function l(n,t,i,r){(n===_w||n===_d||n===_d.body)&&t==\"load\"?_w.sj_evt.bind(\"onP1\",i,!0):n.addEventListener?n.addEventListener(t,i,r):n.attachEvent?n.attachEvent(\"on\"+t,i):n[\"on\"+t]=i}t.__esModule=!0;t.replay=void 0;var r=[\"rms.js\",\"sj_evt.bind\",\"sj_evt.fire\",\"sj_jb\",\"sj_wf\",\"sj_cook.get\",\"sj_cook.set\",\"sj_pd\",\"sj_sp\",\"sj_be\",\"sj_go\",\"sj_ev\",\"sj_ue\",\"sj_evt.unbind\",\"sj_mo\",\"sj_so\"],i={},u=!1;_w.fb_is=o;t.replay=c;h();_w.sj_be=l});function lb(){_w.si_sendCReq&&sb_st(_w.si_sendCReq,800);_w.lbc&&_w.lbc()};(function(){function n(n){n=sb_ie?_w.event:n;(!n.altKey||n.ctrlKey||n.shiftKey)&&(n.key&&n.key===\"Enter\"||n.keyCode&&n.keyCode===13)&&_w.si_ct(sb_ie?n.srcElement:n.target,!1,n,\"enter\")}sj_be(document,\"keydown\",n,!1)})();(function(){function n(n){_w.si_ct(sb_ie?_w.event.srcElement:n.target,!1,_w.event||n)}sj_be(document,\"mousedown\",n,!1)})();_w.si_sbwu=function(n){var u=_G.BQIG==null?_G.IG:_G.BQIG,r=\"/fd/ls/GLinkPingPost.aspx?\",t,i;if(r+=n.length>2&&n.substring(0,3)===\"IG=\"?n:\"IG=\"+u+n,t=\"sendBeacon\",i=!1,navigator&&navigator[t])try{navigator[t](r,\"\");i=!0}catch(f){}return i};ClTrCo={};var ctcc=0,clc=_w.ClTrCo||{},SerpMode;(function(n){n.Home=\"home\";n.Search=\"search\";n.Conversation=\"conversation\";n.OffStage=\"off-stage\";n.Notebook=\"notebook\";n.GPTCreator=\"gpt-creator\"})(SerpMode||(SerpMode={}));_w.si_ct=function(n,t,i,r){var u,o,e,h,f,v,c,l,s,a;if(clc.SharedClickSuppressed)return!0;u=\"getAttribute\";try{for(;n!==document.body;n=n.parentNode){if(!n||n===document||n[u](\"data-noct\"))break;if(o=(n.tagName===\"A\"||n[u](\"data-clicks\"))&&(n[u](\"h\")||n[u](\"data-h\")||n[u](\"data-cspi\"))||n[u](\"_ct\"),o){e=n[u](\"_ctf\");h=-1;i&&(i.type===\"keydown\"?h=-2:i.button!=null&&(h=i.button));e&&_w[e]||(e=\"si_T\");e===\"si_T\"&&(f=n[u](\"href\"),_G!==undefined&&_G.EF!==undefined&&_G.EF.newtabredironclicktracking===1&&f.indexOf(\"/newtabredir\")==0?(v=new RegExp(\"[?&]?url=([^&]*)(&|$)\"),c=f.match(v),c&&(f=f.indexOf(\"&be=1\")>=0?encodeURIComponent(atob(decodeURIComponent(c[1]))):c[1])):f=encodeURIComponent(n[u](\"href\")),clc.furl&&!n[u](\"data-private\")?o+=\"&url=\"+f:clc.mfurl&&(o+=\"&abc=\"+f));r&&(o+=\"&source=\"+r);l=\"\";clc.mc&&(l=\"&c=\"+ctcc++);s=\"\";a=n[u](\"data-ig\");a&&(s+=\"IG=\"+a);s+=\"&\"+o+l;_w.si_sbwu(s)||_w[e]&&_w[e](s,n,i,h);break}if(t)break}}catch(y){_w.SharedLogHelper?SharedLogHelper.LogWarning(\"clickEX\",null,y):_w.directLog('[{\"T\":\"CI.Warning\",\"FID\":\"CI\",\"Name\":\"JSWarning\",\"Text\":\"'+y.message+'\"}]',1)}return!0};_w.si_sbwu||(_w.si_sbwu=function(){return!1}),function(){_w._G&&(_G.si_ct_e=\"click\")}();var wlc_d = 1500, wlc_t =63896910433;;var sj_log=function(n,t,i){var r=window.directLog;r&&r(JSON.stringify([{T:n,FID:\"CI\",Name:t,Text:encodeURIComponent(i.replace(/\"/g,\"\")),SDK:\"SJ\"}]),0)};(function(n,t,i){function r(n){var t=n.indexOf(\"#\");return t===-1?n:n.substring(0,t)}function u(){var n=location.href;n.indexOf(\"ajaxserp=0\")==-1&&r(n)!==r(i)&&location.replace(n+\"&ajf=100\")}function f(n){n&&n.length>1&&n[1]&&(i=n[1])}sj_be(n,t,u,!1);var e=\"ajax.state.update\";sj_evt.bind(e,f,1);sj_evt.bind(\"ajaxReady\",function(){sj_ue(n,t,u,!1);sj_evt.unbind(e,f)})})(_w,\"popstate\",location.href);var perf;(function(n){function f(n){return i.hasOwnProperty(n)?i[n]:n}function e(n){var t=\"S\";return n==0?t=\"P\":n==2&&(t=\"M\"),t}function o(n){for(var c,i=[],t={},r,l=0;l<n.length;l++){var a=n[l],o=a.v,s=a.t,h=a.k;s===0&&(h=f(h),o=o.toString(36));s===3?i.push(\"\".concat(h,\":\").concat(o)):(r=t[s]=t[s]||[],r.push(\"\".concat(h,\":\").concat(o)))}for(c in t)t.hasOwnProperty(c)&&(r=t[c],i.push(\"\".concat(e(+c),':\"').concat(r.join(\",\"),'\"')));return i.push(u),i}for(var r=[\"redirectStart\",\"redirectEnd\",\"fetchStart\",\"domainLookupStart\",\"domainLookupEnd\",\"connectStart\",\"secureConnectionStart\",\"connectEnd\",\"requestStart\",\"responseStart\",\"responseEnd\",\"domLoading\",\"domInteractive\",\"domContentLoadedEventStart\",\"domContentLoadedEventEnd\",\"domComplete\",\"loadEventStart\",\"loadEventEnd\",\"unloadEventStart\",\"unloadEventEnd\",\"firstChunkEnd\",\"secondChunkStart\",\"htmlEnd\",\"pageEnd\",\"msFirstPaint\"],u=\"v:1.1\",i={},t=0;t<r.length;t++)i[r[t]]=t;n.compress=o})(perf||(perf={}));window.perf=window.perf||{},function(n){n.log=function(t,i){var r=n.compress(t),u;r.push('T:\"CI.Perf\",FID:\"CI\",Name:\"PerfV2\"');var e=\"/fd/ls/lsp.aspx?\",o=\"sendBeacon\",h=\"<E><T>Event.ClientInst<\\/T><IG>\".concat(_G.IG,\"<\\/IG><TS>\").concat(i,\"<\\/TS><D><![CDATA[{\").concat(r.join(\",\"),\"}]\\]><\\/D><\\/E>\"),s=\"<ClientInstRequest><Events>\".concat(h,\"<\\/Events><STS>\").concat(i,\"<\\/STS><\\/ClientInstRequest>\"),f=!_w.navigator||!navigator[o];if(!f)try{_G.DLPState!=null&&typeof Log!=\"undefined\"&&Log&&Log.LogPerf?Log.LogPerf(\"{\".concat(r.join(\",\"),\"}\")):navigator[o](e,s)}catch(c){f=!0}f&&(_G.DLPState!=null&&typeof Log!=\"undefined\"&&Log&&Log.LogPerf?Log.LogPerf(\"{\".concat(r.join(\",\"),\"}\")):(u=sj_gx(),u.open(\"POST\",e,!0),u.setRequestHeader(\"Content-Type\",\"text/xml\"),u.send(s)))}}(window.perf);var perf;(function(n){function a(){return c(Math.random()*1e4)}function o(){return y?c(f.now())+l:+new Date}function v(n,r,f){t.length===0&&i&&sb_st(u,1e3);t.push({k:n,v:r,t:f})}function p(n){return i||(r=n),!i}function w(n,t){t||(t=o());v(n,t,0)}function b(n,t){v(n,t,1)}function u(){var u,f;if(t.length){for(u=0;u<t.length;u++)f=t[u],f.t===0&&(f.v-=r);t.push({k:\"id\",v:e,t:3});n.log(t,o());t=[];i=!0}}function k(){r=o();e=a();i=!1;sj_evt.bind(\"onP1\",u)}var s=\"performance\",h=!!_w[s],f=_w[s],y=h&&!!f.now,c=Math.round,t=[],i=!1,l,r,e;h?l=r=f.timing.navigationStart:r=_w.si_ST?_w.si_ST:+new Date;e=a();n.setStartTime=p;n.mark=w;n.record=b;n.flush=u;n.reset=k;sj_be(window,\"load\",u,!1);sj_be(window,\"beforeunload\",u,!1)})(perf||(perf={}));_w.si_PP=function(n,t,i){var r,h,e,o,s,l;if(!_G.PPS){for(h=[\"FC\",\"BC\",\"SE\",\"TC\",\"H\",\"BP\",null];r=h.shift();)h.push('\"'+r+'\":'+(_G[r+\"T\"]?_G[r+\"T\"]-_G.ST:-1));var u=_w.perf,c=\"navigation\",r,f=i||_w.performance&&_w.performance.timing;if(f&&u){if(e=f.navigationStart,typeof _w.ajaxNavT==\"number\"&&e<_w.ajaxNavT&&(e=_w.ajaxNavT),u.setStartTime(e),e>=0){for(r in f)o=f[r],typeof o==\"number\"&&o>0&&r!==\"navigationStart\"&&r!==c&&(typeof _w.ajaxloadT==\"number\"&&r===\"loadEventEnd\"&&(o=_w.ajaxloadT),u.mark(r,o));_G.FCT&&u.mark(\"FN\",_G.FCT);_G.BCT&&u.mark(\"BN\",_G.BCT)}u.record(\"nav\",c in f?f[c]:performance[c].type)}s=\"connection\";l=\"\";_w.navigator&&navigator[s]&&(l=',\"net\":\"'.concat(navigator[s].type,'\"'),navigator[s].downlinkMax&&(l+=',\"dlMax\":\"'.concat(navigator[s].downlinkMax,'\"')));_G.PPImg=new Image;_G.PPImg.src=_G.lsUrl+'&Type=Event.CPT&DATA={\"pp\":{\"S\":\"'+(t||\"L\")+'\",'+h.join(\",\")+',\"CT\":'+(n-_G.ST)+',\"IL\":'+_d.images.length+\"}\"+(_G.C1?\",\"+_G.C1:\"\")+l+\"}\"+(_G.P?\"&P=\"+_G.P:\"\")+(_G.DA?\"&DA=\"+_G.DA:\"\")+(_G.MN?\"&MN=\"+_G.MN:\"\")+\"&dl=5\";_G.PPS=1;sb_st(function(){u&&u.flush();sj_evt.fire(\"onPP\");sj_evt.fire(_w.p1)},1)}};_w.onbeforeunload=function(){si_PP(new Date,\"A\")};sj_evt.bind(\"ajax.requestSent\",function(){window.perf&&perf.reset()});var RightRailMetricModule;(function(){var n,i,t;typeof _w.isFRPEvaluated==\"undefined\"&&(_w.isFRPEvaluated=!1);typeof _w.isRightRailPaintEvaluated==\"undefined\"&&(_w.isRightRailPaintEvaluated=!1);typeof PerformanceObserver!=\"undefined\"&&typeof PerformanceObserver==\"function\"&&(i=PerformanceObserver.supportedEntryTypes||[],i.indexOf(\"element\")>=0&&(t=new PerformanceObserver(function(n){n.getEntries().forEach(function(n){var r,i,u,f;typeof _w.frpPreviousEntry==\"undefined\"&&(_w.frpPreviousEntry=n);((r=n===null||n===void 0?void 0:n.identifier)===null||r===void 0?void 0:r.length)>0&&(i=n.identifier,i.startsWith(\"frp\")&&i!==\"frp.SearchBox\"&&(u=Math.round(Math.min(_w.frpPreviousEntry.renderTime,n.renderTime)),_G.frp=u,_w.perf&&!_w.isFRPEvaluated&&(_w.perf.record&&_w.perf.record(\"FRP\",u),_w.isFRPEvaluated=!0)),i===\"RightRailPaint\"&&(f=Math.round(n.renderTime),_G.RightRailPaint=f,_w.perf&&!_w.isRightRailPaintEvaluated&&(_w.perf.record&&_w.perf.record(\"RightRailPaint\",f),_w.isRightRailPaintEvaluated=!0)),_w.isFRPEvaluated&&_w.isRightRailPaintEvaluated&&t.disconnect())})}),t.observe({entryTypes:[\"element\"]})));typeof _G!=\"undefined\"&&((n=_G===null||_G===void 0?void 0:_G.EF)===null||n===void 0?void 0:n.rightRailJsOptCFLog)===1&&typeof Log!=\"undefined\"&&Log&&Log.LogFilterFlare&&Log.LogFilterFlare([\"rightRailJsOptCFLog\"])})(RightRailMetricModule||(RightRailMetricModule={}));var SystemEntropySERPModule;(function(){var n,t;((t=(n=performance.getEntriesByType(\"navigation\"))===null||n===void 0?void 0:n[0])===null||t===void 0?void 0:t.systemEntropy)&&window.perf.record(\"systemEntropy\",performance.getEntriesByType(\"navigation\")[0].systemEntropy)})(SystemEntropySERPModule||(SystemEntropySERPModule={}));(function(){var n,t;((t=(n=performance.getEntriesByType(\"navigation\"))===null||n===void 0?void 0:n[0])===null||t===void 0?void 0:t.confidence)&&(perf===null||perf===void 0?void 0:perf.record(\"confidence\",performance.getEntriesByType(\"navigation\")[0].confidence.value))})();var BM=BM||{};BM.rules={\".b_scopebar\":[0,0,0],\".b_logo\":[-1,-1,0],\".b_searchboxForm\":[100,40,0],\"#id_h\":[-1,0,0],\"#b_content\":[-1,-1,1],\".b_footer\":[0,-1,0],\"#b_notificationContainer\":[-1,-1,0],\"#ajaxMaskLayer\":[-1,-1,0],\"img,div[data-src]\":[-1,-1,0],iframe:[-1,-1,0]};var BM=BM||{};(function(n){function u(n,u){n in t||(t[n]=[]);!u.compute||n in r||(r[n]=u.compute);!u.unload||n in i||(i[n]=u.unload);u.load&&u.load()}function f(n,i){t[n].push({t:h(),i:i})}function e(n){return n in i&&i[n](),n in t?t[n]:void 0}function o(){for(var n in r)r[n]()}function s(){for(var n in t)t[n]=[];i={};r={}}function h(){return window.performance&&performance.now?Math.round(performance.now()):new Date-window.si_ST}var t={},i={},r={};n.wireup=u;n.enqueue=f;n.dequeue=e;n.trigger=o;n.resetQueue=s})(BM||(BM={}));(function(n){function i(){var i=document.documentElement,r=document.body,u=\"innerWidth\"in window?window.innerWidth:i.clientWidth,f=\"innerHeight\"in window?window.innerHeight:i.clientHeight,e=window.pageXOffset||i.scrollLeft,o=window.pageYOffset||i.scrollTop,s=document.visibilityState||\"default\";n.enqueue(t,{x:e,y:o,w:u,h:f,dw:r.clientWidth,dh:r.clientHeight,v:s})}var t=\"V\";n.wireup(t,{load:null,compute:i,unload:null})})(BM);(function(n){function i(){var e,o,u,s,f,r;if(document.querySelector&&document.querySelectorAll){e=[];o=n.rules;for(u in o)for(s=o[u],u+=!s[2]?\"\":\" >*\",f=document.querySelectorAll(u),r=0;r<f.length;r++){var i=f[r],h=0,c=0,l=i.offsetWidth,a=i.offsetHeight;do h+=i.offsetLeft,c+=i.offsetTop;while(i=i.offsetParent);e.push({_e:f[r],x:h,y:c,w:l,h:a})}n.enqueue(t,e)}}var t=\"L\";n.wireup(t,{load:null,compute:i,unload:null})})(BM);(function(n){function f(){u(sj_be,r)}function e(){return}function r(i){return i&&n.enqueue&&n.enqueue(t,i),!0}function o(){u(sj_ue,r)}function u(n,t){for(var u,r=0;r<i.length;r++)u=i[r],n(u===\"resize\"?window:document,window.navigator.pointerEnabled?u.replace(\"mouse\",\"pointer\"):u,t,!1)}var t=\"EVT\",i=[\"click\",\"mousedown\",\"mouseup\",\"touchstart\",\"touchend\",\"mousemove\",\"touchmove\",\"scroll\",\"keydown\",\"resize\"];n.wireup&&n.wireup(t,{load:f,compute:e,unload:o})})(BM);FallBackToDefaultProfilePic = function (e) { var new_element = document.createElement('span'); new_element.setAttribute('id', 'id_p'); new_element.setAttribute('class', 'sw_spd id_avatar'); new_element.setAttribute('aria-label', \"預設設定檔圖片\"); new_element.setAttribute('role', 'link'); var p = e.parentNode; p && p.replaceChild(new_element, e); };var _d,sb_de;typeof _d==\"undefined\"&&(_d=document);sb_de=_d.documentElement;\n",
       " //]]></script>,\n",
       " <script nonce=\"CZILAxNck2OhDPiJPq78Mm+KckEg07o1OjzdS2cGNUA=\" type=\"text/javascript\">//<![CDATA[\n",
       " _G.RawUrl =\"https://www.bing.com:443/images/search?q=elon+musk\\u0026form=HDRSC3\\u0026first=1\";;var sj_b=_d.body;(function(){var n=window.onerror;window.jserrors=[];window.onerror=function(t,i,r,u,f){window.jserrors.push({timestamp:(new Date).toLocaleString(),message:t,source:i,line:r,col:u,stack:f&&typeof f==\"object\"&&typeof f.stack==\"string\"?f.stack:\"No stack trace available\"});n&&n(t,i,r,u,f)}})(),function(){var n=window.onunhandledrejection;window.promiseerrors=[];window.onunhandledrejection=function(t){window.promiseerrors.push({timestamp:(new Date).toLocaleString(),reason:t.reason,promise:t.promise});n&&n(t)}}();sj_evt.bind(\"ErrorInstrumentation\",function(n){var t=_ge(\"js_err_div\"),i,r;t||(t=sj_ce(\"div\",\"js_err_div\"),t.style.height=\"0px\",t.style.width=\"0px\",t.style.overflow=\"hidden\",sj_b.appendChild(t));i=n[1];n[2]&&(i=JSON.stringify(n[2]),n[2].c||(n[3]===1?console.error(i):n[3]===2&&console.warn(i)));n[2]&&n[3]!==1||(r=document.createTextNode(i),t.appendChild(r))},1);(function(n){var i,r,t;if(document.querySelector){i=[];r=\"ad\";function u(){var w=sb_gt(),l=document.documentElement,h=document.body,u=0,n=-1,b=l.clientHeight,a=[\"#b_results .\"+_G.adc,\".sb_adsWv2\",\".ads\",\"#b_topw .\"+_G.adc],t,f,o,p,c,s,r;if(h){t=0;f=document.querySelector(\"#b_pole .b_PolePAContainer\");f&&(t=f.offsetHeight,n=f?f.offsetTop:n);var v=document.querySelector(\"#b_results #productAdCarousel\"),e=document.querySelector(\"#b_results .pa_b_supertop\"),y=document.querySelector(\"#b_results .bn_wide\");for(e?(n=e?e.offsetTop:n,t=e.offsetHeight):y?t+=y.offsetHeight:v&&(t+=v.offsetHeight),u=t,o=0;o<a.length;o++)for(p=a[o],c=document.querySelectorAll(p),s=0;s<c.length;s++)r=c[s],r&&r.className.indexOf(\"b_adTop\")!==-1&&(u+=r.offsetHeight,n===-1&&(n=r?r.offsetTop:-1));u===0&&(u=-1);i=[n,u,l.clientWidth,b,h.offsetWidth,h.offsetHeight,sb_gt()-w]}}n?(t=n.onbeforefire,n.onbeforefire=function(){t&&t();u();n.mark(r,i)}):(t=si_PP,si_PP=function(){u();var n='\"'+r+'\":['+i.join()+\"]\";_G.C1=_G.C1?_G.C1+\",\"+n:n;t.apply(null,[].slice.apply(arguments))})}})(_w.pp);_w.AM=[\"live.com\",\"azureedge.net\",\"virtualearth.net\",\"windows.net\",\"onenote\",\"hexun.com\",\"dict.bing.com.cn\",\"msn.com\",\"variflight.com\",\"bing.net\",\"msftoffers.com\",\"chinacloudapp.cn\",\"cbsnews.com\",\"swx.cdn.skype.com\",\"swc.cdn.skype.com\",\"latest-swx.cdn.skype.com\",\"a.config.skype.com\",\"b.config.skype.com\",\"platform.bing.com\",\"microsofttranslator.com\",\"bing.com\",\"facebook.net\",\".delve.office.com\",\".uservoice.com\",\".cdn.office.net\",\"platform.twitter.com\",\"cdn.syndication.twimg.com\",\"spoprod-a.akamaihd.net\",\"bingstatic.com\",\"yahoo.co.jp\",\"youtube.com\",\"ytimg.com\",\"r.msftstatic.com\",\"rafd.bing.com\",\"rafd.staging-bing-int.com\",\"raka.bing.com\",\"r.bing.com\",\"r.staging-bing-int.com\",\"raka.staging-bing-int.com\",\"rcf.staging-bing-int.com\",\"rcf.bing.com\",\"s.cn.bing.net\",\"xpaycdn-int.azureedge.net\",\"xpaycdn.azureedge.net\",\"ssl.kaptcha.com\",\"tst.kaptcha.com\",\"snrproxy.binginternal.com\",\"snrproxyeast.binginternal.com\",\"snrproxync.binginternal.com\",\"snrproxysc.binginternal.com\",\"snrproxywest.binginternal.com\",\"cetonc.binginternal.com\",\"cetosc.binginternal.com\",\"cetoeast.binginternal.com\",\"cetowest.binginternal.com\",\"akam.bing.com\",\"akam.staging-bing-int.com\",\"ewlmaakam.staging-bing-int.com\",\"akamproxyeast.staging-bing-int.com\",\"akamproxync.staging-bing-int.com\",\"akamproxysc.staging-bing-int.com\",\"akamproxywest.staging-bing-int.com\",\"cfproxync.staging-bing-int.com\",\"cfproxyeast.staging-bing-int.com\",\"cfproxywest.staging-bing-int.com\",\"cjfdbemmaeeohgibnhdhlakiahifjjcf\",\"ewlmaakam.staging-bing-int.com\",\"bngpiglbalmenaabohcooocpnljgfemj\",\"rwww.bing.com\",\"vlscppe.microsoft.com\",\"ov-df.microsoft.com\",\"content.lifecycle.officeppe.net\",\"content.lifecycle.office.net\",\"pmservices.cp.microsoft.com\",\"paymentinstruments.mp.microsoft.com\",\"paymentinstruments-int.mp.microsoft.com\",\"edge.payments.microsoft.com\",\"uniblends.www.microsoft.com\",\"login.microsoftonline.com\",\"login.live.com\",\"fpt.microsoft.com\",\"cdn.fluidpreview.office.net\",\"microsoft-api.arkoselabs.com\",\"msn.cn\",\"challenges.cloudflare.com\"];(function(){function t(t,i){var u=t.tagName;return(u===\"SCRIPT\"&&(n.href=t.src)||u===\"OBJECT\"&&t.type&&t.type.indexOf(\"flash\")>0&&(n.href=t.data))&&n.href.length>0&&n.hostname.length>0&&n.hostname!==location.hostname&&!e(n.hostname)?(sj_log(\"CI.AntiMalware\",i,u.substr(0,1)+\":\"+n.href.substr(0,r)),!1):(t.getAttribute&&(t.getAttribute(\"data-rms\")||t.getAttribute(\"data-bing-script\"))&&t.setAttribute(\"nonce\",o),!0)}function e(n){for(var t=0;t<i.length;t++)if(n.indexOf(i[t])>=0)return!0;return!1}var i=_w.AM,r=100,n=document.createElement(\"A\"),o=_G.IG.substr(0,6),u,f;document.write=function(n){n.length>0&&sj_log(\"CI.AntiMalware\",\"DW\",n.substr(0,r))};typeof Element!=\"undefined\"&&Element.prototype&&(u=Element.prototype.appendChild,Element.prototype.appendChild=function(n){return t(n,\"AC\")?u.apply(this,arguments):null},f=Element.prototype.insertBefore,Element.prototype.insertBefore=function(n){return t(n,\"IB\")?f.apply(this,arguments):null})})();var BMTrigger;(function(n){function t(){_G!==undefined&&_G.EF!==undefined&&_G.EF.bmasynctrigger===1&&window.requestAnimationFrame!==undefined&&document.visibilityState!==undefined&&document.visibilityState===\"visible\"?requestAnimationFrame(function(){_G.EF.bmasynctrigger2===1?requestAnimationFrame(function(){BM.trigger()}):_G.EF.bmasynctrigger3===1?requestAnimationFrame(function(){setTimeout(function(){BM.trigger()},0)}):setTimeout(function(){BM.trigger()},0)}):BM.trigger()}n.execute=t})(BMTrigger||(BMTrigger={}));BMTrigger.execute();var SB_Config ={\"enableinlineSB\":false,\"enableSERPASSB\":false};;var Identity; (function(Identity) { Identity.sglid =false; Identity.orgIdPhotoUrl =\"https://business.bing.com/api/v3/search/person/photo?caller=IP\\u0026id={0}\"; Identity.setLoginPreference =false; Identity.isExplicitMsaSignIn =false; })(Identity || (Identity = {}));;window.data_iid = \"images.5129\";;var DynScopesDropdownRE;(function(n){function v(n,t,r,e,s,h,c){var a,v,l,b;u||(i=n,f=e,o=c,sj_evt.fire(\"dynamicscopesrearranging\",t),o||(_w.sj_log&&sj_log(\"CI.HeaderScopeOrder\",\"ScopeMapOrderValue\",t||\"\"),w(t,n,s,h),nt(r)),sj_evt.bind(\"onP1\",p),((a=_G===null||_G===void 0?void 0:_G.EF)===null||a===void 0?void 0:a.logforctl)===1&&(l=_ge(\"b_header\"),b=l===null||l===void 0?void 0:l.querySelector(\".b_logoArea\"),sj_be(b,\"click\",y)),u=!0,((v=_G===null||_G===void 0?void 0:_G.EF)===null||v===void 0?void 0:v.scopeJsOptCFLog)===1&&typeof Log!=\"undefined\"&&Log&&Log.LogFilterFlare&&Log.LogFilterFlare([\"scopeJsOptCFLog\"]))}function y(){var n=\"WebLogoClick\";document.querySelector(\"cib-serp[mode='conversation']\")&&(n=\"ConversationLogoClick\");_w.sj_log&&sj_log(\"CI.HeaderMSLogo\",n,(_G===null||_G===void 0?void 0:_G.V)||\"other\")}function p(){if(sj_cook&&sj_cook.set&&sj_cook.clear){var n=\"dsc\";sj_cook.clear(n,\"/\");i&&sj_cook.set(n,\"order\",i,!1,\"/\")}}function w(n,t,i,r){var c=tt(),e,o,s,h,u;if(c){if(e=rt(c),b(e,i,r),n){var a=n.split(\",\"),v=e.length,l=[],y=[];for(u=0;u<a.length;u++)o=a[u].split(\":\"),o&&o.length==2&&(s=parseInt(o[0]),h=parseInt(o[1]),s<v&&h<v&&(l[h]=e[s].innerHTML,y[h]=e[s].id));for(u=0;u<l.length;u++)e[u].innerHTML=l[u],e[u].id=y[u]}f&&k(e);c.className=\"\"}}function b(n,t,i){var r,u;if(i)t?sessionStorage.setItem(\"RealEstateQuery\",t):sessionStorage.removeItem(\"RealEstateQuery\");else if(t)for(r=0;r<n.length;r++)n[r].id===a&&(u=n[r].innerHTML,n[r].innerHTML=u.replace(/href=\"[^\"]*\"/,'href=\"https://www.bing.com/homes/map?q='+t+'&FORM=000060\"'))}function k(n){for(var i,u,f,t=0;t<n.length;t++)if(n[t].id===c||n[t].id===l){i=n.length-1;e&&r>0&&(i=r-1);t!=i&&(u=n[t].innerHTML,f=n[t].id,t<i?d(n,t,i):g(n,i,t),n[i].innerHTML=u,n[i].id=f,sj_evt.fire(\"dynamicchatscoperelocate\"));break}}function d(n,t,i){for(var r=t;r<i;r++)n[r].innerHTML=n[r+1].innerHTML,n[r].id=n[r+1].id}function g(n,t,i){for(var r=i;r>t;r--)n[r].innerHTML=n[r-1].innerHTML,n[r].id=n[r-1].id}function nt(n){var e,o,h,u,c,l,f,a,r,i;if(n&&(h=n.split(\":\"),u=it(),(e=u===null||u===void 0?void 0:u.children)===null||e===void 0?void 0:e.length))for(c=u.children,l=s(),f=0;f<h.length;f++){for(a=t+h[f],r=0;r<c.length;r++)if(i=c[r],i.id===a){u.removeChild(i);break}for(r=0;r<l.length;r++)if(i=l[r],i.id===a){(o=i===null||i===void 0?void 0:i.parentElement)===null||o===void 0?void 0:o.removeChild(i);break}}}function tt(){var n=_d.querySelectorAll(\".b_scopebar > .b_scopehide\");return n&&n.length>0?n[0]:null}function it(){var n=_d.querySelectorAll(\".b_scopebar\");return(n===null||n===void 0?void 0:n.length)?n[0].firstChild:null}function rt(n){for(var f,i=[],u=n.children,t=0;t<u.length;t++)u[t].id===h?(r=t,f=s(),i.push.apply(i,f),e=!0):i.push(u[t]);return i}function s(){var n=_d.querySelectorAll(\".b_scopebar #b-scopeListItem-menu .b_sp_over_menu .b_scopebar_item\");return Array.prototype.slice.call(n)}var u=!1,i,f=!1,e=!1,r=-1,o=!1,t=\"b-scopeListItem-\",h=t+\"menu\",c=t+\"conv\",l=t+\"convups\",a=t+\"realestate\";n.init=v})(DynScopesDropdownRE||(DynScopesDropdownRE={}));_G.AppVer=\"61683481\";_G.AppVer=\"61683481\";;\n",
       " //]]></script>,\n",
       " <script nonce=\"CZILAxNck2OhDPiJPq78Mm+KckEg07o1OjzdS2cGNUA=\" type=\"text/javascript\">//<![CDATA[\n",
       " \n",
       " _G.FCT=new Date;\n",
       " \n",
       " //]]></script>,\n",
       " <script nonce=\"CZILAxNck2OhDPiJPq78Mm+KckEg07o1OjzdS2cGNUA=\" type=\"text/javascript\">//<![CDATA[\n",
       " \n",
       " _G.BCT=new Date;\n",
       " \n",
       " //]]></script>,\n",
       " <script nonce=\"CZILAxNck2OhDPiJPq78Mm+KckEg07o1OjzdS2cGNUA=\" type=\"text/javascript\">//<![CDATA[\n",
       " var Bing=Bing||{};Bing.Core=Bing.Core||function(n){var t=function(t,i){for(var e=t.split(\".\"),r=n,u,f=0;f<e.length;f+=1){if(u=e[f],typeof r[u]==\"undefined\")if(i)r[u]={};else return null;r=r[u]}return r},r=function(n){return t(n,!0)},u=function(n,t){var i;t=t||{};for(i in n)n.hasOwnProperty(i)&&(t[i]=n[i]);return t},i=function(n,t,i,r){var u=n[t];u&&u instanceof Object&&(n[t]=i[r])},f=function(n,t){if(n&&t)for(var r in n)n.hasOwnProperty(r)&&t.hasOwnProperty(r)&&i(n,r,t,r);return t},e=function(n){return t(n,!1)};return{namespace:r,use:e,extend:u,redirectProperty:i,redirect:f}}(this);define(\"cookies\",[\"require\",\"exports\"],function(n,t){function a(){var n=location.protocol===\"https:\";return n?\";secure\":\"\"}function v(){return typeof _G!=\"undefined\"&&_G.EF!==undefined&&_G.EF.cookss!==undefined&&_G.EF.cookss===1}function f(){if(typeof _G!=\"undefined\"&&_G.EF!==undefined&&_G.EF.emptyclientcookdom!==undefined&&(_G===null||_G===void 0?void 0:_G.EF.emptyclientcookdom)==1)return\"\";var n=location.hostname.match(/([^.]+\\.[^.]*)$/);return n?\";domain=\"+n[0]:\"\"}function e(n,t,i,r,u){var s=f(),h=r&&r>0?r*6e4:63072e6,c=new Date((new Date).getTime()+Math.min(h,63072e6)),e=\"\",o;v()&&(o=a(),e=o+(u?\";SameSite=\"+u:\";SameSite=None\"));document.cookie=n+s+(t?\";expires=\"+c.toGMTString():\"\")+(i?\";path=\"+i:\"\")+e}function o(n,t,r,u,f){if(!i){var o=n+\"=\"+t;e(o,r,u,f)}}function s(){return!i}function r(n,t){var r,u;return i?null:(r=document.cookie.match(new RegExp(\"\\\\b\"+n+\"=[^;]+\")),t&&r)?(u=r[0].match(new RegExp(\"\\\\b\"+t+\"=([^&]*)\")),u?u[1]:null):r?r[0]:null}function h(n,t,u,f,o,s){var l,h,c,a;i||(h=t+\"=\"+u,c=r(n),c?(a=r(n,t),l=a!==null?c.replace(t+\"=\"+a,h):c+\"&\"+h):l=n+\"=\"+h,e(l,f,o,s))}function c(n,t){if(!i){var r=n+\"=\",e=f();document.cookie=r+e+\";expires=\"+u+(t?\";path=\"+t:\"\")}}var i,u,l;t.__esModule=!0;t.clear=t.set=t.get=t.areCookiesAccessible=t.setNoCrumbs=void 0;i=!1;u=new Date(0).toGMTString();try{l=document.cookie}catch(y){i=!0}t.setNoCrumbs=o;t.areCookiesAccessible=s;t.get=r;t.set=h;t.clear=c;window.sj_cook={get:r,set:h,setNoCrumbs:o,clear:c,areCookiesAccessible:s}});\n",
       " //]]></script>,\n",
       " <script nonce=\"CZILAxNck2OhDPiJPq78Mm+KckEg07o1OjzdS2cGNUA=\" type=\"text/javascript\">//<![CDATA[\n",
       " if (typeof DynScopesDropdownRE !== 'undefined') { DynScopesDropdownRE.init(\"\", \"\", \"marketplace\", true, \"\", false, false); } else if (typeof DynScopesDropdown !== 'undefined') { DynScopesDropdown.init(\"\", \"\", \"marketplace\", true, false); };var SmartEvent;(function(n){function o(n,i,r,u,f){u===void 0&&(u=!0);f===void 0&&(f=!1);sj_be(n,i,r,f);t.push({el:n,evt:i,h:r,baj:u})}function s(n,i,r,u,f){r===void 0&&(r=!0);sj_evt.bind(n,i,u,f);t.push({evt:n,h:i,baj:r})}function u(){e(!1)}function f(){e(!0);sj_ue(_w,i,f);sj_evt.unbind(r,u)}function e(n){for(var i,u,f=[],r=0;r<t.length;++r)i=t[r],n||i.baj?(u=i.el,u?sj_ue(u,i.evt,i.h):sj_evt.unbind(i.evt,i.h)):f.push(i);t=f}var i=\"unload\",r=\"ajax.unload\",t=[];n.bind=o;n.bindc=s;sj_be(_w,i,f);sj_evt.bind(r,u)})(SmartEvent||(SmartEvent={}));var DisplayType,SwipeDirection,Bing;(function(n){n[n.None=0]=\"None\";n[n.Block=1]=\"Block\";n[n.InlineBlock=2]=\"InlineBlock\";n[n.Inline=3]=\"Inline\";n[n.Default=4]=\"Default\"})(DisplayType||(DisplayType={})),function(n){n[n.Undefined=0]=\"Undefined\";n[n.Horizontal=1]=\"Horizontal\";n[n.Vertical=2]=\"Vertical\"}(SwipeDirection||(SwipeDirection={}));Bing=Bing||{};var pMMUtils=pMMUtils||{},MMUtilsStyle;(function(n){function w(n){if(typeof n==\"number\")return!0;if(typeof n==\"string\"){var t=n[n.length-1];return t>=\"0\"&&t<=\"9\"}return!1}function e(n){return n instanceof HTMLElement}function f(n){return _w.getComputedStyle?_w.getComputedStyle(n,null):n.currentStyle}function b(n,t){var i=\"\";return _d.defaultView&&_d.defaultView.getComputedStyle?i=_d.defaultView.getComputedStyle(n,\"\").getPropertyValue(t):n.currentStyle&&(t=t.replace(/\\-(\\w)/g,function(n,t){return t.toUpperCase()}),i=n.currentStyle[t]),i}function k(n,t,r,u){var e=0,o=0,s,f,h,c;if(n){if(t){f=n;do e+=f.offsetLeft,o+=f.offsetTop;while((f=f.offsetParent)&&f!=u);s=sj_b.clientWidth}else h=i(n,\"left\"),c=i(n,\"top\"),e=h.length>0?parseInt(h):n.offsetLeft,o=c.length>0?parseInt(c):n.offsetTop,s=n.offsetParent.clientWidth;r&&_G.RTL&&(e=s-e-n.clientWidth)}return[e,o]}function d(n){return n.offsetHeight}function g(n){return n.offsetTop}function nt(n){return n.offsetWidth}function tt(n){return i(n,\"opacity\")}function it(n){return i(n,\"overflowX\")}function rt(n){return i(n,\"overflowY\")}function ut(n){var r=_G.RTL?i(n,\"right\"):i(n,\"left\"),t=parseFloat(r);return(r.indexOf(\"%\")>0||isNaN(t))&&(t=parseFloat(_G.RTL?f(n).right:f(n).left),t=isNaN(t)?0:t),t}function ft(n){var r=_G.RTL?i(n,\"left\"):i(n,\"right\"),t=parseFloat(r);return(r.indexOf(\"%\")>0||isNaN(t))&&(t=parseFloat(_G.RTL?f(n).left:f(n).right),t=isNaN(t)?0:t),t}function et(n){return parseInt(i(n,c))}function ot(n){return parseInt(i(n,h))}function i(n,t){if(e(n)){var i=n.style;return i[t]}return\"\"}function st(n){return _G.RTL?n.offsetParent.offsetWidth-n.offsetLeft:n.offsetLeft}function ht(n,i){t(n,\"backgroundColor\",i)}function ct(n,t){r(n,\"bottom\",t)}function l(n,i){t(n,\"display\",i)}function lt(n,t){var i;switch(t){case DisplayType.None:i=\"none\";break;case DisplayType.Block:i=\"block\";break;case DisplayType.InlineBlock:i=\"inline-block\";break;case DisplayType.Inline:i=\"inline\";break;default:i=\"\"}l(n,i)}function at(n,t){r(n,c,t)}function s(n,t){r(n,\"left\",t)}function a(n,t){r(n,\"marginLeft\",t)}function v(n,t){r(n,\"marginRight\",t)}function vt(n,i){t(n,\"marginTop\",i+u)}function yt(n,t){r(n,\"maxWidth\",t)}function pt(n,t){n&&r(n,\"maxHeight\",t)}function wt(n,t){n&&r(n,\"minHeight\",t)}function bt(n,i){n&&e(n)&&(t(n,\"opacity\",i),n.style.filter=\"alpha(opacity=\"+i*100+\")\")}function kt(n,i){t(n,\"overflow\",i)}function dt(n,i){t(n,\"overflowX\",i)}function gt(n,i){t(n,\"overflowY\",i)}function ni(n,t,i){s(n,t);p(n,i)}function ti(n){t(n,\"position\",\"absolute\")}function y(n,t){r(n,\"right\",t)}function ii(n,t){_G.RTL?y(n,t):s(n,t)}function ri(n,t){_G.RTL?v(n,t):a(n,t)}function ui(n,i){t(n,\"msScrollLimitXMax\",i)}function fi(n,i){t(n,\"msScrollLimitXMin\",i)}function ei(n,i){t(n,\"msScrollLimitYMax\",i)}function oi(n,i){t(n,\"msScrollLimitYMin\",i)}function si(n,t,i){if(e(n)){var r=n.style;r.width=t+u;r.height=i+u}}function t(n,t,i){if(e(n)){var r=n.style;r[t]!==i&&(r[t]=i)}}function r(n,i,r){w(r)?t(n,i,r+u):t(n,i,r)}function p(n,t){r(n,\"top\",t)}function o(n,i){t(n,\"-ms-transform\",i);t(n,\"-webkit-transform\",i);t(n,\"-moz-transform\",i);t(n,\"-o-transform\",i);t(n,\"transform\",i)}function hi(n,t){var i=\"rotate(\"+t+\"deg)\";o(n,i)}function ci(n,i){var r=i+\"ms\";t(n,\"-webkit-transition-duration\",r);t(n,\"-moz-transition-duration\",r);t(n,\"-o-transition-duration\",r);t(n,\"transition-duration\",r)}function li(n,t,i,r){var f=\"translate3d(\"+t+u+\",\"+i+u+\",\"+r+u+\")\";o(n,f)}function ai(n,t){var i=\"translateX(\"+t+u+\")\";o(n,i)}function vi(n,i){t(n,\"visibility\",i)}function yi(n,t){r(n,h,t)}function pi(n,i){t(n,\"zIndex\",i)}function wi(){return!_w||!_w.screen||!_d?0:_d.documentElement.clientWidth&&_d.documentElement.clientWidth>0?_d.documentElement.clientWidth:_w.innerWidth&&_w.innerWidth>0?_w.innerWidth:_w.screen.width}function bi(){return!_w||!_w.screen||!_d?0:_d.documentElement.clientHeight&&_d.documentElement.clientHeight>0?_d.documentElement.clientHeight:_w.innerHeight&&_w.innerHeight>0?_w.innerHeight:_w.screen.width}var u=\"px\",h=\"width\",c=\"height\";n.sd=l;n.sdt=lt;n.sbc=ht;n.sh=at;n.sml=a;n.smr=v;n.smt=vt;n.rtlsml=ri;n.sov=kt;n.sovx=dt;n.sovy=gt;n.sv=vi;n.szi=pi;n.stf=o;n.stx=ai;n.st3d=li;n.std=ci;n.sz=si;n.ss=t;n.so=bt;n.sp=ni;n.spa=ti;n.st=p;n.sb=ct;n.sl=s;n.rtlsl=ii;n.sr=y;n.ssxmi=fi;n.ssxma=ui;n.ssymi=oi;n.ssyma=ei;n.smw=yt;n.smh=pt;n.sminh=wt;n.sw=yi;n.gs=i;n.grtlol=st;n.grtlsl=ut;n.grtlsr=ft;n.gsw=ot;n.gsh=et;n.gcs=f;n.go=k;n.goh=d;n.got=g;n.gow=nt;n.gop=tt;n.gcsv=b;n.govx=it;n.govy=rt;n.str=hi;n.gcw=wi;n.gch=bi;pMMUtils.sd=n.sd;pMMUtils.sdt=n.sdt;pMMUtils.sbc=n.sbc;pMMUtils.sh=n.sh;pMMUtils.sml=n.sml;pMMUtils.smr=n.smr;pMMUtils.smt=n.smt;pMMUtils.rtlsml=n.rtlsml;pMMUtils.sov=n.sov;pMMUtils.sovx=n.sovx;pMMUtils.sovy=n.sovy;pMMUtils.sv=n.sv;pMMUtils.szi=n.szi;pMMUtils.stf=n.stf;pMMUtils.stx=n.stx;pMMUtils.st3d=n.st3d;pMMUtils.std=n.std;pMMUtils.sz=n.sz;pMMUtils.ss=n.ss;pMMUtils.so=n.so;pMMUtils.sp=n.sp;pMMUtils.spa=n.spa;pMMUtils.st=n.st;pMMUtils.sb=n.sb;pMMUtils.sl=n.sl;pMMUtils.rtlsl=n.rtlsl;pMMUtils.sr=n.sr;pMMUtils.ssxmi=n.ssxmi;pMMUtils.ssxma=n.ssxma;pMMUtils.ssymi=n.ssymi;pMMUtils.ssyma=n.ssyma;pMMUtils.smw=n.smw;pMMUtils.smh=n.smh;pMMUtils.sminh=n.sminh;pMMUtils.sw=n.sw;pMMUtils.gs=n.gs;pMMUtils.grtlol=n.grtlol;pMMUtils.grtlsl=n.grtlsl;pMMUtils.grtlsr=n.grtlsr;pMMUtils.gsw=n.gsw;pMMUtils.gsh=n.gsh;pMMUtils.gcs=n.gcs;pMMUtils.go=n.go;pMMUtils.goh=n.goh;pMMUtils.got=n.got;pMMUtils.gow=n.gow;pMMUtils.gop=n.gop;pMMUtils.gcsv=n.gcsv;pMMUtils.govx=n.govx;pMMUtils.govy=n.govy;pMMUtils.str=n.str;pMMUtils.gcw=n.gcw;pMMUtils.gch=n.gch})(MMUtilsStyle||(MMUtilsStyle={}));var pMMUtils=pMMUtils||{},MMUtilsDom;(function(n){function e(n,t){return n&&n.getAttribute?n.getAttribute(t):null}function h(n,t){return n.hasAttribute?n.hasAttribute(t):typeof n[t]!=\"undefined\"}function c(n,t,i){n.setAttribute&&n.setAttribute(t,i)}function y(n,t){n.appendChild(t)}function p(n,t){n.removeChild(t)}function w(n,t,i){i?n.insertBefore(t,i):n.insertBefore(t)}function b(n,t,i){n.lastchild==i?n.appendChild(t):n.insertBefore(t,i.nextSibling)}function l(n,t){return n.removeAttribute(t)}function k(n){return n.innerHTML}function d(n,t){n.innerHTML=t}function g(n,t){n.innerText=t}function nt(n,i,r,u){for(;n&&n!==document;n=n.parentNode)if(n.tagName===i&&(!r||t(n,r))&&(!u||n.id===u))return n;return null}function t(n,t){for(var f=u(n),r=f.split(\" \"),e=r.length,i=0;i<e;i++)if(r[i]==t)return!0;return!1}function o(n,t){var a=u(n),s=a.split(\" \"),h=r(s),o,e,c,l,i;if(t.indexOf(\" \")>=0){for(e=t.split(\" \"),r(e),i=0;i<h;i++)c=e.indexOf(s[i]),c>=0&&e.splice(c,1);e.length>0&&(o=e.join(\" \"))}else{for(l=!1,i=0;i<h;i++)if(s[i]===t){l=!0;break}l||(o=t)}return o&&(h>0&&s[0].length>0?f(n,a+\" \"+o):f(n,o)),n}function tt(n,t){var r,i;if(n==null||t==null)return-1;if(n.indexOf)return n.indexOf(t);for(r=n.length,i=0;i<r;i++)if(n[i]==t)return i;return-1}function i(n,t){var s=u(n),o,h,c,i,l,e;if(t.indexOf(\" \")>=0)o=t.split(\" \"),h=r(o);else{if(s.indexOf(t)<0)return n;o=[t];h=1}for(i=s.split(\" \"),l=r(i),e=l-1;e>=0;e--)tt(o,i[e])>=0&&(i.splice(e,1),c=!0);return c&&f(n,i.join(\" \")),n}function r(n){for(var i=n.length,t=i-1;t>=0;t--)n[t]||(n.splice(t,1),i--);return i}function u(n){if(!n)return\"\";var t=n.className||\"\";return typeof t==\"string\"?t:t.baseVal||\"\"}function f(n,t){var i=n.className||\"\";return typeof i==\"string\"?n.className=t:n.className.baseVal=t,n}function s(n,i){var u=i||document,f,e,o,r,s;if(u.getElementsByClassName)return u.getElementsByClassName(n);for(f=u.getElementsByTagName(\"*\"),e=[],r=0,s=f.length;r<s;r++)o=f[r],t(o,n)&&e.push(o);return e}function it(n,t){var i=s(n,t);return i&&i.length>0&&i[0]}function a(n,t){var i=t||document;return i.getElementsByTagName?i.getElementsByTagName(n):null}function rt(n,t){var i=a(n,t);return i&&i.length>0&&i[0]}function v(n,t){n&&t&&!e(n,\"data-tag\")&&n.setAttribute(\"data-tag\",\"multimedia.\"+t)}function ut(n,t,i,r){var u=sj_ce(n,t,i);return v(u,r),u}function ft(n,t){for(var i=s(n,t),u=i!=null?i.length:0,r=u-1;r>0;r--)t===i[r].parentNode&&t.removeChild(i[r])}function et(n,i){while(i&&!t(i,n))i=i.parentNode;return i}function ot(n,t){n&&(c(n,\"tabindex\",\"0\"),o(n,\"nofocus\"),n.onkeyup=function(n){if(n.keyCode===9)i(this,\"nofocus\");else if(n.keyCode===13&&!t)if(this.click)this.click();else{var r=_d.createEvent(\"MouseEvents\");r.initEvent(\"click\",!0,!0);this.dispatchEvent(r,!0)}},n.onblur=function(){o(this,\"nofocus\")})}function st(n){n&&(l(n,\"tabindex\"),i(n,\"nofocus\"),i(n,\"accessible\"),n.onkeyup=null,n.onblur=null)}function ht(n,t){var r,i,u;if(!n||!t)return null;for(r=[n];r.length>0;){if(i=r.pop(),h(i,t))return e(i,t);for(u=0;u<i.children.length;u++)r.push(i.children.item(u))}return null}n.ga=e;n.ha=h;n.sa=c;n.fai=ht;n.a=y;n.r=p;n.ib=w;n.ia=b;n.ra=l;n.gcn=u;n.gih=k;n.sih=d;n.sit=g;n.sc=f;n.ac=o;n.rc=i;n.hc=t;n.gpc=nt;n.gebc=s;n.gfbc=it;n.adt=v;n.cew=ut;n.rdcbc=ft;n.gaebc=et;n.sac=ot;n.rac=st;n.gebt=a;n.gfbt=rt;pMMUtils.ga=n.ga;pMMUtils.ha=n.ha;pMMUtils.sa=n.sa;pMMUtils.fai=n.fai;pMMUtils.a=n.a;pMMUtils.r=n.r;pMMUtils.ib=n.ib;pMMUtils.ia=n.ia;pMMUtils.ra=n.ra;pMMUtils.gcn=n.gcn;pMMUtils.gih=n.gih;pMMUtils.sih=n.sih;pMMUtils.sit=n.sit;pMMUtils.sc=n.sc;pMMUtils.ac=n.ac;pMMUtils.rc=n.rc;pMMUtils.hc=n.hc;pMMUtils.gpc=n.gpc;pMMUtils.gebc=n.gebc;pMMUtils.gfbc=n.gfbc;pMMUtils.adt=n.adt;pMMUtils.cew=n.cew;pMMUtils.rdcbc=n.rdcbc;pMMUtils.gaebc=n.gaebc;pMMUtils.sac=n.sac;pMMUtils.rac=n.rac;pMMUtils.gebt=n.gebt;pMMUtils.gfbt=n.gfbt})(MMUtilsDom||(MMUtilsDom={}));var pInstr={icd:function(n){var t=pInstr;typeof mmLog!=\"undefined\"&&mmLog(encodeURIComponent(t.j2s(n)))},gp:function(n){(new Image).src=_G.gpUrl+\"IG=\"+_G.IG+\"&\"+n},j2s:function(n){var t=pInstr,i,r,u,f,e;switch(typeof n){case\"string\":return'\"'+n.replace(/([\"\\\\])/g,\"\\\\$1\")+'\"';case\"object\":if(n instanceof Array){i=[];for(r in n)r!=null&&i.push(t.j2s(r));return\"[\"+i.join(\",\")+\"]\"}u=[];for(f in n)e=n[f],e!=null&&u.push(t.j2s(f)+\":\"+t.j2s(e));return\"{\"+u.join(\",\")+\"}\";case\"number\":return n;case\"boolean\":return n}},logEvent:function(n,t,i,r,u,f){var o=pInstr,e={},s,h;if(e.AppNS=n,e.T=t,e.K=i,e.Name=r,e.TS=(new Date).getTime(),o.isVaidData(u))for(s in u)h=u[s],o.isVaidData(h)&&(e[s]=h);o.isVaidData(f)&&(e.mt=f);o.icd(e)},isVaidData:function(n){return typeof n!=\"undefined\"&&n!=null}};var pMMUtils=pMMUtils||{},MMUtilsQueryAndUrl;(function(n){function i(n,t){return r(_w.location.search,n,t)}function r(n,t,i){var f,u,r;if(n==null||(u=\"[&?]\"+encodeURI(t)+\"=([^&$]*)\",f=typeof i==\"boolean\"&&i?new RegExp(u,\"i\"):new RegExp(u),r=n.match(f),!r))return null;try{return decodeURIComponent(r[1].replace(/\\+/g,\"%20\"))}catch(e){return r[1]}}function t(n,t,i){if(n)try{var r=new URL(n);r.search||n.charAt(n.length-1)==\"?\"||(n+=\"?\")}catch(u){}return typeof i!=\"undefined\"&&t.length>0&&(typeof i!=\"string\"||i.length>0)&&(n=n+\"&\"+t+\"=\"+i),n}function u(n){return typeof sj_cook!=\"undefined\"?n+\"&sid=\"+(_G.SID||sj_cook.get(\"_SS\",\"SID\")):n}function f(n,t,i,r,u,f,e){var a=!1,s,h,o;if(!n||n.length<1)return null;if(n.indexOf(\"http://\")==0||n.indexOf(\"https://\")==0||n.indexOf(\"/\")==0){var c=n.split(\"?\"),y=c[c.length-1],v=[],l=y.split(\"&\");for(h=0;h<l.length;h++)(o=l[h].split(\"=\"),o.length!=2||o[0]!=\"w\"&&o[0]!=\"h\"&&o[0]!=\"r\")&&(o[0]==\"c\"&&(o[1]==\"7\"||o[1]==\"0\")&&(a=!0),v.push(l[h]));s=[(c.length>1?c[0]+\"?\":\"\")+v.join(\"&\")]}else s=[f,\"?id=\",encodeURIComponent(n),\"&pid=\",e];return t&&(s.push(\"&w=\",r,\"&h=\",u),i&&s.push(\"&r=0\"),a||s.push(\"&p=0\")),s.join(\"\")}function e(n){return n?n.replace(/<script[\\s|>](.)*<\\/script>/gi,\"\").replace(/autoplay=1/gi,\"autoplay=1&wmode=opaque\").replace(/<param name=\"movie\"/gi,'<param name=\"wmode\" value=\"opaque\"/><param name=\"movie\"').replace(/<embed /gi,'<embed wmode=\"opaque\" '):\"\"}function o(){var n=i(\"testhooks\");return!!n}function s(){for(var n,t,u,i=[],r=0;r<arguments.length;r++)i[r]=arguments[r];for(n=i[0],t=0;t<i.length-1;t++)u=new RegExp(\"\\\\{\"+t+\"\\\\}\",\"gm\"),n&&(n=n.replace(u,i[t+1]));return n}function h(n){if(n)try{return new URL(n).hostname}catch(t){}return n}function l(n,t,r){var u,e,f,o;if(t===void 0&&(t=c),r===void 0&&(r=[]),!n)return\"\";for(t=t.concat(r),u=[],e=0;e<t.length;e++)f=t[e],typeof f==\"string\"&&f.length>0&&(o=i(f,!1),o!==null&&u.push(\"&\".concat(f,\"=\").concat(o)));return n.indexOf(\"?\")===-1&&u.length>0&&(u[0]=\"?\"+u[0].slice(1)),n+u.join(\"\")}function a(n,i,r,u){var f=t(n,\"IG\",i);return f=t(f,\"IID\",r),t(f,\"SFX\",u)}function v(n,t){var u=[],f,i,e;for(f in t){if(i=t[f],!i||i.length==0)break;e=r(n,i);u.push({paramKey:i,paramVal:e})}return u}var c=[\"atlahostname\",\"cdghostname\",\"thhostname\",\"testhooks\",\"adlt\",\"akamaithumb\",\"safesearch\",\"perf\",\"mockimages\",\"mobile\",\"anid\",\"isuserauth\",\"uncrunched\",\"clientid\",\"currentdate\",\"iss\",\"features\",\"setflight\",\"addfeaturesnoexpansion\",\"darkschemeovr\",\"snrtrace\",\"setapplicationendpoint\",\"clientip\",\"webthemedark\"];n.ej=e;n.qsv=i;n.qsvfu=r;n.aup=t;n.isTest=o;n.sf=s;n.apsid=u;n.rtiu=f;n.ghn=h;n.app=l;n.tsu=a;n.fp=v;pMMUtils.ej=n.ej;pMMUtils.qsv=n.qsv;pMMUtils.qsvfu=n.qsvfu;pMMUtils.aup=n.aup;pMMUtils.isTest=n.isTest;pMMUtils.sf=n.sf;pMMUtils.apsid=n.apsid;pMMUtils.rtiu=n.rtiu;pMMUtils.ghn=n.ghn;pMMUtils.app=n.app;pMMUtils.tsu=n.tsu;pMMUtils.fp=n.fp})(MMUtilsQueryAndUrl||(MMUtilsQueryAndUrl={}));var pMMUtils=pMMUtils||{},MMUtilsEvent;(function(n){function r(n,t,i,r){var u=SwipeDirection.Undefined,f;return(Math.abs(n)>i||Math.abs(t)>i)&&(f=n==0?r+1:Math.abs(t/n),u=f>r?SwipeDirection.Vertical:SwipeDirection.Horizontal),u}function u(n){return(n=sj_ev(n),!n)?{x:0,y:0}:n.pageX?{x:n.pageX,y:n.pageY}:{x:n.clientX+Math.max(sb_de.scrollLeft,_d.body.scrollLeft),y:n.clientY+Math.max(sb_de.scrollTop,_d.body.scrollTop)}}function f(){var n=_w.pageXOffset||sb_de.scrollLeft,r=_w.pageYOffset||sb_de.scrollTop,u=n+(_w.innerWidth||sb_de.clientWidth)-i,f=r+(_w.innerHeight||sb_de.clientHeight)-t;return{l:n,t:r,r:u,b:f}}function e(n){var t,i;if(sb_ie&&(t=-1,navigator.appName==\"Microsoft Internet Explorer\"&&(i=new RegExp(\"MSIE ([0-9]{1,}[.0-9]{0,})\"),i.exec(navigator.userAgent)!=null&&(t=parseFloat(RegExp.$1))),t<=8||_d.documentMode<9)){if(n.button==1)return 0;if(n.button==4)return 1}return n.button}function o(n){return sj_sp(n),sj_pd(n),!1}function s(n){return typeof n==\"function\"?!0:!1}var t=19,i=23;n.gsd=r;n.gmp=u;n.gwp=f;n.nmcb=e;n.sepd=o;pMMUtils.gsd=n.gsd;pMMUtils.gmp=n.gmp;pMMUtils.gwp=n.gwp;pMMUtils.nmcb=n.nmcb;pMMUtils.sepd=n.sepd;pMMUtils.isFunction=s})(MMUtilsEvent||(MMUtilsEvent={}));CustSizeFilterProp={\"MinSize\":1,\"MaxSize\":1000000,\"WarningMessage\":\"請為 [寬度] 和 [高度] 欄位輸入數字\"};_w[\"IDBbOv\"] = true; _w[\"EIHB\"] = false; _w[\"IDPTit\"] =\"elon musk - Bing 圖片 - 詳細資料\"; _w[\"IFOvlCls\"] =\"insightsOverlay\";;DgConfig={\"aurl\":\"/images/async?q=%QUERY%\\u0026async=content\\u0026first=%FIRST%\\u0026count=%COUNT%\\u0026dgst=%DGSTATE%\\u0026IID=%IID%\\u0026SFX=%SFX%\\u0026IG=%IG%\\u0026CW=%CW%\\u0026CH=%CH%\\u0026CT=%CT%\",\"ac\":35,\"ptp\":1,\"rth\":500,\"ectf\":false,\"ella\":true,\"ellt\":10000,\"headerPinning\":0,\"vn\":\"images\",\"disPrevScrollPos\":true,\"appns\":\"images\"};\n",
       " //]]></script>,\n",
       " <script nonce=\"CZILAxNck2OhDPiJPq78Mm+KckEg07o1OjzdS2cGNUA=\" type=\"text/javascript\">//<![CDATA[\n",
       " var Bing=Bing||{};Bing.Location=Bing.Location||function(){var t=/(#.*|$)/,i=function(){return location.href},r=function(n){location=n},u=function(n){location.replace(n)},f=function(){var n=location.href,t=n.indexOf(\"#\");return t>-1?n.substr(t):\"\"},e=function(n){location.hash=n},o=function(n){(n.length===0||n[0]!==\"#\")&&(n=\"#\"+n);var i=location.href.replace(t,n);location.href!==i&&location.replace(i)},n=function(){return null},s=n;return{get:i,set:r,replace:u,getHash:f,setHash:e,replaceHash:o,getPrevious:n,getNext:s}}();window.sb_gh=Bing.Location.getHash;window.sb_sh=Bing.Location.setHash;function parseQueryParamsFromQuery(n,t){var u,f,e,o;t===void 0&&(t=!0);var r=[],s=n&&n.length>0?n.split(\"&\"):[],h=s.length,i=null;for(u=0;u<h;u++)f=s[u],e=f.indexOf(\"=\"),e>0&&(i=f.substr(0,e),i.charAt(0)==\"?\"&&(i=i.substr(1)),i&&(i=i.toLowerCase(),r[i]=f.substr(e+1)));return t&&(o=r.first,r.first=null==o||o==\"0\"?1:parseInt(o)),r}function parseQueryParams(){var n=\"\";return n=typeof Bing!=\"undefined\"&&Bing.Url&&Bing.Location?Bing.Url.getQueryString(Bing.Location.get()):_w.location.search.substring(1),parseQueryParamsFromQuery(n)}function convertQueryParamsToUrlStr(n,t){t===void 0&&(t=null);var i=t?t:_w.location.pathname.replace(/^\\/+/,\"/\");return i+\"?\"+queryParamsToString(n)}function queryParamsToString(n){for(var e,o,r,u,s,f,t=[],i=1;i<arguments.length;i++)t[i-1]=arguments[i];if(e=[],u=t.length,u==0)for(s in n)n.hasOwnProperty(s)&&(t.push(s),u++);for(f=0;f<u;f++)o=t[f],r=n[o],(r||r===0)&&e.push(o+\"=\"+r);return e.join(\"&\")}function getCurrentQuery(){if(!currentQuery){var n=parseQueryParams();currentQuery=n.q}return currentQuery}function extractDomainFromUrl(n,t,i){var r,u,f,e;return typeof n!=\"string\"?null:(r=n,u=r.indexOf(\"://\"),u>=0&&!t&&(r=r.substr(u+3),u=-1),u=u>=0?u+3:0,f=r.indexOf(\":\",u),f>=0&&(r=r.substr(0,f)),f=r.indexOf(\"/\",u),f>=0&&(r=r.substr(0,f)),e=i?r.indexOf(\"www.\"):-1,e>=0&&(r=r.substr(u+4)),r)}function addCommonPersistedParams(n){var i=parseQueryParams(),t=queryParamsToString(i,\"atlahostname\",\"cdghostname\",\"thhostname\",\"testhooks\",\"adlt\",\"akamaithumb\",\"safesearch\",\"perf\",\"mockimages\",\"mobile\",\"anid\",\"isuserauth\",\"uncrunched\",\"clientid\",\"currentdate\",\"iss\",\"clientip\"),r=n.indexOf(\"?\")===-1?\"?\":\"&\";return t=t.length>0?r+t:\"\",n+t}var currentQuery=null;function GetScrollTop(){return isIDevices?_w.pageYOffset:Math.max(sb_de.scrollTop,_d.body.scrollTop)}function GetScrollLeft(){return isIDevices?_w.pageXOffset:Math.max(sb_de.scrollLeft,_d.body.scrollLeft)}function escapeJson(n){return n.replace(/\\\\/g,\"\\\\\\\\\").replace(/\\\"/g,'\\\\\"')}function getPageClickJson(n,t,i,r){var u=['{\"T\":\"CI.Click\",\"Name\":\"',escapeJson(n),'\"',',\"TS\":',sb_gt()];return t&&u.push(',\"Meta\":\"',escapeJson(t),'\"'),i&&r&&u.push(',\"AppNS\":\"',i,'\",\"K\":\"',r,'.1\"'),u.join(\"\")+\"}\"}function logPageClick(n,t,i,r){var u=getPageClickJson(n,t,i,r);u!=\"\"&&mmLog(u)}function getDetPageScrollJson(n,t,i){var r=['{\"T\":\"CI.Scroll\",\"Name\":\"',n,'\",\"TS\":'];return r.push(sb_gt()),t&&i&&r.push(',\"AppNS\":\"',t,'\",\"K\":\"',i,'.1\"'),r.join(\"\")+\"}\"}function focusSearchBox(){try{_ge(\"sb_form_q\").focus()}catch(n){}}function scrollToPosInHash(){var r,e,i,n,o;if(typeof Bing!=\"undefined\"&&typeof Bing.Location!=\"undefined\"&&(r=Bing.Location.getHash(),r)){var t=r.substr(1),u=t.indexOf(\"x\"),f=t.indexOf(\"y\");if(u>=0&&f>=0&&(e=parseInt(t.substr(u+1,f-u-1)),i=parseInt(t.substr(f+1)),e>=0&&i>=0))for(n=GetScrollTop();n<i;)if(o=n,_w.scrollTo(e,i),n=GetScrollTop(),o==n)break}}function setHashForScroll(){var n=Bing.Location,t=\"x\"+GetScrollLeft()+\"y\"+GetScrollTop();n.replaceHash?n.replaceHash(t):n.setHash&&n.setHash(t)}function getIEVersion(){var n=-1,t;return navigator.appName==\"Microsoft Internet Explorer\"&&(t=new RegExp(\"MSIE ([0-9]{1,}[.0-9]{0,})\"),t.exec(ua)!=null&&(n=parseFloat(RegExp.$1))),n}var ua=navigator.userAgent,isIPhone=ua.match(/iPhone/i),isIPad=ua.match(/iPad/i),isIPod=ua.match(/iPod/i),isIDevices=isIPhone||isIPad||isIPod,isIOS9=/(iphone|ipod|ipad).* os 9_/i.test(ua),isSilkBrowser=ua.match(/Silk/i),isEdge=ua.match(/Edge/i),isCortana=ua.match(/Cortana/i),isIEOrEdge=sb_ie||isEdge,c_pos_fix=\"fixed\",c_pos_abs=\"absolute\",Bing,MMPinterest,StringHelper,OneNotePostHelper,ScrollHelper;(function(n){function t(n,t,i,r,u){var f=\"\";return u?f=encodeURIComponent(u):(r&&(f=r),i&&(f&&(f+=encodeURIComponent(\" | \")),f+=encodeURIComponent(i))),[\"http://pinterest.com/pin/create/button/?url=\",encodeURIComponent(n),\"&media=\",encodeURIComponent(t),\"&description=\",f].join(\"\")}function i(n,i,r,u){var f=getCurrentQuery(),e=t(n,i,r,f,u);_w.open(e,\"_blank\",\"location=1,status=1,scrollbars=1,width=900,height=300\")}n.pin=i})(MMPinterest||(MMPinterest={})),function(n){function t(n,t){var i=t;return n.replace(/{(\\d+)}/g,function(n,t){return typeof i[t]!=\"undefined\"?i[t]:n})}n.format=t}(StringHelper||(StringHelper={})),function(n){function u(n,i,r,u,o,s){var h=e(n,i,r,u,o);s&&(h+=\"&attributionUrl=\"+t(s));f(h)}function f(n){_w.open(n,\"_blank\",r)}function e(n,r,u,f,e){var o=[t(n),t(r),t(u),t(f),t(e)];return StringHelper.format(i,o)}function t(n){return o(n)?encodeURIComponent(n):\"\"}function o(n){return n!==null&&typeof n!=\"undefined\"}var i=\"https://www.onenote.com/clipper/save?appName=BingImages&sourceUrl={0}&imgUrl={1}&title={2}&description={3}&notes={4}\",r=\"location=1,status=1,scrollbars=1,width=575,height=550\";n.post=u}(OneNotePostHelper||(OneNotePostHelper={})),function(n){function i(){var n=!1,i=GetScrollTop(),r=i-t;return r>0&&(n=!0),t=i,n}function r(){return _w.pageYOffset!=null?_w.pageYOffset>0:_d.body&&_d.body.scrollTop?_d.body.scrollTop>0:_d.documentElement.scrollTop>0}var t=0;n.IsScrollDown=i;n.IsVerticalScroll=r}(ScrollHelper||(ScrollHelper={}));var MiniHeader;(function(n){var t,i,r;(function(n){n[n.SearchBoxStatusChange=0]=\"SearchBoxStatusChange\"})(t=n.SearchBoxEvent||(n.SearchBoxEvent={})),function(n){n[n.Focus=0]=\"Focus\";n[n.Blur=1]=\"Blur\"}(i=n.SearchBoxStatus||(n.SearchBoxStatus={})),function(n){n[n.ShowMiniHeader=0]=\"ShowMiniHeader\";n[n.HideMiniHeader=1]=\"HideMiniHeader\"}(r=n.MiniHeaderEvent||(n.MiniHeaderEvent={}))})(MiniHeader||(MiniHeader={}));var ClientLinkAction;(function(n){function o(n){var f=b(n.target||n.srcElement),i,r,h,u,o,s;if(f&&(i=f.hash,i&&i.length>e&&i.indexOf(a)==0)){if(i.indexOf(t)==0){f.href=i.substr(i.indexOf(t)+v);return}if(r=i.indexOf(\"?\",e),r<0&&(r=i.length),h=i.substring(e,r).toLowerCase(),u=y(h),u&&u.length!=0)for(o=0;o<u.length;o++)s=u[o],!s.ignoreSpecialKeys&&(n.shiftKey||n.ctrlKey||n.metaKey)||(s.handler(f,k(i.substr(r+1),n)),sj_pd(n),sj_sp(n))}}function p(n){n&&(n.which==13||n.keyCode==13)&&o(n)}function w(n){var r=b(n.target||n.srcElement),i;if(r&&(i=r.hash,i&&i.indexOf(t)==0)){r.href=i.substr(i.indexOf(t)+v);return}}function k(n,t){for(var i,f,e,r={},o=n.split(\"&\"),u=0;u<o.length;u++)i=o[u].split(\"=\"),i.length==2&&(f=i[0],e=i[1],f&&e&&(r[f]=e));return r.evtType=t.type,r}function b(n){while(n&&n!==_d&&n.tagName!==\"A\")n=n.parentNode;return n===_d?null:n}function i(){sj_ue(_w,s,o);sj_ue(_w,h,p);sj_ue(_w,c,w);sj_ue(_w,f,i);sj_evt.unbind(l,i);_w[u]=null}var u=\"clientAction\",s=\"click\",h=\"keydown\",c=\"mouseover\",l=\"ajax.unload\",f=\"unload\",a=\"#CA!\",e=a.length,t=\"#CA!DELURL!\",v=t.length,y,r;_w[u]||(_w[u]=n,r={},n.bind=function(t,i,r){n.bindK(t,i,!0,r)},n.bindK=function(n,t,i,u){var n=n.toLowerCase(),f={handler:t,ignoreSpecialKeys:i};u&&r[n]?r[n].push(f):r[n]=[f]},y=function(n){return r[n]},sj_be(_w,s,o),sj_be(_w,h,p),sj_be(_w,c,w),sj_ue(_w,f,i),sj_be(_w,f,i),sj_evt.bind(l,i),sj_evt.fire(\"ClientLinkAction_Loaded\",n))})(ClientLinkAction||(ClientLinkAction={}));var __spreadArray=this&&this.__spreadArray||function(n,t,i){if(i||arguments.length===2)for(var r=0,f=t.length,u;r<f;r++)!u&&r in t||(u||(u=Array.prototype.slice.call(t,0,r)),u[r]=t[r]);return n.concat(u||Array.prototype.slice.call(t))},IDBbOv,EIHB,IFrameOverlay;(function(n){function tt(i){t.src?n.hasMms()&&t.contentWindow.location.href!==o||t.contentWindow.location.replace(i):t.src=i}function it(){var n=_w.IDPTit;n&&(t.setAttribute(\"title\",n),t.setAttribute(\"name\",n))}function b(n){p=n?wt:null}function rt(n){c.parentElement.style.overflow=n?\"\":\"hidden\"}function v(n){t.style.display=n?\"block\":\"none\"}function k(n){n===void 0&&(n=!0);var f=at(t);f&&typeof PageEvents!=\"undefined\"&&(PageEvents===null||PageEvents===void 0?void 0:PageEvents.logUnload(\"back\",f));b(!1);gt();n&&ct();i=\"\";w||(u||(u=rt),u(!0));v(!1);lt();window.focus();r=!1;sj_ue(_d,\"keyup\",ft);sj_ue(_w,\"click\",et);s&&sessionStorage.removeItem(l)}function ct(){tt(o);t.setAttribute(\"name\",h);i&&t.classList.remove(i)}function lt(){sj_evt.fire(\"IFrame.Close\")}function at(n){try{return n.contentWindow._G.IG}catch(t){return null}}function vt(n,t){var r={type:d,url:n,hiddenParams:t,count:0},i;g?(i=n+\"&ajaxhist=0&ajaxserp=0\",y.pushState(r,\"\",i)):_w.location.hash=st+n+t}function yt(){var i,r=(i=f===null||f===void 0?void 0:f.setupOverlayMessaging(n.hasMms()?{iframe:t,frameSource:\"/images/search?q=blank&view=detailV2&rndr=mm_mms\",resolveTid:function(n){var t;if((t=_w.mm_mms)!==null&&t!==void 0)return t.idx[n]},closeFrame:k,onCanvasProvider:function(t){n.canvasProvider=t}}:{iframe:t,onCanvasProvider:function(t){n.canvasProvider=t}}))!==null&&i!==void 0?i:{},u=r.canvasBroker,e=r.getOverlayIndex;u&&(n.canvasBroker=u);e&&(a=e)}function pt(){var i,r=!1,u=_ge(h),f;return u!=null?(t=u,r=!0):(t=sj_ce(\"iframe\",h,_w.IFOvlCls||\"insightsOverlay\"),t.setAttribute(\"data-tag\",\"multimedia.iframeOverlay\"),v(!1)),it(),typeof pMMUtils!=\"undefined\"&&pMMUtils.qsv&&(f=(i=pMMUtils.qsv(\"overlayshw\",!0))!==null&&i!==void 0?i:0,f==1&&t.setAttribute(\"ofv-tag\",\"1\")),t.onload=function(){n.showFrame();var t=this;try{(t.src!==o||t.contentWindow&&t.contentWindow.location.href!==o)&&bt()}catch(i){return null}},t.src=o,r||(c.appendChild(t),yt()),t}function ft(n){t&&r&&!t.contains(n.target)&&(sj_sp(n),sj_pd(n),t.focus())}function wt(){v(!0)}function bt(){var n=_ge(h);n.contentWindow?n.contentWindow.focus():n.focus()}function kt(){e=sj_ce(\"div\",ot)}function dt(){var n,i=((n=_ge(\"b_header\"))===null||n===void 0?void 0:n.parentNode)===_d.body,t=i?c:_ge(\"b_content\")||c;t.insertBefore(e,t.firstChild)}function gt(){var n=e.parentElement;n&&n.removeChild(e);i&&e.classList.remove(i)}function ni(){return s=typeof IDBbOv!=\"undefined\"&&IDBbOv,nt=typeof EIHB!=\"undefined\"&&EIHB,kt(),pt(),ti(),!0}function ti(){g&&ht.bind(_w,\"popstate\",ii,!1);s&&sj_be(_w,\"message\",ri,!0)}function ii(i){if(i.state&&i.state.url&&i.state.type===d){var f=sessionStorage.getItem(l),u=i.state.count;s&&r&&typeof u!=\"undefined\"&&typeof MMMessenger!=\"undefined\"?u<parseInt(f)?(sessionStorage.setItem(l,u.toString()),MMMessenger.Post(t.contentWindow,\"mm.goPrevious\",\"\")):MMMessenger.Post(t.contentWindow,\"mm.goNext\",\"\"):n.show(i.state.url,!1,i.state.hiddenParams)}else r&&(k(),sj_evt.fire(\"ajax.state.update\",_w.location.href))}function et(n){if(n&&n.target&&r){var i=n.target;t.contains(i)||typeof MMMessenger!=\"undefined\"&&MMMessenger.Post(t.contentWindow,\"mm.prepareClose\",\"\")}}function ri(n){var t=typeof MMMessenger!=\"undefined\"?MMMessenger.GetMessageData(n):null;t&&typeof t.data==\"number\"&&t.command===\"mm.closeIFrame\"&&(nt&&(t.data+=1),y.go(-t.data));t&&(t.command===\"onFavDel\"||t.command===\"onFavAdd\"||t.command===\"updateReactions\")&&sj_evt.fire.apply(sj_evt,__spreadArray([t.command],t.data,!1))}function ui(n){var r,u,f,i,t,e;return n?(r=sj_ce(\"a\"),r.href=n,u=_w.location,f=r.hostname,f&&f!=u.hostname)?null:(i=\"\",t=r.pathname,t&&t.indexOf(\"/\")!=0&&(t=\"/\"+t),(i||t!=u.pathname)&&(i+=t),e=r.search,(i||e!=u.search)&&(i+=e),i):null}function fi(n){if(!n)return null;var t=sj_ce(\"a\");return t.href=n,t.hash}var d=\"OverlayShow\",h=\"OverlayIFrame\",ot=\"OverlayMask\",o=\"about:blank\",st=\"#!\",y=window.history,g=y.pushState?!0:!1,e,t,s=!1,nt=!1,r=!1,i=\"\",p=null,c=_d.body,ht=SmartEvent,l=\"mm.idpstate\",w=!1,u=null,f=typeof MxCanvasMessaging!=\"undefined\"?MxCanvasMessaging:undefined,a,ut;n.show=n.show||function(o,h,c,a,y){var k;a===void 0&&(a=!1);y===void 0&&(y=\"\");var d=typeof o==\"string\"?o:o[0],g=typeof o==\"string\"?undefined:o[1],p=ui(d);w=_w.dOSBVC;(typeof p==\"string\"&&p.length>0||f&&!!g)&&(k=p||t.src,c&&!p.includes(c)?k=p+c:c=\"\",y&&(i=\"b_\"+y,t.classList.add(i),e.classList.add(i)),r||(r=!0,dt(),sj_evt.fire(\"IFrame.Show\"),ut(g),a||tt(k+fi(d)),it(),w||(u||(u=rt),u(!1)),b(!0),sj_be(_d,\"keyup\",ft),sb_ie||(t.style.colorScheme=\"none\",v(!0)),h&&!n.hasMms()&&(vt(p,c),s&&sessionStorage.setItem(l,\"0\")),sj_be(_w,\"click\",et)))};n.showFrame=n.showFrame||function(){p&&(p(),b(!1))};n.closeIFrame=n.closeIFrame||function(){k()};n.setWindowScrollbarVisibilityOverride=n.setWindowScrollbarVisibilityOverride||function(n){u=n};ut=function(t){f===null||f===void 0?void 0:f.onVrhmClick(t);var i=a===null||a===void 0?void 0:a(t);isNaN(i)||(n.canvasProvider?n.canvasProvider.setCurrentMediaIndex(i):_w.mm_mms.ci=i)};n.hasMms=function(){return!!_w.mm_mms};n._i=n._i||ni()})(IFrameOverlay||(IFrameOverlay={}));(function(){function r(r){t&&r[1]&&(typeof mmSetCW!==n&&mmSetCW(),t.show(r[1],!0,i));sj_evt.fire(\"clearHover\")}var n=\"undefined\",t=typeof IFrameOverlay!==n?IFrameOverlay:null,i=\"&mode=overlay\";sj_evt.bind(\"IFrame.Navigate\",r,!0)})();var ThHnReplacer;(function(n){function f(n,t,i){if(typeof mmLog!=\"undefined\"&&!u[t]){var r=['{\"T\":\"CI.Info\",\"Name\":\"RepThumbDomain\",\"Text\":\"',n,'\",\"Dom\":\"',i||\"\",'\",\"TS\":',sb_gt(),\"}\"];mmLog(r.join(\"\"));u[t]=!0}}function o(n,t){return function(){e(n,t)}}function e(n,u){var e,o;if(n&&n.src&&n.getAttribute(\"src\")){if(n.getAttribute(i))return;t.href=n.src;e=t.hostname;/^\\/th($|\\/$|\\/.*)/i.test(t.pathname)&&r!=e?(n.src=t.protocol+\"//\"+r+t.pathname+t.search,f(\"BingTH\",0,e.replace(\".\",\"_\"))):u&&(n.setAttribute(i,\"1\"),o=u(n),/^https:/.test(o)&&(n.src=o,f(\"RawMediaUrl\",1)))}}var i=\"data-finurl\",r=(typeof location!=\"undefined\"?location.hostname:null)||\"www.bing.com\",t=typeof document!=\"undefined\"?document.createElement(\"a\"):null,u=[!1,!1];n.reload=e;n.reloadWrapper=o})(ThHnReplacer||(ThHnReplacer={}));var ImgUnitOverlayClick;(function(n){function f(n){return{cw:Math.round(window.innerWidth*n),ch:Math.round(window.innerHeight*n)}}function e(n,t){var r,u,i;if(n){if(r=n.href,u=+(n.getAttribute(\"data-idpos\")||0),u>0&&r&&(i=new URL(r),i.pathname===\"/images/search\"&&i.searchParams.get(\"view\")===\"detailV2\")){var e=f(u),o=e.cw,s=e.ch;i.searchParams.set(\"cw\",o.toString(10));i.searchParams.set(\"ch\",s.toString(10));r=i.href}sj_evt.fire(\"IFrame.Navigate\",[r,t])}}function o(){return!1}function r(n){for(var t=n.target;t&&!t.classList.contains(\"iusc\");)t=t.parentElement;t&&t.getAttribute(\"data-fnvg\")&&(t.onclick=o,e(t,n))}function u(){n.isInit=!1;sj_evt.unbind(i,u);sj_ue(_d,t,r)}var t=\"click\",i=\"ajax.unload\";n.isInit||(n.isInit=!0,sj_be(_d,t,r,!0),sj_evt.bind(i,u))})(ImgUnitOverlayClick||(ImgUnitOverlayClick={}));var VRHConsts;(function(n){n.ThumbnailUrlDefaultDomain=\"tse%0%.mm.bing.net\"})(VRHConsts||(VRHConsts={}));var ThUrlGenerator;(function(n){function e(n){var t=c+\"//\";return t+=n?v:typeof ThumbnailUrlConsts!=\"undefined\"&&typeof ThumbnailUrlConsts.ThumbnailUrlDefaultDomain!=\"undefined\"?ThumbnailUrlConsts.ThumbnailUrlDefaultDomain:y,t.replace(\"%0%\",\"1\")}function t(n,t,i){return t&&i!==p?n+\"&\"+t+\"=\"+i:n}function i(n,i,e,o,s,h,c,l,a,v,y,p,w,b){return o===void 0&&(o=r),s===void 0&&(s=u),h===void 0&&(h=f),n=t(n,\"w\",i),n=t(n,\"h\",e),n=t(n,\"c\",s),n=t(n,\"pid\",o),n=t(n,\"rs\",h),n=t(n,\"bw\",c),n=t(n,\"bc\",l),n=t(n,\"dc\",a),n=t(n,\"col\",v),n=t(n,\"p\",y),n=t(n,\"o\",b),n=t(n,\"rm\",w),p==0&&(n=t(n,\"r\",p)),n}function w(n,t){return!n||!t?t:i(t,n.w,n.h,n.pid,n.c)}function b(n){if(typeof ThumbnailUrlConsts==\"undefined\"||typeof ThumbnailUrlConsts.ThumbnailUrlDefaultDomain==\"undefined\")return n;var t=new URL(n);return t.hostname=ThumbnailUrlConsts.ThumbnailUrlDefaultDomain,t.toString()}function h(n){return n=t(n,\"mkt\",a),t(n,\"adlt\",l)}function k(n,o,s,h,c,l,a,v,y,p,w){c===void 0&&(c=r);l===void 0&&(l=u);a===void 0&&(a=f);var b=e(o);return n=n.replace(/\\+/g,\"%2b\"),b=t(b+\"/th?\",\"id\",n),i(b,s,h,c,l,a,undefined,undefined,undefined,undefined,v,y,p,w)}function d(n,r,u,f){var o=e(r);return o=t(o+\"/th?\",\"q\",n),o=i(o,u,f),h(o)}function g(n,r,u,f,o,s,c,l){var a=e(r);return a=\"/th?\"+t(a,\"q\",n),a=i(a,u,f,undefined,undefined,undefined,o,s,c,l),h(a)}function nt(n,e,o,s,h,c,l,a){s===void 0&&(s=r);h===void 0&&(h=u);c===void 0&&(c=f);var v=\"\";return n=n.replace(/\\+/g,\"%2b\"),v=t(v+\"/th?\",\"id\",n),i(v,e,o,s,h,c,undefined,undefined,undefined,undefined,l,a)}function tt(n,t){if((t===null||t===void 0?void 0:t.length)&&n)try{var i=new URL(t);return n.w>0?i.searchParams.set(\"w\",n.w+\"\"):0,n.h>0?i.searchParams.set(\"h\",n.h+\"\"):0,typeof n.c==\"number\"?i.searchParams.set(\"c\",n.c+\"\"):0,n.pid?i.searchParams.set(\"pid\",n.pid):0,n.qlt?i.searchParams.set(\"qlt\",n.qlt+\"\"):0,n.o?i.searchParams.set(\"o\",n.o+\"\"):0,n.rsm?i.searchParams.set(\"rm\",n.rsm+\"\"):0,n.cb?i.searchParams.set(\"cb\",n.cb+\"\"):0,i.toString()}catch(r){}return t}var o,s;(function(n){n[n.None=0]=\"None\";n[n.SmartRatio=7]=\"SmartRatio\"})(o=n.CroppingType||(n.CroppingType={})),function(n){n[n.None=0]=\"None\";n[n.Ratio=1]=\"Ratio\";n[n.Radom=2]=\"Radom\"}(s=n.ResizeMode||(n.ResizeMode={}));var c=_w.location.protocol,l=parseQueryParams().adlt,a=_G.Mkt,v=\"tse%0%.explicit.bing.net\",y=\"tse%0%.mm.bing.net\",r=\"1.7\",u=o.SmartRatio,f=s.Ratio,p;n.ApplyParameters=i;n.apfc=w;n.UpdateDomain=b;n.NewThumbnailUrl=k;n.NewDefinitiveUrl=d;n.NewStitchedDefinitiveUrl=g;n.NewRelativeUrl=nt;n.ApplyParametersFromTemplate=tt})(ThUrlGenerator||(ThUrlGenerator={}));\n",
       " //]]></script>,\n",
       " <script nonce=\"CZILAxNck2OhDPiJPq78Mm+KckEg07o1OjzdS2cGNUA=\" type=\"text/javascript\">_G.C1T=new Date();</script>,\n",
       " <script crossorigin=\"anonymous\" nonce=\"CZILAxNck2OhDPiJPq78Mm+KckEg07o1OjzdS2cGNUA=\" src=\"https://r.bing.com/rp/HXEMBJVfF0wfONjz8nNkB93_2MU.gz.js\" type=\"text/javascript\"></script>,\n",
       " <script nonce=\"CZILAxNck2OhDPiJPq78Mm+KckEg07o1OjzdS2cGNUA=\" type=\"text/javascript\">//<![CDATA[\n",
       " var img_p = document.getElementById('id_p'); img_p && img_p.addEventListener('error', function() {FallBackToDefaultProfilePic(img_p) });;\n",
       " //]]></script>,\n",
       " <script crossorigin=\"anonymous\" nonce=\"CZILAxNck2OhDPiJPq78Mm+KckEg07o1OjzdS2cGNUA=\" src=\"https://r.bing.com/rs/6o/fI/jnc,nj/tlifxqsNyCzxIJnRwtQKuZToQQw.js?or=w\" type=\"text/javascript\"></script>,\n",
       " <script crossorigin=\"anonymous\" nonce=\"CZILAxNck2OhDPiJPq78Mm+KckEg07o1OjzdS2cGNUA=\" src=\"https://r.bing.com/rp/RTGLDrKW8-ZEPOibg3SYqOsBBdo.gz.js\" type=\"text/javascript\"></script>,\n",
       " <script crossorigin=\"anonymous\" nonce=\"CZILAxNck2OhDPiJPq78Mm+KckEg07o1OjzdS2cGNUA=\" src=\"https://r.bing.com/rp/X8HiZJxqS0G3sMozv2mpLSQYQbc.gz.js\" type=\"text/javascript\"></script>,\n",
       " <script crossorigin=\"anonymous\" nonce=\"CZILAxNck2OhDPiJPq78Mm+KckEg07o1OjzdS2cGNUA=\" src=\"https://r.bing.com/rp/6Q0n7b02JUyrHWlT3lop5BlDQoY.gz.js\" type=\"text/javascript\"></script>,\n",
       " <script crossorigin=\"anonymous\" nonce=\"CZILAxNck2OhDPiJPq78Mm+KckEg07o1OjzdS2cGNUA=\" src=\"https://r.bing.com/rp/zDhCQPvJbYk6kSUGejWtW99SWC8.gz.js\" type=\"text/javascript\"></script>,\n",
       " <script crossorigin=\"anonymous\" nonce=\"CZILAxNck2OhDPiJPq78Mm+KckEg07o1OjzdS2cGNUA=\" src=\"https://r.bing.com/rp/AT5pDU1dYEfNvwgqUeyhxh-3Ouk.gz.js\" type=\"text/javascript\"></script>,\n",
       " <script nonce=\"CZILAxNck2OhDPiJPq78Mm+KckEg07o1OjzdS2cGNUA=\" type=\"text/javascript\">//<![CDATA[\n",
       " sj_be(_d.body, 'load', function(){if(_w.lb)lb();}, false);;\n",
       " //]]></script>,\n",
       " <script crossorigin=\"anonymous\" nonce=\"CZILAxNck2OhDPiJPq78Mm+KckEg07o1OjzdS2cGNUA=\" src=\"https://r.bing.com/rp/dLXNK3o3tyXzkXA3Jj8ciHATOYc.gz.js\" type=\"text/javascript\"></script>,\n",
       " <script crossorigin=\"anonymous\" nonce=\"CZILAxNck2OhDPiJPq78Mm+KckEg07o1OjzdS2cGNUA=\" src=\"https://r.bing.com/rp/_LLFpE96tawkmTo1FFUGch69fzY.gz.js\" type=\"text/javascript\"></script>,\n",
       " <script crossorigin=\"anonymous\" nonce=\"CZILAxNck2OhDPiJPq78Mm+KckEg07o1OjzdS2cGNUA=\" src=\"https://r.bing.com/rp/snOryuqaIg5_jG9xv0wRYmxj-_Q.gz.js\" type=\"text/javascript\"></script>,\n",
       " <script crossorigin=\"anonymous\" nonce=\"CZILAxNck2OhDPiJPq78Mm+KckEg07o1OjzdS2cGNUA=\" src=\"https://r.bing.com/rp/tAMifzFLnbAaiEcTFW81yTo6dFI.gz.js\" type=\"text/javascript\"></script>,\n",
       " <script crossorigin=\"anonymous\" nonce=\"CZILAxNck2OhDPiJPq78Mm+KckEg07o1OjzdS2cGNUA=\" src=\"https://r.bing.com/rb/3u/jnc,nj/ARBceyEffwmaF_4UiQPybBVif9U.js?bu=Ab0e&amp;or=w\" type=\"text/javascript\"></script>,\n",
       " <script crossorigin=\"anonymous\" nonce=\"CZILAxNck2OhDPiJPq78Mm+KckEg07o1OjzdS2cGNUA=\" src=\"https://r.bing.com/rp/KQKNm9M7e0OM4kJIo9i_NPl67J8.gz.js\" type=\"text/javascript\"></script>,\n",
       " <script crossorigin=\"anonymous\" nonce=\"CZILAxNck2OhDPiJPq78Mm+KckEg07o1OjzdS2cGNUA=\" src=\"https://r.bing.com/rp/EgNxXU01bf3twCfEriy02OcPf0A.gz.js\" type=\"text/javascript\"></script>,\n",
       " <script crossorigin=\"anonymous\" nonce=\"CZILAxNck2OhDPiJPq78Mm+KckEg07o1OjzdS2cGNUA=\" src=\"https://r.bing.com/rp/XckSPzNoBdnCi7qMQFJvTjuzME0.gz.js\" type=\"text/javascript\"></script>,\n",
       " <script crossorigin=\"anonymous\" nonce=\"CZILAxNck2OhDPiJPq78Mm+KckEg07o1OjzdS2cGNUA=\" src=\"https://r.bing.com/rp/pGC6890RT6eZ8bqj5SA_2pz0AVI.gz.js\" type=\"text/javascript\"></script>,\n",
       " <script crossorigin=\"anonymous\" nonce=\"CZILAxNck2OhDPiJPq78Mm+KckEg07o1OjzdS2cGNUA=\" src=\"https://r.bing.com/rp/HTz1fghWRkAXkK88a_Zhsc-74HE.gz.js\" type=\"text/javascript\"></script>,\n",
       " <script crossorigin=\"anonymous\" nonce=\"CZILAxNck2OhDPiJPq78Mm+KckEg07o1OjzdS2cGNUA=\" src=\"https://r.bing.com/rp/yjkALwKjIzPE-fFQuG0Wx49NU58.gz.js\" type=\"text/javascript\"></script>,\n",
       " <script crossorigin=\"anonymous\" nonce=\"CZILAxNck2OhDPiJPq78Mm+KckEg07o1OjzdS2cGNUA=\" src=\"https://r.bing.com/rp/gdrUDsRThO6_eld_MqjMQ7NWQNQ.gz.js\" type=\"text/javascript\"></script>,\n",
       " <script crossorigin=\"anonymous\" nonce=\"CZILAxNck2OhDPiJPq78Mm+KckEg07o1OjzdS2cGNUA=\" src=\"https://r.bing.com/rp/-j5n56End0yl7Ii4ratyDu6aTKc.gz.js\" type=\"text/javascript\"></script>,\n",
       " <script nonce=\"CZILAxNck2OhDPiJPq78Mm+KckEg07o1OjzdS2cGNUA=\" type=\"text/javascript\">//<![CDATA[\n",
       " typeof SBICom != \"undefined\" && SBICom.init('sb', '');;var Identity = Identity || {}; (function(i) { i.wlImgSm =\"https://storage.live.com/users/0x{0}/myprofile/expressionprofile/profilephoto:UserTileStatic/p?ck=1\\u0026ex=720\\u0026sid=3F3A2D95E990685532463B1AE89869FC\\u0026fofoff=1\"; i.wlImgLg =\"https://storage.live.com/users/0x{0}/myprofile/expressionprofile/profilephoto:UserTileMedium/p?ck=1\\u0026ex=720\\u0026sid=3F3A2D95E990685532463B1AE89869FC\\u0026fofoff=1\";i.popupLoginUrls = {\"WindowsLiveId\":\"https://www.bing.com/fd/auth/signin/v2?action=interactive\\u0026return_url=/\"}; })(Identity);;\n",
       " //]]></script>,\n",
       " <script crossorigin=\"anonymous\" nonce=\"CZILAxNck2OhDPiJPq78Mm+KckEg07o1OjzdS2cGNUA=\" src=\"https://r.bing.com/rb/4P/jnc,nj/WjC77O8uVx9--UZpQC4Qfpa7qaE.js?bu=A9gz2zPeMw&amp;or=w\" type=\"text/javascript\"></script>,\n",
       " <script crossorigin=\"anonymous\" nonce=\"CZILAxNck2OhDPiJPq78Mm+KckEg07o1OjzdS2cGNUA=\" src=\"https://r.bing.com/rp/6LohI2cpN0iIbSZNkT2e_TO1JTI.gz.js\" type=\"text/javascript\"></script>,\n",
       " <script nonce=\"CZILAxNck2OhDPiJPq78Mm+KckEg07o1OjzdS2cGNUA=\" type=\"text/javascript\">//<![CDATA[\n",
       " (function() { var rwsid = \"rewards-widget\"; function attachRWScript() { var rs = _d.createElement('script'); rs.src = \"https://www.bing.com/rewardsapp/widgetassets/prod/medallion/latest/js/widget.js?t=251024\"; rs.id = rwsid; rs.setAttribute(\"data-report-activity\", \"false\"); rs.setAttribute(\"data-dark-mode\", \"false\"); rs.setAttribute(\"data-settings\", \"eyJ2ZXJ0aWNhbCI6ImltYWdlcyJ9\"); rs.async = true; _d.head.appendChild(rs); } function invokeAttachScript() { if (false && typeof sj_evt !== \"undefined\" && sj_evt) { sj_evt.bind('onP1', function() { setTimeout(function() { attachRWScript(); }, 0); }); } else { attachRWScript(); } } function loadScript() { if (true && _ge(rwsid) !== null && typeof RewardsWidget !== 'undefined' && RewardsWidget) { var rwinit = RewardsWidget.init(); if (rwinit && typeof rwinit.then === 'function') { rwinit.then(function() { }).catch(function(e) { invokeAttachScript(); }); } return; } invokeAttachScript(); } if (!true) { loadScript(); return; } if (_d.readyState === \"complete\") { loadScript(); } else if (window.addEventListener) { window.addEventListener(\"load\", loadScript); } else if (window.attachEvent) { window.attachEvent(\"onload\", loadScript); } else { loadScript(); } })();;var bepcfg = bepcfg || {};;bepcfg.wb =true? '1' : '0';;\n",
       " //]]></script>,\n",
       " <script crossorigin=\"anonymous\" nonce=\"CZILAxNck2OhDPiJPq78Mm+KckEg07o1OjzdS2cGNUA=\" src=\"https://r.bing.com/rs/6o/kS/nj/x-x_v9X2pwR9AlcQef28REZvCsY.js?or=w\" type=\"text/javascript\"></script>,\n",
       " <script crossorigin=\"anonymous\" nonce=\"CZILAxNck2OhDPiJPq78Mm+KckEg07o1OjzdS2cGNUA=\" src=\"https://r.bing.com/rs/6o/fI/jnc,nj/tlifxqsNyCzxIJnRwtQKuZToQQw.js?or=w\" type=\"text/javascript\"></script>,\n",
       " <script crossorigin=\"anonymous\" nonce=\"CZILAxNck2OhDPiJPq78Mm+KckEg07o1OjzdS2cGNUA=\" src=\"https://r.bing.com/rp/bjrsBgLMT2dt5Ai4Vmi31ydUjAA.gz.js\" type=\"text/javascript\"></script>,\n",
       " <script crossorigin=\"anonymous\" nonce=\"CZILAxNck2OhDPiJPq78Mm+KckEg07o1OjzdS2cGNUA=\" src=\"https://r.bing.com/rp/cNQdfLZBIXmrr5Uxt3MzGyVmFRI.gz.js\" type=\"text/javascript\"></script>,\n",
       " <script crossorigin=\"anonymous\" nonce=\"CZILAxNck2OhDPiJPq78Mm+KckEg07o1OjzdS2cGNUA=\" src=\"https://r.bing.com/rp/eESxhEi2ORWrvpEGu0Djwt3IBJY.gz.js\" type=\"text/javascript\"></script>,\n",
       " <script crossorigin=\"anonymous\" nonce=\"CZILAxNck2OhDPiJPq78Mm+KckEg07o1OjzdS2cGNUA=\" src=\"https://r.bing.com/rp/tkYNdkMmX93Lq3AOkqQvUMBQo9Q.gz.js\" type=\"text/javascript\"></script>,\n",
       " <script crossorigin=\"anonymous\" nonce=\"CZILAxNck2OhDPiJPq78Mm+KckEg07o1OjzdS2cGNUA=\" src=\"https://r.bing.com/rp/fprGbdW48fNI6x6c8mNXlN70JoE.gz.js\" type=\"text/javascript\"></script>,\n",
       " <script crossorigin=\"anonymous\" nonce=\"CZILAxNck2OhDPiJPq78Mm+KckEg07o1OjzdS2cGNUA=\" src=\"https://r.bing.com/rp/xeJPTVexxe6xGqk_z9ZZ-FSrC74.gz.js\" type=\"text/javascript\"></script>,\n",
       " <script crossorigin=\"anonymous\" nonce=\"CZILAxNck2OhDPiJPq78Mm+KckEg07o1OjzdS2cGNUA=\" src=\"https://r.bing.com/rs/6o/fI/jnc,nj/tlifxqsNyCzxIJnRwtQKuZToQQw.js?or=w\" type=\"text/javascript\"></script>,\n",
       " <script crossorigin=\"anonymous\" nonce=\"CZILAxNck2OhDPiJPq78Mm+KckEg07o1OjzdS2cGNUA=\" src=\"https://r.bing.com/rp/GEPiQrCn4Rvkn_RTnifDdoMHZq8.gz.js\" type=\"text/javascript\"></script>,\n",
       " <script crossorigin=\"anonymous\" nonce=\"CZILAxNck2OhDPiJPq78Mm+KckEg07o1OjzdS2cGNUA=\" src=\"https://r.bing.com/rp/PjLCPyP1o7bgcDsFcAhoLJYSk9I.gz.js\" type=\"text/javascript\"></script>,\n",
       " <script crossorigin=\"anonymous\" nonce=\"CZILAxNck2OhDPiJPq78Mm+KckEg07o1OjzdS2cGNUA=\" src=\"https://r.bing.com/rs/6o/gn/jnc,nj/AmkI7OPAt1b7kzUMUEOY0tG-mRo.js?or=w\" type=\"text/javascript\"></script>,\n",
       " <script crossorigin=\"anonymous\" nonce=\"CZILAxNck2OhDPiJPq78Mm+KckEg07o1OjzdS2cGNUA=\" src=\"https://r.bing.com/rs/6o/gk/jnc,nj/VZX4_Ny7fIHw6wMmU5gFPUPHwHs.js?or=w\" type=\"text/javascript\"></script>,\n",
       " <script crossorigin=\"anonymous\" nonce=\"CZILAxNck2OhDPiJPq78Mm+KckEg07o1OjzdS2cGNUA=\" src=\"https://r.bing.com/rp/17qGrJ-eEX6xuSA3CXa19_-SRK0.gz.js\" type=\"text/javascript\"></script>,\n",
       " <script crossorigin=\"anonymous\" nonce=\"CZILAxNck2OhDPiJPq78Mm+KckEg07o1OjzdS2cGNUA=\" src=\"https://r.bing.com/rp/ot_ToAE9rvNf74zwMZjtl4zmMi8.gz.js\" type=\"text/javascript\"></script>,\n",
       " <script nonce=\"CZILAxNck2OhDPiJPq78Mm+KckEg07o1OjzdS2cGNUA=\" type=\"text/javascript\">//<![CDATA[\n",
       " MhConfig={\"is\":0,\"sbfc\":\"QBIRMH\",\"edsfs\":true,\"psfdss\":750,\"ucrs\":true,\"epaos\":true,\"drib\":true};\n",
       " //]]></script>,\n",
       " <script crossorigin=\"anonymous\" nonce=\"CZILAxNck2OhDPiJPq78Mm+KckEg07o1OjzdS2cGNUA=\" src=\"https://r.bing.com/rp/nJBr5KIS1Ookkvo_UKIPr0wU06o.gz.js\" type=\"text/javascript\"></script>,\n",
       " <script crossorigin=\"anonymous\" nonce=\"CZILAxNck2OhDPiJPq78Mm+KckEg07o1OjzdS2cGNUA=\" src=\"https://r.bing.com/rp/hwRpW_ub6Zywwkesrn7ROC9NJ-s.gz.js\" type=\"text/javascript\"></script>,\n",
       " <script crossorigin=\"anonymous\" nonce=\"CZILAxNck2OhDPiJPq78Mm+KckEg07o1OjzdS2cGNUA=\" src=\"https://r.bing.com/rp/hkYUL2xGUnFG0puwDNMw04gMHwo.gz.js\" type=\"text/javascript\"></script>,\n",
       " <script crossorigin=\"anonymous\" nonce=\"CZILAxNck2OhDPiJPq78Mm+KckEg07o1OjzdS2cGNUA=\" src=\"https://r.bing.com/rp/8VqX4jDj_GLBtmbhZxjD-08Hbkk.gz.js\" type=\"text/javascript\"></script>,\n",
       " <script crossorigin=\"anonymous\" nonce=\"CZILAxNck2OhDPiJPq78Mm+KckEg07o1OjzdS2cGNUA=\" src=\"https://r.bing.com/rp/QmACJwwB2qUiaqpNpH5wPVeD7Jc.gz.js\" type=\"text/javascript\"></script>,\n",
       " <script crossorigin=\"anonymous\" nonce=\"CZILAxNck2OhDPiJPq78Mm+KckEg07o1OjzdS2cGNUA=\" src=\"https://r.bing.com/rp/4IbfH04MLz01UOqkElZhLNFjdes.gz.js\" type=\"text/javascript\"></script>,\n",
       " <script crossorigin=\"anonymous\" nonce=\"CZILAxNck2OhDPiJPq78Mm+KckEg07o1OjzdS2cGNUA=\" src=\"https://r.bing.com/rp/DxI0WkfGmR_Z01pbWqdS7eKB__4.gz.js\" type=\"text/javascript\"></script>,\n",
       " <script crossorigin=\"anonymous\" nonce=\"CZILAxNck2OhDPiJPq78Mm+KckEg07o1OjzdS2cGNUA=\" src=\"https://r.bing.com/rp/LcI5KnPy0T-Keb8zXpBcn8s2P1g.gz.js\" type=\"text/javascript\"></script>,\n",
       " <script crossorigin=\"anonymous\" nonce=\"CZILAxNck2OhDPiJPq78Mm+KckEg07o1OjzdS2cGNUA=\" src=\"https://r.bing.com/rp/q_msvIdMEHg25Wzj5iPbptaZa-Y.gz.js\" type=\"text/javascript\"></script>,\n",
       " <script crossorigin=\"anonymous\" nonce=\"CZILAxNck2OhDPiJPq78Mm+KckEg07o1OjzdS2cGNUA=\" src=\"https://r.bing.com/rp/7aLIKTFw3wQ2GfGH7JdsS3gZ0Bk.gz.js\" type=\"text/javascript\"></script>,\n",
       " <script nonce=\"CZILAxNck2OhDPiJPq78Mm+KckEg07o1OjzdS2cGNUA=\" type=\"text/javascript\">//<![CDATA[\n",
       " sj_evt && sj_evt.fire(\"Gif.Stop\");;\n",
       " //]]></script>,\n",
       " <script crossorigin=\"anonymous\" nonce=\"CZILAxNck2OhDPiJPq78Mm+KckEg07o1OjzdS2cGNUA=\" src=\"https://r.bing.com/rp/BCQbLRebxDRW1QlRsotk22ZGo_s.gz.js\" type=\"text/javascript\"></script>,\n",
       " <script crossorigin=\"anonymous\" nonce=\"CZILAxNck2OhDPiJPq78Mm+KckEg07o1OjzdS2cGNUA=\" src=\"https://r.bing.com/rb/3u/jnc,nj/xsK9rLfwnMWcc1e4N9XuTwPUXM4.js?bu=ArwRvhE&amp;or=w\" type=\"text/javascript\"></script>,\n",
       " <script crossorigin=\"anonymous\" nonce=\"CZILAxNck2OhDPiJPq78Mm+KckEg07o1OjzdS2cGNUA=\" src=\"https://r.bing.com/rp/e6bIm0PVetRVm-Xf7JKEe_UB7QE.gz.js\" type=\"text/javascript\"></script>,\n",
       " <script crossorigin=\"anonymous\" nonce=\"CZILAxNck2OhDPiJPq78Mm+KckEg07o1OjzdS2cGNUA=\" src=\"https://r.bing.com/rp/pt-9DJvVZPpXIPBXEPmdzcEVBQM.gz.js\" type=\"text/javascript\"></script>,\n",
       " <script crossorigin=\"anonymous\" nonce=\"CZILAxNck2OhDPiJPq78Mm+KckEg07o1OjzdS2cGNUA=\" src=\"https://r.bing.com/rp/CIuU_57YmAOGspK1F7j9pbj9tRI.gz.js\" type=\"text/javascript\"></script>,\n",
       " <script crossorigin=\"anonymous\" nonce=\"CZILAxNck2OhDPiJPq78Mm+KckEg07o1OjzdS2cGNUA=\" src=\"https://r.bing.com/rp/dXztWWeOVmyiErF_LP7aFsWH_YE.gz.js\" type=\"text/javascript\"></script>,\n",
       " <script crossorigin=\"anonymous\" nonce=\"CZILAxNck2OhDPiJPq78Mm+KckEg07o1OjzdS2cGNUA=\" src=\"https://r.bing.com/rp/bXuE6uniaxNK8V3tEFu13epQ3aA.gz.js\" type=\"text/javascript\"></script>,\n",
       " <script crossorigin=\"anonymous\" nonce=\"CZILAxNck2OhDPiJPq78Mm+KckEg07o1OjzdS2cGNUA=\" src=\"https://r.bing.com/rp/wiGTzsPzTbNgM0Ts4bToV9nerkE.gz.js\" type=\"text/javascript\"></script>,\n",
       " <script crossorigin=\"anonymous\" nonce=\"CZILAxNck2OhDPiJPq78Mm+KckEg07o1OjzdS2cGNUA=\" src=\"https://r.bing.com/rp/ai6ATfJhUSrygpJ619fwFXtrXqs.gz.js\" type=\"text/javascript\"></script>,\n",
       " <script crossorigin=\"anonymous\" nonce=\"CZILAxNck2OhDPiJPq78Mm+KckEg07o1OjzdS2cGNUA=\" src=\"https://r.bing.com/rp/ju3egA__x5fC2E_ixjQvKprzNfs.gz.js\" type=\"text/javascript\"></script>,\n",
       " <script crossorigin=\"anonymous\" nonce=\"CZILAxNck2OhDPiJPq78Mm+KckEg07o1OjzdS2cGNUA=\" src=\"https://r.bing.com/rp/jUelsvmndlrV4PXoF1x2qG9H5c0.gz.js\" type=\"text/javascript\"></script>,\n",
       " <script nonce=\"CZILAxNck2OhDPiJPq78Mm+KckEg07o1OjzdS2cGNUA=\" type=\"text/javascript\">//<![CDATA[\n",
       " sj_evt.fire(\"ResultLoaded\");;\n",
       " //]]></script>,\n",
       " <script crossorigin=\"anonymous\" nonce=\"CZILAxNck2OhDPiJPq78Mm+KckEg07o1OjzdS2cGNUA=\" src=\"https://r.bing.com/rp/z1Hy1yd3cxI3TYn8iQgE2tFUdd8.gz.js\" type=\"text/javascript\"></script>,\n",
       " <script nonce=\"CZILAxNck2OhDPiJPq78Mm+KckEg07o1OjzdS2cGNUA=\" type=\"text/javascript\">//<![CDATA[\n",
       " (function() { /* bind to notifications.js script loaded event */ sj_evt.bind(\"OnBnpLoaded\", Show, 1, 0); function Show() { if(!true && _w.mmbnp){ return; } if (typeof Bnp === 'undefined') return; _w.mmbnp=true; if (Bnp.Global) { Bnp.Global.RawRequestURL =\"/images/search?q=elon%20musk\\u0026form=HDRSC3\\u0026first=1\"; Bnp.Global.Referer =null; } var request = new Bnp.Partner.Request(\"Images\",\"images.1\"); request.Attributes = {}; request.Attributes['IsAdultQuery'] = 0; request.Submit(); } })();;\n",
       " //]]></script>,\n",
       " <script crossorigin=\"anonymous\" nonce=\"CZILAxNck2OhDPiJPq78Mm+KckEg07o1OjzdS2cGNUA=\" src=\"https://r.bing.com/rp/OvSH_6VtAm0y02XU6OwmuxZwERc.gz.js\" type=\"text/javascript\"></script>,\n",
       " <script nonce=\"CZILAxNck2OhDPiJPq78Mm+KckEg07o1OjzdS2cGNUA=\" type=\"text/javascript\">//<![CDATA[\n",
       " var ipd = { ipt: \"4\", secall: true, pd: false };var fbpkgiid = fbpkgiid || {}; fbpkgiid.page = 'images.5641';;\n",
       " //]]></script>,\n",
       " <script crossorigin=\"anonymous\" nonce=\"CZILAxNck2OhDPiJPq78Mm+KckEg07o1OjzdS2cGNUA=\" src=\"https://r.bing.com/rp/peNl4yUB4P3PwDM4J7NWGzi8hKM.gz.js\" type=\"text/javascript\"></script>,\n",
       " <script crossorigin=\"anonymous\" nonce=\"CZILAxNck2OhDPiJPq78Mm+KckEg07o1OjzdS2cGNUA=\" src=\"https://r.bing.com/rp/7N8WTgtThYxOw4XmNJtFONnFKok.gz.js\" type=\"text/javascript\"></script>,\n",
       " <script nonce=\"CZILAxNck2OhDPiJPq78Mm+KckEg07o1OjzdS2cGNUA=\" type=\"text/javascript\">//<![CDATA[\n",
       " sj_evt.bind(\"ajax.feedback.initialized\", function(args) { args[1].debugCollector.setContextValue(\"FederationDebugInfo\", \"QueryID : fca2d3d710e944b0ae491368a9e7097e\"); });;var sa_config={\"f\":\"sb_form\",\"i\":\"sb_form_q\",\"ai\":\"\",\"af\":\"\",\"c\":\"sw_as\",\"zisParent\":\"sa_zis_parent\",\"u\":\"%2fAS%2fSuggestions%3fpt%3dimages%26bq%3delon%2bmusk%26scope%3dimages%26ds%3dimages%26qry%3d\",\"enableLeftIconForEntityTypes\":\"\\\"\\\"\",\"partner\":\"images\",\"ghostingWithGreyText\":\"\",\"enableTabPrompt\":\"\",\"acfPAASelector\":\".rqnaacfacc .acf-accordion-item__header\",\"enabledDataSources\":[\"Web\"],\"eHC\":1,\"brlg\":1,\"fetchOnEmpty\":1,\"fetchOnDownArrowKey\":1,\"t\":1,\"enableSbUpdate\":1,\"asmobbacks\":1,\"sbt\":1,\"eNw\":1,\"nwRz\":1,\"nwLim\":1,\"ezis\":1,\"imeghmb\":1,\"waitForCompositionEnd\":1,\"enableClientPerfLatencyCalc\":1,\"asLowNetworkScneario\":1,\"noNextWordTermination\":1,\"msspltredirc\":1,\"enblmsspltred\":1,\"asdsg\":1,\"asprefrev3\":1,\"disasdbcsbclick\":1,\"askbfocus\":1,\"asbugfix\":1,\"isACFPAA\":1,\"handleDuplicateFetch\":1,\"sfx\":0,\"d\":100,\"ascqsl\":100,\"zisr1\":5,\"maxSuggestionsForEmptyQuery\":10,\"maxSuggestions\":10,\"isZiHorLayout\":0,\"isZiHorLayoutPNCombined\":0,\"isZiHorLayoutCombinedTreatment\":0};var sa_loc= {\"Suggestions\":\"建議\",\"ManageHistory\":\"%e管理您的搜尋歷程記錄%E\",\"RelatedSearches\":\"相關的搜尋\",\"PeopleAlsoAsk\":\"其他人也問了以下問題\",\"PeopleAlsoSearchFor\":\"其他人還搜尋\",\"SeeMore\":\"查看更多內容\",\"SearchHistoryHeading\":\"搜尋歷史\"};;sa_loader=function(){_w.rms.js({'rms:answers:AutoSuggest:AutoSug':'https:\\/\\/r.bing.com\\/rp\\/Iv_V1hA8AXvs3uvPWzKGszyiKtE.gz.js',d:1});};;\n",
       " //]]></script>,\n",
       " <script crossorigin=\"anonymous\" nonce=\"CZILAxNck2OhDPiJPq78Mm+KckEg07o1OjzdS2cGNUA=\" src=\"https://r.bing.com/rp/rk28yPL0RlO1FRz224Nhh5fgB20.gz.js\" type=\"text/javascript\"></script>,\n",
       " <script crossorigin=\"anonymous\" nonce=\"CZILAxNck2OhDPiJPq78Mm+KckEg07o1OjzdS2cGNUA=\" src=\"https://r.bing.com/rs/6o/uc/jnc,nj/gFHwgzuno4I4w0iALYAaeRH6hos.js?or=w\" type=\"text/javascript\"></script>,\n",
       " <script nonce=\"CZILAxNck2OhDPiJPq78Mm+KckEg07o1OjzdS2cGNUA=\" type=\"text/javascript\">//<![CDATA[\n",
       " _w.rms.js({'A:rms:answers:SharedStaticAssets:PlatformBotDetectionIife':'https:\\/\\/r.bing.com\\/rp\\/2cWwOhjD_f95IqA5rzl7GbkqQL0.gz.js'},{'A:rms:answers:GlobalsScript:TriggerBotDIIFE':'https:\\/\\/r.bing.com\\/rp\\/6Ie5Wdi8hznWsXgf8NIgc6efUkk.gz.js'},{'A:rms:answers:Shared:BingCore.Bundle':'\\/rp\\/XVXTiyD2jl-HuTVQw2AJcyp-aCc.gz.js'},{'A:rms:answers:AjaxSerp:Ajax.Bundle':'https:\\/\\/r.bing.com\\/rp\\/YMgAZ5_RiRt1eaz5NpjCMd5O-uY.gz.js'},{'A:rms:answers:VisualSystem:QuickSearch':'https:\\/\\/r.bing.com\\/rp\\/wScT7DRIqx7wK31e7igBOwUdp5Q.gz.js'},{'A:rms:answers:BoxModel:TriggerSecondChunk':'https:\\/\\/r.bing.com\\/rp\\/iuYNUHE3kZrz6Jrb0_Mf0yBFZN0.gz.js'},{'A:rms:answers:BoxModel:Framework':'https:\\/\\/r.bing.com\\/rp\\/vTM2TLvD6dfAHvVlPMHxHIpTB7w.gz.js'},{'A:rms:answers:SharedStaticAssets:WebVitals':'https:\\/\\/r.bing.com\\/rp\\/3QalRX8h3WHQQ-YqMY5f9SM7eQk.gz.js'},{'A:rms:answers:WebVitals:WebVitalsMetrics4':'https:\\/\\/r.bing.com\\/rp\\/sKaV0koT8IsGEjtWdULO69lg2F4.gz.js'},{'A:0':0},{'A:rms:answers:Shared:mlibCssClassAfterOnLoad':'https:\\/\\/r.bing.com\\/rp\\/dLXNK3o3tyXzkXA3Jj8ciHATOYc.gz.js'},{'A:rms:answers:VisualSystem:DecorateHeaderWithAutosuggestState':'https:\\/\\/r.bing.com\\/rp\\/GZOFrwgEO7aroBSWHIAuZiMMKaA.gz.js'},{'A:1':1},{'A:rms:answers:Web:ClearSearchBox':'https:\\/\\/r.bing.com\\/rp\\/-vftNlvgXn6gQzsvwkN2SwcuYmA.gz.js'},{'A:rms:answers:MultimediaComponents:AccessibilityHelper':'https:\\/\\/r.bing.com\\/rp\\/fWGuFInM0vVJfQW_t4bgSZIvTjA.gz.js'},{'A:rms:answers:MultimediaComponents:SearchByImageableHelper':'https:\\/\\/r.bing.com\\/rp\\/kFdRGnsF9oNJsnfvt_bKFj-yBxg.gz.js'},{'A:rms:answers:MultimediaComponents:SearchByImagePrivacy':'https:\\/\\/r.bing.com\\/rp\\/43BJuM7qM_8Wd1WfIZM2_oK9zrw.gz.js'},{'A:rms:answers:VisualSystem:SerpSB':'https:\\/\\/r.bing.com\\/rp\\/U09PRwl9iZyK-WTAzbtOjV_CoOk.gz.js'},{'A:rms:answers:Identity:BlueIdentityDropdownBootStrap':'https:\\/\\/r.bing.com\\/rp\\/yjXVFOxf6UdoTA2BOwEH6n4ClfI.gz.js'},{'A:rms:answers:Identity:BlueIdentityHeader':'https:\\/\\/r.bing.com\\/rp\\/ihC7RhTVhw2ULO_1rMUWydIu_rA.gz.js'},{'A:rms:answers:Identity:MsaAuthV2SilentSSOScript':'https:\\/\\/r.bing.com\\/rp\\/0_me3yk7tfm-iZUdiX7ltcL7ELA.gz.js'},{'A:2':2},{'A:rms:answers:Identity:ProfilePicturePostLoader':'https:\\/\\/r.bing.com\\/rp\\/fDgf7Oh5R8mPygWLQcaNRoJGj5Q.gz.js'},{'A:rms:answers:Rewards:RewardsNcHeaderBootstrap':'https:\\/\\/r.bing.com\\/rp\\/5g-N9K-X1ykUl3QHEadPjpOM0Tc.gz.js'},{'A:RewardsReportActivity':'https:\\/\\/r.bing.com\\/rs\\/6o\\/wc\\/nj\\/nt6a1ZR520utsLoZmSYgwxdOPgI.js?or=w'},{'A:rms:answers:Rewards:RewardsCreditRefresh':'https:\\/\\/r.bing.com\\/rp\\/byLmVJQA1UzOFcrs9Jrvys4jXhM.gz.js'},{'A:rms:answers:Rewards:ModernReportActivity':'https:\\/\\/r.bing.com\\/rp\\/G-BGKSh95bDhorQ3SIbuRlPtjCE.gz.js'},{'A:rms:answers:Rewards:ReportActivityBootstrap':'https:\\/\\/r.bing.com\\/rp\\/SO02eTikN8ZV7bCSXFKur4CKSoQ.gz.js'},{'A:3':3},{'A:rms:answers:VisualSystem:LanguageSwitch':'https:\\/\\/r.bing.com\\/rp\\/AZfy3NmHHQlEb_4KJu4H0LxxRhg.gz.js'},{'A:rms:answers:Shared:PrimaryNavigationScrollableScope':'https:\\/\\/r.bing.com\\/rp\\/EFEHxHBLQbAVl_0Vb5Nj4tbxvbI.gz.js'},{'A:rms:answers:VisualSystem:ScopeBarAppShortcuts':'https:\\/\\/r.bing.com\\/rp\\/dhBLY-tHs7OqVVc93u3eNhNcDUY.gz.js'},{'A:rms:answers:VisualSystem:NotebookScope':'https:\\/\\/r.bing.com\\/rp\\/rEyf5r6GntWGoi90dN9CzUTNUOc.gz.js'},{'A:rms:answers:VisualSystem:ScopeBarRankInst':'https:\\/\\/r.bing.com\\/rp\\/_LoSccCiV60W4f4RrbnszpzPdGo.gz.js'},{'A:rms:answers:VisualSystem:TextSpacing':'https:\\/\\/r.bing.com\\/rp\\/XgfcIOITpjTBhfAjZ2xBTy-gx60.gz.js'},{'A:4':4},{'A:rms:answers:VisualSystem:LogAccessibilityEventsCommon':'https:\\/\\/r.bing.com\\/rp\\/0b3Qsln6Su4gLdwIMpINermce-o.gz.js'},{'A:rms:answers:VisualSystem:LogAccessibilityEvents':'https:\\/\\/r.bing.com\\/rp\\/Br9c9o_Qjy29JG9rDhNIUOfUKF4.gz.js'},{'A:rms:answers:VisualSystem:AccessibilityZoomDesktop':'https:\\/\\/r.bing.com\\/rp\\/Z2y_gFqh6Ewco2TNjNmojIbKito.gz.js'},{'A:rms:answers:VisualSystem:LogTabCount':'https:\\/\\/r.bing.com\\/rp\\/WAAHGo-kP0xCDM16LGm9-alzHb8.gz.js'},{'A:rms:answers:MultimediaComponents:ContextMenuDetector':'https:\\/\\/r.bing.com\\/rp\\/e5TVr6qIdYwxN25nfAf9UC8Lk-g.gz.js'},{'A:rms:answers:Multimedia:ImageSettingsFlyouts':'https:\\/\\/r.bing.com\\/rp\\/x1WQPMj2YD5vQD-eKSGcYTZWxb4.gz.js'},{'A:rms:answers:Shared:ToggleControl':'https:\\/\\/r.bing.com\\/rp\\/UWay3HPxD-036Y9DRBGHMBvH094.gz.js'},{'A:rms:answers:Multimedia:ImageResultsSearchBoxHandler':'https:\\/\\/r.bing.com\\/rp\\/42thAUXk6EANvC09NMqaTB9lu_o.gz.js'},{'A:rms:answers:Multimedia:ImageResultsFocus':'https:\\/\\/r.bing.com\\/rp\\/UfwKONEUN2YHja10CmSE4Q3i6UI.gz.js'},{'A:rms:answers:Multimedia:MmVert_KeyPressScroll':'https:\\/\\/r.bing.com\\/rp\\/pPg1EQ2oMuO_4zNgOeSQ5_CfMrk.gz.js'},{'A:rms:answers:Multimedia:ImageVert_CustomSizeFilter':'https:\\/\\/r.bing.com\\/rp\\/wymbLeKBcYEjgy4l1fbIWFUrl9I.gz.js'},{'A:rms:answers:MultimediaComponents:ReportResult':'https:\\/\\/r.bing.com\\/rp\\/gXaa30ZCKzOH3ZdQ_AWNpOPQxVY.gz.js'},{'A:rms:answers:MultimediaComponents:FlagFeedbackContent':'https:\\/\\/r.bing.com\\/rp\\/-qzZcmEob4eP3ZcqsiyW4xpOfng.gz.js'},{'A:rms:answers:Multimedia:FlagAsAdult':'https:\\/\\/r.bing.com\\/rp\\/QSnqXec8BLjKOKJvXBzbF8Mhjdw.gz.js'},{'A:rms:answers:Multimedia:OnMessageLocationUpdater':'https:\\/\\/r.bing.com\\/rp\\/rqzBiKJAGCyRmLeM9NcaqOqbmqY.gz.js'},{'A:AjaxLoad':'https:\\/\\/r.bing.com\\/rs\\/6o\\/l6\\/nj\\/EmG-XMIMCcq8zmcVBBO7jkFERAE.js?or=w'},{'A:rms:answers:Multimedia:SaveControlLoader':'https:\\/\\/r.bing.com\\/rp\\/GgiLOrqwblatxnJz67iNgqQDOhw.gz.js'},{'A:5':5},{'A:rms:answers:Multimedia:ImageVert_DisambiguationCluster':'https:\\/\\/r.bing.com\\/rp\\/6F1Mfn7tgROr7V0L7-6lcTssz9M.gz.js'},{'A:rms:answers:MultimediaComponents:RichImageRefresher':'https:\\/\\/r.bing.com\\/rp\\/MTb7R0njZG9urEZdCvND0z9VfiE.gz.js'},{'A:rms:answers:Multimedia:VideoHoverTriggerHandler':'https:\\/\\/r.bing.com\\/rp\\/8tzaZLlu2I3rnu8pFFr_yIYXOJw.gz.js'},{'A:6':6},{'A:rms:answers:MultimediaComponents:VideoRichHoverUtils':'https:\\/\\/r.bing.com\\/rp\\/YcPq4EV-U9vLXPNbwh13TtC9hKs.gz.js'},{'A:rms:answers:MultimediaComponents:VideoRichHoverEnumsAndConstants':'https:\\/\\/r.bing.com\\/rp\\/edRH4EPnQqMJGoyntW7bypTrTqI.gz.js'},{'A:rms:answers:MultimediaComponents:ThumbnailPlayerOverlayComponent':'https:\\/\\/r.bing.com\\/rp\\/VXn7vnSx9zTUSf2RIl_Wja69HvQ.gz.js'},{'A:rms:answers:MultimediaComponents:Html5VideoSMTPlayer':'https:\\/\\/r.bing.com\\/rp\\/TTnrL6vAlO--sThUpCylEvZat58.gz.js'},{'A:rms:answers:MultimediaComponents:VolumeIconWithSliderBar':'https:\\/\\/r.bing.com\\/rp\\/gQsFg5hibyvrFhiGlUe0MB5_axw.gz.js'},{'A:rms:answers:MultimediaComponents:ThumbnailPlayerComponent':'https:\\/\\/r.bing.com\\/rp\\/WIqIUCBEpq--PpcQrMJnoo9byLg.gz.js'},{'A:rms:answers:MultimediaComponents:VideoRichHoverInstrumentation':'https:\\/\\/r.bing.com\\/rp\\/c_1n1v_qIxgUM5j4_x9qdvlUbvQ.gz.js'},{'A:rms:answers:MultimediaComponents:VideoRichHoverBundle':'https:\\/\\/r.bing.com\\/rb\\/3u\\/jnc,nj\\/1Xw8d5DesYvSg2Gc3PAdpVRcsXU.js?bu=Aucbrhs&or=w'},{'A:7':7},{'A:rms:answers:Multimedia:BopBlock':'https:\\/\\/r.bing.com\\/rp\\/_JL3QZ-fEYICKhzR-bjN3W_i1jI.gz.js'},{'A:rms:answers:Multimedia:ImageVisualComponentResultsGIFLoader':'https:\\/\\/r.bing.com\\/rp\\/502J9FBI8MZ9SskyZDgrQtsEUEY.gz.js'},{'A:rms:answers:Notifications:BnpPartner':'https:\\/\\/r.bing.com\\/rp\\/kQGVX5OV5XrmgZ6TibrPWzVHlMY.gz.js'},{'A:rms:answers:Multimedia:BnpNotificationHelper':'https:\\/\\/r.bing.com\\/rp\\/u8JnJ9vXXOB_AkE7ux35Xnm023I.gz.js'},{'A:8':8},{'A:rms:answers:Shared:Orientation':'https:\\/\\/r.bing.com\\/rp\\/ALeVzHWphHzcRnC_3ugnhqYUEPM.gz.js'},{'A:rms:answers:Shared:InfoBubble':'https:\\/\\/r.bing.com\\/rp\\/1iCVB2KcmmEh8rmeGlZNhnwB-pk.gz.js'},{'A:rms:answers:Multimedia:ImageResultsBOPPA':'https:\\/\\/r.bing.com\\/rp\\/ZdMCq5ycBIb9LuJ-zVFkD0j58NY.gz.js'},{'A:rms:answers:VisualSystem:IPv6Test':'https:\\/\\/r.bing.com\\/rp\\/W8bLYGpay8IFp3H_SrUDKaBAn30.gz.js'},{'A:9':9});;\n",
       " //]]></script>,\n",
       " <script nonce=\"CZILAxNck2OhDPiJPq78Mm+KckEg07o1OjzdS2cGNUA=\" type=\"text/rms\">//<![CDATA[\n",
       " var pinnedHeaderParams ={};;\n",
       " //]]></script>,\n",
       " <script nonce=\"CZILAxNck2OhDPiJPq78Mm+KckEg07o1OjzdS2cGNUA=\" type=\"text/rms\">//<![CDATA[\n",
       " BingAtWork.HeaderWithAutoSuggestState.init && BingAtWork.HeaderWithAutoSuggestState.init(false);;\n",
       " //]]></script>,\n",
       " <script nonce=\"CZILAxNck2OhDPiJPq78Mm+KckEg07o1OjzdS2cGNUA=\" type=\"text/rms\">//<![CDATA[\n",
       " (function(){ if (typeof MsaAuthV2SilentSSO !== 'undefined' && typeof MsaAuthV2SilentSSO.init === 'function' && MsaAuthV2SilentSSO && MsaAuthV2SilentSSO.init){ MsaAuthV2SilentSSO.init({ ssoEndpoint: \"/fd/auth/signin/v2?action=interactive&amp;isSilent=true\" }); } })();;(function () { var identityBtn = document.getElementById(\"id_l\"); if (identityBtn) { identityBtn.addEventListener(\"click\", function () { typeof sj_log != \"undefined\" && sj_log(\"CI.ICPopup\", \"popup\", \"1\"); Log.LogFilterFlare([\"rewardsmsaclick\"]); }); } })();;\n",
       " //]]></script>,\n",
       " <script nonce=\"CZILAxNck2OhDPiJPq78Mm+KckEg07o1OjzdS2cGNUA=\" type=\"text/rms\">//<![CDATA[\n",
       " (function () { var identityBtn = document.getElementById(\"id_l\"); if (identityBtn) { identityBtn.addEventListener(\"click\", function () { Log.LogFilterFlare([\"rewardsmsasignin\"]); }); } })();;\n",
       " //]]></script>,\n",
       " <script nonce=\"CZILAxNck2OhDPiJPq78Mm+KckEg07o1OjzdS2cGNUA=\" type=\"text/rms\">//<![CDATA[\n",
       " typeof TextSpacingOptimized !== \"undefined\" && TextSpacingOptimized.init(\"https://r.bing.com/rs/5T/1j/cc,nc/dPHPbc9ZNtNRMhQmxUrvX6AmSxE.css?or=w\");\n",
       " //]]></script>,\n",
       " <script nonce=\"CZILAxNck2OhDPiJPq78Mm+KckEg07o1OjzdS2cGNUA=\" type=\"text/rms\">//<![CDATA[\n",
       " SvCtrlPack.init(\"/images/svctrlpack?mmasync=1\",false,true,false,\"irp\",false);;\n",
       " //]]></script>,\n",
       " <script nonce=\"CZILAxNck2OhDPiJPq78Mm+KckEg07o1OjzdS2cGNUA=\" type=\"text/rms\">//<![CDATA[\n",
       " sj_evt.bind('dg_init', function(evtArgs){evtArgs[1]('mmComponent_images_2')}, true);;\n",
       " //]]></script>,\n",
       " <script nonce=\"CZILAxNck2OhDPiJPq78Mm+KckEg07o1OjzdS2cGNUA=\" type=\"text/rms\">//<![CDATA[\n",
       " var videoRichHoverConfig_dgVrhContainer ={\"ah\":\"已由安全搜尋篩選。按一下以關閉。\",\"mth\":\"預覽\",\"sth\":\"無法預覽\",\"ppro\":\"正在播放影片預覽。 \",\"npro\":\"此影片沒有預覽。 \",\"pid\":\"2.1\",\"mmstob\":false,\"ishttps\":true,\"enperfinst\":true,\"enhoverhb\":true,\"enmmstinst\":true,\"enmuteinst\":true,\"hoverdelayms\":0,\"interactionType\":0,\"isAsyncBind\":true,\"enLoopPlayOnHover\":false,\"enAutoPlayOnLoad\":false,\"enAutoPlayNext\":false,\"autoPlayType\":4,\"resetPlayerTh\":true,\"enHoverControl\":true,\"enBgPlay\":false,\"enHoverAsyncMeta\":true,\"clientOffsetType\":0,\"instName\":\"ImageResultsVideoHover\",\"fid\":\"\",\"iframeInsertID\":\"\",\"bh\":false,\"maa\":false,\"ffb\":false,\"va\":1,\"hmot\":0,\"pcc\":0,\"ic\":true,\"fdmtp\":false,\"fdmmst\":false,\"hsth\":false,\"entabhover\":false,\"isBoundarySizePersisted\":false,\"enBoundarySizeScale\":false,\"encc\":false,\"isCaptionReplaced\":true,\"pea\":0,\"enpfc\":false,\"sd\":0,\"hmte\":0,\"autoRetriveMetaMaxCount\":0,\"boundaryElIds\":[{\"id\":\"b_content\"}],\"obt\":0,\"bindInfos\":[{\"tsqs\":\".dgControl\",\"target\":{\"bcn\":\"irpvrh\",\"tcn\":\"irpvrh\",\"marc\":\"irpvrh\",\"avbcn\":\"irpvrh\"}}],\"metauf\":\"/videos/vdasync?f=ch\\u0026mid={0}\\u0026vdpp=ImageResultPageHover\\u0026\",\"hecm\":{\"5\":{\"iccs\":[{\"tm\":5000,\"sin\":\"d2\"}]}},\"abt\":0}; sj_evt.bind(\"Vi.VideoHover.Init\", function() { if (VideoRichHover && VideoRichHover.init) { VideoRichHover.init(videoRichHoverConfig_dgVrhContainer, \"dgVrhContainer\"); } }, true);;\n",
       " //]]></script>,\n",
       " <script nonce=\"CZILAxNck2OhDPiJPq78Mm+KckEg07o1OjzdS2cGNUA=\" type=\"text/rms\">//<![CDATA[\n",
       " _d.body.classList.add(\"b_rdy\");;\n",
       " //]]></script>,\n",
       " <script nonce=\"CZILAxNck2OhDPiJPq78Mm+KckEg07o1OjzdS2cGNUA=\" type=\"text/rms\">//<![CDATA[\n",
       " window[\"fbk_2\"] = function() { Feedback.Bootstrap.InitializeFeedback({page:true},\"sb_feedback\",1,0,0); sj_evt.unbind(\"fdbkbtstrp_init\", window[\"fbk_2\"]); }; sj_evt.bind(\"fdbkbtstrp_init\", window[\"fbk_2\"], 1);;window[\"fbk_2\"] = function() { Feedback.Bootstrap.InitializeFeedback({page:true},\"fbpgbt\",1,0,0); sj_evt.unbind(\"fdbkbtstrp_init\", window[\"fbk_2\"]); }; sj_evt.bind(\"fdbkbtstrp_init\", window[\"fbk_2\"], 1);;\n",
       " //]]></script>,\n",
       " <script nonce=\"CZILAxNck2OhDPiJPq78Mm+KckEg07o1OjzdS2cGNUA=\" type=\"text/javascript\">//<![CDATA[\n",
       " \n",
       " _G.HT=new Date;\n",
       " \n",
       " //]]></script>]"
      ]
     },
     "execution_count": 7,
     "metadata": {},
     "output_type": "execute_result"
    }
   ],
   "source": [
    "# Try to find JSON data with image URLs\n",
    "scripts = soup.find_all(\"script\")\n",
    "scripts"
   ]
  },
  {
   "cell_type": "code",
   "execution_count": 11,
   "id": "a225acd4",
   "metadata": {},
   "outputs": [
    {
     "name": "stdout",
     "output_type": "stream",
     "text": [
      "<script nonce=\"CZILAxNck2OhDPiJPq78Mm+KckEg07o1OjzdS2cGNUA=\" type=\"text/javascript\">//<![CDATA[\n",
      "\n",
      "si_ST=new Date\n",
      "\n",
      "//]]></script>\n",
      "--------------------------------\n",
      "//<![CDATA[\n",
      "\n",
      "si_ST=new Date\n",
      "\n",
      "//]]>\n",
      "False\n"
     ]
    }
   ],
   "source": [
    "for script in scripts:\n",
    "    print(script)\n",
    "    print('--------------------------------')\n",
    "    print(script.string)\n",
    "    print(\"murl\" in script.string)\n",
    "    break"
   ]
  },
  {
   "cell_type": "code",
   "execution_count": 12,
   "id": "4bb08903",
   "metadata": {},
   "outputs": [],
   "source": [
    "import re\n",
    "for script in scripts:\n",
    "    if script.string and \"murl\" in script.string:\n",
    "        # Extract URLs from JSON-like structures\n",
    "        matches = re.findall(r'\"murl\":\"([^\"]+)\"', script.string)\n",
    "        print(matches)\n",
    "        break"
   ]
  },
  {
   "cell_type": "code",
   "execution_count": 13,
   "id": "f244f0db",
   "metadata": {},
   "outputs": [
    {
     "name": "stdout",
     "output_type": "stream",
     "text": [
      "[]\n"
     ]
    }
   ],
   "source": [
    "for script in scripts:\n",
    "    if script.string and \"mediaurl\" in script.string.lower():\n",
    "        matches = re.findall(\n",
    "            r'\"mediaurl\":\"([^\"]+)\"', script.string, re.IGNORECASE\n",
    "        )\n",
    "        print(matches)\n",
    "        break"
   ]
  },
  {
   "cell_type": "code",
   "execution_count": 14,
   "id": "58dc3e46",
   "metadata": {},
   "outputs": [],
   "source": [
    "for script in scripts:\n",
    "    if script.string and \"murl\" in script.string:\n",
    "        # Extract URLs from JSON-like structures\n",
    "        matches = re.findall(r'\"murl\":\"([^\"]+)\"', script.string)\n",
    "        image_urls.extend(matches)\n",
    "\n",
    "    if script.string and \"mediaurl\" in script.string.lower():\n",
    "        matches = re.findall(\n",
    "            r'\"mediaurl\":\"([^\"]+)\"', script.string, re.IGNORECASE\n",
    "        )\n",
    "        image_urls.extend(matches)"
   ]
  },
  {
   "cell_type": "code",
   "execution_count": 15,
   "id": "4424e9f7",
   "metadata": {},
   "outputs": [
    {
     "data": {
      "text/plain": [
       "[]"
      ]
     },
     "execution_count": 15,
     "metadata": {},
     "output_type": "execute_result"
    }
   ],
   "source": [
    "image_urls"
   ]
  },
  {
   "cell_type": "code",
   "execution_count": 16,
   "id": "b83fd169",
   "metadata": {},
   "outputs": [
    {
     "data": {
      "text/plain": [
       "[<img alt=\"elon musk 的圖片結果\" class=\"cimg mimg\" height=\"212\" src=\"https://tse4.mm.bing.net/th/id/OIP.5Ep_ATiFsxwY9uqiRXxIHwHaFj?w=282&amp;h=212&amp;c=7&amp;r=0&amp;o=7&amp;cb=12&amp;pid=1.7&amp;rm=3\" style=\"background-color:#334998;color:#334998\" width=\"282\"/>,\n",
       " <img alt=\"elon musk 的圖片結果\" class=\"mimg\" height=\"212\" src=\"https://tse4.mm.bing.net/th/id/OIP.W1mppOQtJdEn3w34SpCKcwHaFj?w=283&amp;h=212&amp;c=7&amp;r=0&amp;o=7&amp;cb=12&amp;pid=1.7&amp;rm=3\" style=\"background-color:#360abe;color:#360abe\" width=\"283\"/>,\n",
       " <img alt=\"elon musk 的圖片結果\" class=\"cimg mimg rms_img\" height=\"212\" id=\"emb44FCEB74\" loading=\"lazy\" src=\"https://tse3.mm.bing.net/th/id/OIP.tmmxsctQdTCbVCX4LGDIuQHaFj?w=281&amp;h=212&amp;c=7&amp;r=0&amp;o=7&amp;cb=12&amp;pid=1.7&amp;rm=3\" style=\"background-color:#0c1670;color:#0c1670\" width=\"281\"/>,\n",
       " <img alt=\"elon musk 的圖片結果\" class=\"mimg rms_img\" height=\"190\" id=\"emb462DF4ACD\" loading=\"lazy\" src=\"https://tse1.mm.bing.net/th/id/OIP.COO2XQb0DDrvq7HTxCC0PQHaLT?w=125&amp;h=190&amp;c=7&amp;r=0&amp;o=7&amp;cb=12&amp;pid=1.7&amp;rm=3\" style=\"background-color:#131116;color:#131116\" width=\"125\"/>,\n",
       " <img alt=\"elon musk 的圖片結果\" class=\"mimg rms_img\" height=\"190\" id=\"emb5770253DF\" loading=\"lazy\" src=\"https://tse2.mm.bing.net/th/id/OIP.1A3JqVyDtyxBa8LA8d2eCwHaE8?w=285&amp;h=190&amp;c=7&amp;r=0&amp;o=7&amp;cb=12&amp;pid=1.7&amp;rm=3\" style=\"background-color:#381262;color:#381262\" width=\"285\"/>,\n",
       " <img alt=\"elon musk 的圖片結果\" class=\"mimg rms_img\" height=\"190\" id=\"emb61B8F99EC\" loading=\"lazy\" src=\"https://tse2.mm.bing.net/th/id/OIP.i4mC4rmlQUItRYu8w4LmvQHaE7?w=285&amp;h=190&amp;c=7&amp;r=0&amp;o=7&amp;cb=12&amp;pid=1.7&amp;rm=3\" style=\"background-color:#2b077c;color:#2b077c\" width=\"285\"/>,\n",
       " <img alt=\"elon musk 的圖片結果\" class=\"mimg rms_img\" height=\"190\" id=\"emb7370FDBDA\" loading=\"lazy\" src=\"https://tse3.mm.bing.net/th/id/OIP.l3LDiXGaa1QvSs_Y5amhGQHaE8?w=285&amp;h=190&amp;c=7&amp;r=0&amp;o=7&amp;cb=12&amp;pid=1.7&amp;rm=3\" style=\"background-color:#4b5580;color:#4b5580\" width=\"285\"/>,\n",
       " <img alt=\"elon musk 的圖片結果\" class=\"mimg rms_img\" height=\"196\" id=\"emb83F62A1F3\" loading=\"lazy\" src=\"https://tse1.mm.bing.net/th/id/OIP.rOyRdmkq1AifowuTffpKAQHaKR?w=141&amp;h=196&amp;c=7&amp;r=0&amp;o=7&amp;cb=12&amp;pid=1.7&amp;rm=3\" style=\"background-color:#7a2031;color:#7a2031\" width=\"141\"/>,\n",
       " <img alt=\"elon musk 的圖片結果\" class=\"mimg rms_img\" height=\"196\" id=\"emb9476EB2A6\" loading=\"lazy\" src=\"https://tse3.mm.bing.net/th/id/OIP._q3b8iKsOqHDGr6Xn6PxzAHaHa?w=196&amp;h=196&amp;c=7&amp;r=0&amp;o=7&amp;cb=12&amp;pid=1.7&amp;rm=3\" style=\"background-color:#a22931;color:#a22931\" width=\"196\"/>,\n",
       " <img alt=\"elon musk 的圖片結果\" class=\"cimg mimg rms_img\" height=\"196\" id=\"embA4D5F27A4\" loading=\"lazy\" src=\"https://tse2.mm.bing.net/th/id/OIP.Ddwm-MLBU4_O1IsE0MunKAHaHa?w=196&amp;h=196&amp;c=7&amp;r=0&amp;o=7&amp;cb=12&amp;pid=1.7&amp;rm=3\" style=\"background-color:#1f1e26;color:#1f1e26\" width=\"196\"/>,\n",
       " <img alt=\"elon musk 的圖片結果\" class=\"mimg rms_img\" height=\"196\" id=\"embE768FC169\" loading=\"lazy\" src=\"https://tse1.mm.bing.net/th/id/OIP._9vDEHXQUJCFaQAm01K81QHaHa?w=196&amp;h=196&amp;c=7&amp;r=0&amp;o=7&amp;cb=12&amp;pid=1.7&amp;rm=3\" style=\"background-color:#496982;color:#496982\" width=\"196\"/>,\n",
       " <img alt=\"elon musk 的圖片結果\" class=\"mimg rms_img\" height=\"196\" id=\"embF38594BCE\" loading=\"lazy\" src=\"https://tse2.mm.bing.net/th/id/OIP.CRkwqb1RS_yOu3Id9vMCtwHaIK?w=178&amp;h=196&amp;c=7&amp;r=0&amp;o=7&amp;cb=12&amp;pid=1.7&amp;rm=3\" style=\"background-color:#4c607f;color:#4c607f\" width=\"178\"/>,\n",
       " <img alt=\"elon musk 的圖片結果\" class=\"mimg vimgld\" data-src=\"https://tse3.mm.bing.net/th/id/OIP.uNR-U4_yv95Y9LQl_9ZrXgHaEK?w=272&amp;h=180&amp;c=7&amp;r=0&amp;o=7&amp;cb=12&amp;pid=1.7&amp;rm=3\" height=\"180\" style=\"background-color:#0a0909;color:#0a0909\" width=\"272\"/>,\n",
       " <img alt=\"elon musk 的圖片結果\" class=\"mimg vimgld\" data-src=\"https://tse4.mm.bing.net/th/id/OIP.j5N2LRa2WDMlBYJPiezqogHaFX?w=211&amp;h=180&amp;c=7&amp;r=0&amp;o=7&amp;cb=12&amp;pid=1.7&amp;rm=3\" height=\"180\" style=\"background-color:#b6670d;color:#b6670d\" width=\"211\"/>,\n",
       " <img alt=\"elon musk 的圖片結果\" class=\"mimg vimgld\" data-src=\"https://tse1.mm.bing.net/th/id/OIP.0VO3I7sAB5iMp-r39fR45wHaE8?w=229&amp;h=180&amp;c=7&amp;r=0&amp;o=7&amp;cb=12&amp;pid=1.7&amp;rm=3\" height=\"180\" style=\"background-color:#0b0b12;color:#0b0b12\" width=\"229\"/>,\n",
       " <img alt=\"elon musk 的圖片結果\" class=\"mimg vimgld\" data-src=\"https://tse3.mm.bing.net/th/id/OIP.7NUaClGfuzSVJVs1lVp4HQHaEN?w=268&amp;h=180&amp;c=7&amp;r=0&amp;o=7&amp;cb=12&amp;pid=1.7&amp;rm=3\" height=\"180\" style=\"background-color:#5d636e;color:#5d636e\" width=\"268\"/>,\n",
       " <img alt=\"elon musk 的圖片結果\" class=\"mimg vimgld\" data-src=\"https://tse4.mm.bing.net/th/id/OIP.wy2ZZ_SFuKf3tQ0R8G-gvgHaFj?w=191&amp;h=180&amp;c=7&amp;r=0&amp;o=7&amp;cb=12&amp;pid=1.7&amp;rm=3\" height=\"180\" style=\"background-color:#79413a;color:#79413a\" width=\"191\"/>,\n",
       " <img alt=\"elon musk 的圖片結果\" class=\"mimg vimgld\" data-src=\"https://tse2.mm.bing.net/th/id/OIP.wI7SgTdiBDdXkhG0DbrAmwHaEl?w=232&amp;h=180&amp;c=7&amp;r=0&amp;o=7&amp;cb=12&amp;pid=1.7&amp;rm=3\" height=\"180\" style=\"background-color:#110b59;color:#110b59\" width=\"232\"/>,\n",
       " <img alt=\"elon musk 的圖片結果\" class=\"mimg vimgld\" data-src=\"https://tse2.mm.bing.net/th/id/OIP.sUjxEt5v6XibfH3aOfMjBwHaEK?w=254&amp;h=180&amp;c=7&amp;r=0&amp;o=7&amp;cb=12&amp;pid=1.7&amp;rm=3\" height=\"180\" style=\"background-color:#5b6970;color:#5b6970\" width=\"254\"/>,\n",
       " <img alt=\"elon musk 的圖片結果\" class=\"mimg vimgld\" data-src=\"https://tse3.mm.bing.net/th/id/OIP.3uQpGX34V3TU_BP195p9nQHaI1?w=168&amp;h=200&amp;c=7&amp;r=0&amp;o=7&amp;cb=12&amp;pid=1.7&amp;rm=3\" height=\"200\" style=\"background-color:#274265;color:#274265\" width=\"168\"/>,\n",
       " <img alt=\"elon musk 的圖片結果\" class=\"mimg vimgld\" data-src=\"https://tse4.mm.bing.net/th/id/OIP.D_eaxuvNG3OmFZqek_1V2gHaE7?w=300&amp;h=200&amp;c=7&amp;r=0&amp;o=7&amp;cb=12&amp;pid=1.7&amp;rm=3\" height=\"200\" style=\"background-color:#30325d;color:#30325d\" width=\"300\"/>,\n",
       " <img alt=\"elon musk 的圖片結果\" class=\"mimg vimgld\" data-src=\"https://tse2.mm.bing.net/th/id/OIP.aYoxvoHX8d0ep06C-gEq1gHaKI?w=146&amp;h=200&amp;c=7&amp;r=0&amp;o=7&amp;cb=12&amp;pid=1.7&amp;rm=3\" height=\"200\" style=\"background-color:#b1711a;color:#b1711a\" width=\"146\"/>,\n",
       " <img alt=\"elon musk 的圖片結果\" class=\"mimg vimgld\" data-src=\"https://tse3.mm.bing.net/th/id/OIP.XAWO7P4eE2uLj6ACUpSJCgHaEK?w=311&amp;h=180&amp;c=7&amp;r=0&amp;o=7&amp;cb=12&amp;pid=1.7&amp;rm=3\" height=\"180\" style=\"background-color:#17068c;color:#17068c\" width=\"311\"/>,\n",
       " <img alt=\"elon musk 的圖片結果\" class=\"mimg vimgld\" data-src=\"https://tse2.mm.bing.net/th/id/OIP.ycmQTZPTdRn_LcIKXUmCLQHaFj?w=232&amp;h=180&amp;c=7&amp;r=0&amp;o=7&amp;cb=12&amp;pid=1.7&amp;rm=3\" height=\"180\" style=\"background-color:#283f6b;color:#283f6b\" width=\"232\"/>,\n",
       " <img alt=\"elon musk 的圖片結果\" class=\"mimg vimgld\" data-src=\"https://tse2.mm.bing.net/th/id/OIP.InRxm-cI4PWsrRJ20bFT5gEsDH?w=263&amp;h=180&amp;c=7&amp;r=0&amp;o=7&amp;cb=12&amp;pid=1.7&amp;rm=3\" height=\"180\" style=\"background-color:#71477a;color:#71477a\" width=\"263\"/>,\n",
       " <img alt=\"elon musk 的圖片結果\" class=\"mimg vimgld\" data-src=\"https://tse4.mm.bing.net/th/id/OIP.k3I35HeC-sXBSm-mrAy-zwHaHa?w=174&amp;h=180&amp;c=7&amp;r=0&amp;o=7&amp;cb=12&amp;pid=1.7&amp;rm=3\" height=\"180\" style=\"background-color:#2a4aa1;color:#2a4aa1\" width=\"174\"/>,\n",
       " <img alt=\"elon musk 的圖片結果\" class=\"mimg vimgld\" data-src=\"https://tse4.mm.bing.net/th/id/OIP.R00xJWSlV9JFL2NMjGQgugHaE8?w=218&amp;h=180&amp;c=7&amp;r=0&amp;o=7&amp;cb=12&amp;pid=1.7&amp;rm=3\" height=\"180\" style=\"background-color:#3000ca;color:#3000ca\" width=\"218\"/>,\n",
       " <img alt=\"elon musk 的圖片結果\" class=\"mimg vimgld\" data-src=\"https://tse3.mm.bing.net/th/id/OIP.OXhFAzehziuqEBcXNpjiAAHaD4?w=279&amp;h=180&amp;c=7&amp;r=0&amp;o=7&amp;cb=12&amp;pid=1.7&amp;rm=3\" height=\"180\" style=\"background-color:#555676;color:#555676\" width=\"279\"/>,\n",
       " <img alt=\"elon musk 的圖片結果\" class=\"mimg vimgld\" data-src=\"https://tse4.mm.bing.net/th/id/OIP.4lsc5WECgvZVbuhL2ayfNgHaEf?w=241&amp;h=180&amp;c=7&amp;r=0&amp;o=7&amp;cb=12&amp;pid=1.7&amp;rm=3\" height=\"180\" style=\"background-color:#3b405c;color:#3b405c\" width=\"241\"/>,\n",
       " <img alt=\"elon musk 的圖片結果\" class=\"mimg vimgld\" data-src=\"https://tse4.mm.bing.net/th/id/OIP.pSf8osyR3ZROOTWiZ4YfmAHaEK?w=333&amp;h=187&amp;c=7&amp;r=0&amp;o=7&amp;cb=12&amp;pid=1.7&amp;rm=3\" height=\"187\" style=\"background-color:#4f5059;color:#4f5059\" width=\"333\"/>,\n",
       " <img alt=\"elon musk 的圖片結果\" class=\"mimg vimgld\" data-src=\"https://tse3.mm.bing.net/th/id/OIP.ogLTLt64f4AUZgaYdXLedAHaEK?w=333&amp;h=187&amp;c=7&amp;r=0&amp;o=7&amp;cb=12&amp;pid=1.7&amp;rm=3\" height=\"187\" style=\"background-color:#71423e;color:#71423e\" width=\"333\"/>,\n",
       " <img alt=\"elon musk 的圖片結果\" class=\"mimg vimgld\" data-src=\"https://tse2.mm.bing.net/th/id/OIP.Dy6ktgqHDa03f6_pFuipPQHaFj?w=274&amp;h=187&amp;c=7&amp;r=0&amp;o=7&amp;cb=12&amp;pid=1.7&amp;rm=3\" height=\"187\" style=\"background-color:#31211f;color:#31211f\" width=\"274\"/>]"
      ]
     },
     "execution_count": 16,
     "metadata": {},
     "output_type": "execute_result"
    }
   ],
   "source": [
    "soup.find_all(\"img\", class_=\"mimg\")"
   ]
  },
  {
   "cell_type": "code",
   "execution_count": 18,
   "id": "dab6e1e8",
   "metadata": {},
   "outputs": [
    {
     "name": "stdout",
     "output_type": "stream",
     "text": [
      "https://tse4.mm.bing.net/th/id/OIP.5Ep_ATiFsxwY9uqiRXxIHwHaFj?w=282&h=212&c=7&r=0&o=7&cb=12&pid=1.7&rm=3\n"
     ]
    }
   ],
   "source": [
    "for img in soup.find_all(\"img\", class_=\"mimg\"):\n",
    "    if img.get(\"src\"):\n",
    "        image_urls.append(img[\"src\"])\n",
    "        print(img[\"src\"])\n",
    "        break"
   ]
  },
  {
   "cell_type": "code",
   "execution_count": 19,
   "id": "abdfe196",
   "metadata": {},
   "outputs": [
    {
     "data": {
      "text/plain": [
       "['https://tse4.mm.bing.net/th/id/OIP.5Ep_ATiFsxwY9uqiRXxIHwHaFj?w=282&h=212&c=7&r=0&o=7&cb=12&pid=1.7&rm=3',\n",
       " 'https://tse4.mm.bing.net/th/id/OIP.5Ep_ATiFsxwY9uqiRXxIHwHaFj?w=282&h=212&c=7&r=0&o=7&cb=12&pid=1.7&rm=3']"
      ]
     },
     "execution_count": 19,
     "metadata": {},
     "output_type": "execute_result"
    }
   ],
   "source": [
    "image_urls"
   ]
  },
  {
   "cell_type": "code",
   "execution_count": 20,
   "id": "45eacbb1",
   "metadata": {},
   "outputs": [
    {
     "name": "stdout",
     "output_type": "stream",
     "text": [
      "https://tse3.mm.bing.net/th/id/OIP.uNR-U4_yv95Y9LQl_9ZrXgHaEK?w=272&h=180&c=7&r=0&o=7&cb=12&pid=1.7&rm=3\n"
     ]
    }
   ],
   "source": [
    "for img in soup.find_all(\"img\", class_=\"mimg\"):\n",
    "    if img.get(\"data-src\"):\n",
    "        image_urls.append(img[\"data-src\"])\n",
    "        print(img[\"data-src\"])\n",
    "        break"
   ]
  },
  {
   "cell_type": "code",
   "execution_count": 21,
   "id": "8b7134dd",
   "metadata": {},
   "outputs": [],
   "source": [
    "for img in soup.find_all(\"img\", class_=\"mimg\"):\n",
    "    if img.get(\"src\"):\n",
    "        image_urls.append(img[\"src\"])\n",
    "    if img.get(\"data-src\"):\n",
    "        image_urls.append(img[\"data-src\"])"
   ]
  },
  {
   "cell_type": "code",
   "execution_count": 23,
   "id": "59175ebc",
   "metadata": {},
   "outputs": [
    {
     "data": {
      "text/plain": [
       "35"
      ]
     },
     "execution_count": 23,
     "metadata": {},
     "output_type": "execute_result"
    }
   ],
   "source": [
    "len(image_urls)"
   ]
  },
  {
   "cell_type": "code",
   "execution_count": 24,
   "id": "b44c3999",
   "metadata": {},
   "outputs": [
    {
     "data": {
      "text/plain": [
       "[<img class=\"rms_img\" height=\"18\" id=\"sbi_b\" role=\"none\" src=\"https://r.bing.com/rp/f21jlSMmEDN43OaavcdaB-7Phq0.svg\" width=\"18\"/>,\n",
       " <img alt=\"關閉\" class=\"clsbtnimg rms_img\" height=\"16\" src=\"https://r.bing.com/rp/fdVZU4ttbw8NDRm6H3I5BW3_vCo.svg\" width=\"16\"/>,\n",
       " <img alt=\"關閉\" class=\"clsoptbtnimg rms_img\" height=\"20\" src=\"https://r.bing.com/rp/4L4QdyjTv0HYE2Ig2ol9eYoqxg8.svg\" width=\"20\"/>,\n",
       " <img class=\"infbtnimg rms_img\" height=\"16\" loading=\"lazy\" role=\"presentation\" src=\"https://r.bing.com/rp/Fsa_OI0AplCnVoXGca8ALOo0S0s.svg\" width=\"16\"/>,\n",
       " <img alt=\"拖放圖片到這裡\" class=\"icon1 rms_img\" flex-shrink=\"0\" src=\"https://r.bing.com/rp/UusW4P7f5q9mXctgEuZhyIziufA.svg\"/>,\n",
       " <img alt=\"拖放圖片到這裡\" class=\"icon2 rms_img\" flex-shrink=\"0\" src=\"https://r.bing.com/rp/4A9D07RlW6M7gPmPQQydX3khDJc.svg\"/>,\n",
       " <img class=\"rms_img\" height=\"50\" id=\"loadingimg\" loading=\"lazy\" role=\"presentation\" src=\"https://r.bing.com/rp/OHA5u4HW70mLbGkOE41WRDXcYTY.svg\" width=\"50\"/>,\n",
       " <img alt=\"貼上影像連結以搜尋\" class=\"psticon rms_img\" height=\"16\" loading=\"lazy\" src=\"https://r.bing.com/rp/UzLAW1Q1WOatPD4L3XbeKD9b0Lg.svg\" width=\"16\"/>,\n",
       " <img alt=\"設定檔圖片\" class=\"id_avatar sw_spd\" data-alt=\"\" id=\"id_p\" src=\"data:image/png;base64,iVBORw0KGgoAAAANSUhEUgAAAAEAAAABCAQAAAC1HAwCAAAAC0lEQVR42mNgYAAAAAMAASsJTYQAAAAASUVORK5CYII=\" style=\"display:none\"/>,\n",
       " <img alt=\"elon musk 的圖片結果\" class=\"cimg mimg\" height=\"212\" src=\"https://tse4.mm.bing.net/th/id/OIP.5Ep_ATiFsxwY9uqiRXxIHwHaFj?w=282&amp;h=212&amp;c=7&amp;r=0&amp;o=7&amp;cb=12&amp;pid=1.7&amp;rm=3\" style=\"background-color:#334998;color:#334998\" width=\"282\"/>,\n",
       " <img alt=\"elon musk 的圖片結果\" class=\"cimg\" height=\"70\" src=\"https://tse2.mm.bing.net/th/id/OIP.DHWSUldjTUdD_iLXcwWPSQHaHa?w=70&amp;h=70&amp;c=1&amp;rs=1&amp;qlt=70&amp;r=0&amp;o=7&amp;cb=12&amp;pid=InlineBlock&amp;rm=3\" style=\"background-color:#334998;color:#334998;transform: translate(1px,0px)\" width=\"70\"/>,\n",
       " <img alt=\"elon musk 的圖片結果\" class=\"cimg\" height=\"70\" src=\"https://tse1.mm.bing.net/th/id/OIP.zHMA-gbeWgG5eeEHxWJbdQHaE8?w=70&amp;h=70&amp;c=1&amp;rs=1&amp;qlt=70&amp;r=0&amp;o=7&amp;cb=12&amp;pid=InlineBlock&amp;rm=3\" style=\"background-color:#334998;color:#334998;transform: translate(1px,1px)\" width=\"70\"/>,\n",
       " <img alt=\"elon musk 的圖片結果\" class=\"cimg\" height=\"70\" src=\"https://tse2.mm.bing.net/th/id/OIP.6hAfoHmYv1IS38MKiuwaxAHaKl?w=70&amp;h=70&amp;c=1&amp;rs=1&amp;qlt=70&amp;r=0&amp;o=7&amp;cb=12&amp;pid=InlineBlock&amp;rm=3\" style=\"background-color:#334998;color:#334998;transform: translate(1px,2px)\" width=\"70\"/>,\n",
       " <img alt=\"elon musk 的圖片結果\" class=\"mimg\" height=\"212\" src=\"https://tse4.mm.bing.net/th/id/OIP.W1mppOQtJdEn3w34SpCKcwHaFj?w=283&amp;h=212&amp;c=7&amp;r=0&amp;o=7&amp;cb=12&amp;pid=1.7&amp;rm=3\" style=\"background-color:#360abe;color:#360abe\" width=\"283\"/>,\n",
       " <img alt=\"elon musk 的圖片結果\" class=\"cimg mimg rms_img\" height=\"212\" id=\"emb44FCEB74\" loading=\"lazy\" src=\"https://tse3.mm.bing.net/th/id/OIP.tmmxsctQdTCbVCX4LGDIuQHaFj?w=281&amp;h=212&amp;c=7&amp;r=0&amp;o=7&amp;cb=12&amp;pid=1.7&amp;rm=3\" style=\"background-color:#0c1670;color:#0c1670\" width=\"281\"/>,\n",
       " <img alt=\"elon musk 的圖片結果\" class=\"cimg rms_img\" height=\"70\" id=\"emb139777E32\" loading=\"lazy\" src=\"https://tse2.mm.bing.net/th/id/OIP.g5AaSZqU2TT3sfI0qDI9GwAAAA?w=70&amp;h=70&amp;c=1&amp;rs=1&amp;qlt=70&amp;r=0&amp;o=7&amp;cb=12&amp;pid=InlineBlock&amp;rm=3\" style=\"background-color:#0c1670;color:#0c1670;transform: translate(1px,0px)\" width=\"70\"/>,\n",
       " <img alt=\"elon musk 的圖片結果\" class=\"cimg rms_img\" height=\"70\" id=\"emb249BA55E8\" loading=\"lazy\" src=\"https://tse3.mm.bing.net/th/id/OIP.J5sD5aIsX-iX9cjDQnkcOQHaEK?w=70&amp;h=70&amp;c=1&amp;rs=1&amp;qlt=70&amp;r=0&amp;o=7&amp;cb=12&amp;pid=InlineBlock&amp;rm=3\" style=\"background-color:#0c1670;color:#0c1670;transform: translate(1px,1px)\" width=\"70\"/>,\n",
       " <img alt=\"elon musk 的圖片結果\" class=\"cimg rms_img\" height=\"70\" id=\"emb31535CB6F\" loading=\"lazy\" src=\"https://tse2.mm.bing.net/th/id/OIP.CFjQi792PBtgZZrOWPs2jQHaFj?w=70&amp;h=70&amp;c=1&amp;rs=1&amp;qlt=70&amp;r=0&amp;o=7&amp;cb=12&amp;pid=InlineBlock&amp;rm=3\" style=\"background-color:#0c1670;color:#0c1670;transform: translate(1px,2px)\" width=\"70\"/>,\n",
       " <img alt=\"elon musk 的圖片結果\" class=\"mimg rms_img\" height=\"190\" id=\"emb462DF4ACD\" loading=\"lazy\" src=\"https://tse1.mm.bing.net/th/id/OIP.COO2XQb0DDrvq7HTxCC0PQHaLT?w=125&amp;h=190&amp;c=7&amp;r=0&amp;o=7&amp;cb=12&amp;pid=1.7&amp;rm=3\" style=\"background-color:#131116;color:#131116\" width=\"125\"/>,\n",
       " <img alt=\"elon musk 的圖片結果\" class=\"mimg rms_img\" height=\"190\" id=\"emb5770253DF\" loading=\"lazy\" src=\"https://tse2.mm.bing.net/th/id/OIP.1A3JqVyDtyxBa8LA8d2eCwHaE8?w=285&amp;h=190&amp;c=7&amp;r=0&amp;o=7&amp;cb=12&amp;pid=1.7&amp;rm=3\" style=\"background-color:#381262;color:#381262\" width=\"285\"/>,\n",
       " <img alt=\"elon musk 的圖片結果\" class=\"mimg rms_img\" height=\"190\" id=\"emb61B8F99EC\" loading=\"lazy\" src=\"https://tse2.mm.bing.net/th/id/OIP.i4mC4rmlQUItRYu8w4LmvQHaE7?w=285&amp;h=190&amp;c=7&amp;r=0&amp;o=7&amp;cb=12&amp;pid=1.7&amp;rm=3\" style=\"background-color:#2b077c;color:#2b077c\" width=\"285\"/>,\n",
       " <img alt=\"elon musk 的圖片結果\" class=\"mimg rms_img\" height=\"190\" id=\"emb7370FDBDA\" loading=\"lazy\" src=\"https://tse3.mm.bing.net/th/id/OIP.l3LDiXGaa1QvSs_Y5amhGQHaE8?w=285&amp;h=190&amp;c=7&amp;r=0&amp;o=7&amp;cb=12&amp;pid=1.7&amp;rm=3\" style=\"background-color:#4b5580;color:#4b5580\" width=\"285\"/>,\n",
       " <img alt=\"elon musk 的圖片結果\" class=\"mimg rms_img\" height=\"196\" id=\"emb83F62A1F3\" loading=\"lazy\" src=\"https://tse1.mm.bing.net/th/id/OIP.rOyRdmkq1AifowuTffpKAQHaKR?w=141&amp;h=196&amp;c=7&amp;r=0&amp;o=7&amp;cb=12&amp;pid=1.7&amp;rm=3\" style=\"background-color:#7a2031;color:#7a2031\" width=\"141\"/>,\n",
       " <img alt=\"elon musk 的圖片結果\" class=\"mimg rms_img\" height=\"196\" id=\"emb9476EB2A6\" loading=\"lazy\" src=\"https://tse3.mm.bing.net/th/id/OIP._q3b8iKsOqHDGr6Xn6PxzAHaHa?w=196&amp;h=196&amp;c=7&amp;r=0&amp;o=7&amp;cb=12&amp;pid=1.7&amp;rm=3\" style=\"background-color:#a22931;color:#a22931\" width=\"196\"/>,\n",
       " <img alt=\"elon musk 的圖片結果\" class=\"cimg mimg rms_img\" height=\"196\" id=\"embA4D5F27A4\" loading=\"lazy\" src=\"https://tse2.mm.bing.net/th/id/OIP.Ddwm-MLBU4_O1IsE0MunKAHaHa?w=196&amp;h=196&amp;c=7&amp;r=0&amp;o=7&amp;cb=12&amp;pid=1.7&amp;rm=3\" style=\"background-color:#1f1e26;color:#1f1e26\" width=\"196\"/>,\n",
       " <img alt=\"elon musk 的圖片結果\" class=\"cimg rms_img\" height=\"64\" id=\"embB6C24977C\" loading=\"lazy\" src=\"https://tse4.mm.bing.net/th/id/OIP.nvTWud0OI0joWU8rptrbcgHaE8?w=64&amp;h=64&amp;c=1&amp;rs=1&amp;qlt=70&amp;r=0&amp;o=7&amp;cb=12&amp;pid=InlineBlock&amp;rm=3\" style=\"background-color:#1f1e26;color:#1f1e26;transform: translate(1px,0px)\" width=\"64\"/>,\n",
       " <img alt=\"elon musk 的圖片結果\" class=\"cimg rms_img\" height=\"64\" id=\"embC76500CBA\" loading=\"lazy\" src=\"https://tse4.mm.bing.net/th/id/OIP.WLAWlYia96CqF05RCTUj-AHaE7?w=64&amp;h=64&amp;c=1&amp;rs=1&amp;qlt=70&amp;r=0&amp;o=7&amp;cb=12&amp;pid=InlineBlock&amp;rm=3\" style=\"background-color:#1f1e26;color:#1f1e26;transform: translate(1px,1px)\" width=\"64\"/>,\n",
       " <img alt=\"elon musk 的圖片結果\" class=\"cimg rms_img\" height=\"66\" id=\"embD6DCAD7C9\" loading=\"lazy\" src=\"https://tse4.mm.bing.net/th/id/OIP.RReEDjnY1G6NfgxEggV0FQHaE7?w=64&amp;h=66&amp;c=1&amp;rs=1&amp;qlt=70&amp;r=0&amp;o=7&amp;cb=12&amp;pid=InlineBlock&amp;rm=3\" style=\"background-color:#1f1e26;color:#1f1e26;transform: translate(1px,2px)\" width=\"64\"/>,\n",
       " <img alt=\"elon musk 的圖片結果\" class=\"mimg rms_img\" height=\"196\" id=\"embE768FC169\" loading=\"lazy\" src=\"https://tse1.mm.bing.net/th/id/OIP._9vDEHXQUJCFaQAm01K81QHaHa?w=196&amp;h=196&amp;c=7&amp;r=0&amp;o=7&amp;cb=12&amp;pid=1.7&amp;rm=3\" style=\"background-color:#496982;color:#496982\" width=\"196\"/>,\n",
       " <img alt=\"elon musk 的圖片結果\" class=\"mimg rms_img\" height=\"196\" id=\"embF38594BCE\" loading=\"lazy\" src=\"https://tse2.mm.bing.net/th/id/OIP.CRkwqb1RS_yOu3Id9vMCtwHaIK?w=178&amp;h=196&amp;c=7&amp;r=0&amp;o=7&amp;cb=12&amp;pid=1.7&amp;rm=3\" style=\"background-color:#4c607f;color:#4c607f\" width=\"178\"/>,\n",
       " <img alt=\"elon musk 的圖片結果\" class=\"mimg vimgld\" data-src=\"https://tse3.mm.bing.net/th/id/OIP.uNR-U4_yv95Y9LQl_9ZrXgHaEK?w=272&amp;h=180&amp;c=7&amp;r=0&amp;o=7&amp;cb=12&amp;pid=1.7&amp;rm=3\" height=\"180\" style=\"background-color:#0a0909;color:#0a0909\" width=\"272\"/>,\n",
       " <img alt=\"elon musk 的圖片結果\" class=\"mimg vimgld\" data-src=\"https://tse4.mm.bing.net/th/id/OIP.j5N2LRa2WDMlBYJPiezqogHaFX?w=211&amp;h=180&amp;c=7&amp;r=0&amp;o=7&amp;cb=12&amp;pid=1.7&amp;rm=3\" height=\"180\" style=\"background-color:#b6670d;color:#b6670d\" width=\"211\"/>,\n",
       " <img alt=\"elon musk 的圖片結果\" class=\"mimg vimgld\" data-src=\"https://tse1.mm.bing.net/th/id/OIP.0VO3I7sAB5iMp-r39fR45wHaE8?w=229&amp;h=180&amp;c=7&amp;r=0&amp;o=7&amp;cb=12&amp;pid=1.7&amp;rm=3\" height=\"180\" style=\"background-color:#0b0b12;color:#0b0b12\" width=\"229\"/>,\n",
       " <img alt=\"elon musk 的圖片結果\" class=\"mimg vimgld\" data-src=\"https://tse3.mm.bing.net/th/id/OIP.7NUaClGfuzSVJVs1lVp4HQHaEN?w=268&amp;h=180&amp;c=7&amp;r=0&amp;o=7&amp;cb=12&amp;pid=1.7&amp;rm=3\" height=\"180\" style=\"background-color:#5d636e;color:#5d636e\" width=\"268\"/>,\n",
       " <img alt=\"elon musk 的圖片結果\" class=\"mimg vimgld\" data-src=\"https://tse4.mm.bing.net/th/id/OIP.wy2ZZ_SFuKf3tQ0R8G-gvgHaFj?w=191&amp;h=180&amp;c=7&amp;r=0&amp;o=7&amp;cb=12&amp;pid=1.7&amp;rm=3\" height=\"180\" style=\"background-color:#79413a;color:#79413a\" width=\"191\"/>,\n",
       " <img alt=\"elon musk 的圖片結果\" class=\"mimg vimgld\" data-src=\"https://tse2.mm.bing.net/th/id/OIP.wI7SgTdiBDdXkhG0DbrAmwHaEl?w=232&amp;h=180&amp;c=7&amp;r=0&amp;o=7&amp;cb=12&amp;pid=1.7&amp;rm=3\" height=\"180\" style=\"background-color:#110b59;color:#110b59\" width=\"232\"/>,\n",
       " <img alt=\"elon musk 的圖片結果\" class=\"mimg vimgld\" data-src=\"https://tse2.mm.bing.net/th/id/OIP.sUjxEt5v6XibfH3aOfMjBwHaEK?w=254&amp;h=180&amp;c=7&amp;r=0&amp;o=7&amp;cb=12&amp;pid=1.7&amp;rm=3\" height=\"180\" style=\"background-color:#5b6970;color:#5b6970\" width=\"254\"/>,\n",
       " <img alt=\"elon musk 的圖片結果\" class=\"mimg vimgld\" data-src=\"https://tse3.mm.bing.net/th/id/OIP.3uQpGX34V3TU_BP195p9nQHaI1?w=168&amp;h=200&amp;c=7&amp;r=0&amp;o=7&amp;cb=12&amp;pid=1.7&amp;rm=3\" height=\"200\" style=\"background-color:#274265;color:#274265\" width=\"168\"/>,\n",
       " <img alt=\"elon musk 的圖片結果\" class=\"mimg vimgld\" data-src=\"https://tse4.mm.bing.net/th/id/OIP.D_eaxuvNG3OmFZqek_1V2gHaE7?w=300&amp;h=200&amp;c=7&amp;r=0&amp;o=7&amp;cb=12&amp;pid=1.7&amp;rm=3\" height=\"200\" style=\"background-color:#30325d;color:#30325d\" width=\"300\"/>,\n",
       " <img alt=\"elon musk 的圖片結果\" class=\"mimg vimgld\" data-src=\"https://tse2.mm.bing.net/th/id/OIP.aYoxvoHX8d0ep06C-gEq1gHaKI?w=146&amp;h=200&amp;c=7&amp;r=0&amp;o=7&amp;cb=12&amp;pid=1.7&amp;rm=3\" height=\"200\" style=\"background-color:#b1711a;color:#b1711a\" width=\"146\"/>,\n",
       " <img alt=\"elon musk 的圖片結果\" class=\"mimg vimgld\" data-src=\"https://tse3.mm.bing.net/th/id/OIP.XAWO7P4eE2uLj6ACUpSJCgHaEK?w=311&amp;h=180&amp;c=7&amp;r=0&amp;o=7&amp;cb=12&amp;pid=1.7&amp;rm=3\" height=\"180\" style=\"background-color:#17068c;color:#17068c\" width=\"311\"/>,\n",
       " <img alt=\"elon musk 的圖片結果\" class=\"mimg vimgld\" data-src=\"https://tse2.mm.bing.net/th/id/OIP.ycmQTZPTdRn_LcIKXUmCLQHaFj?w=232&amp;h=180&amp;c=7&amp;r=0&amp;o=7&amp;cb=12&amp;pid=1.7&amp;rm=3\" height=\"180\" style=\"background-color:#283f6b;color:#283f6b\" width=\"232\"/>,\n",
       " <img alt=\"elon musk 的圖片結果\" class=\"mimg vimgld\" data-src=\"https://tse2.mm.bing.net/th/id/OIP.InRxm-cI4PWsrRJ20bFT5gEsDH?w=263&amp;h=180&amp;c=7&amp;r=0&amp;o=7&amp;cb=12&amp;pid=1.7&amp;rm=3\" height=\"180\" style=\"background-color:#71477a;color:#71477a\" width=\"263\"/>,\n",
       " <img alt=\"elon musk 的圖片結果\" class=\"mimg vimgld\" data-src=\"https://tse4.mm.bing.net/th/id/OIP.k3I35HeC-sXBSm-mrAy-zwHaHa?w=174&amp;h=180&amp;c=7&amp;r=0&amp;o=7&amp;cb=12&amp;pid=1.7&amp;rm=3\" height=\"180\" style=\"background-color:#2a4aa1;color:#2a4aa1\" width=\"174\"/>,\n",
       " <img alt=\"elon musk 的圖片結果\" class=\"mimg vimgld\" data-src=\"https://tse4.mm.bing.net/th/id/OIP.R00xJWSlV9JFL2NMjGQgugHaE8?w=218&amp;h=180&amp;c=7&amp;r=0&amp;o=7&amp;cb=12&amp;pid=1.7&amp;rm=3\" height=\"180\" style=\"background-color:#3000ca;color:#3000ca\" width=\"218\"/>,\n",
       " <img alt=\"elon musk 的圖片結果\" class=\"mimg vimgld\" data-src=\"https://tse3.mm.bing.net/th/id/OIP.OXhFAzehziuqEBcXNpjiAAHaD4?w=279&amp;h=180&amp;c=7&amp;r=0&amp;o=7&amp;cb=12&amp;pid=1.7&amp;rm=3\" height=\"180\" style=\"background-color:#555676;color:#555676\" width=\"279\"/>,\n",
       " <img alt=\"elon musk 的圖片結果\" class=\"mimg vimgld\" data-src=\"https://tse4.mm.bing.net/th/id/OIP.4lsc5WECgvZVbuhL2ayfNgHaEf?w=241&amp;h=180&amp;c=7&amp;r=0&amp;o=7&amp;cb=12&amp;pid=1.7&amp;rm=3\" height=\"180\" style=\"background-color:#3b405c;color:#3b405c\" width=\"241\"/>,\n",
       " <img alt=\"elon musk 的圖片結果\" class=\"mimg vimgld\" data-src=\"https://tse4.mm.bing.net/th/id/OIP.pSf8osyR3ZROOTWiZ4YfmAHaEK?w=333&amp;h=187&amp;c=7&amp;r=0&amp;o=7&amp;cb=12&amp;pid=1.7&amp;rm=3\" height=\"187\" style=\"background-color:#4f5059;color:#4f5059\" width=\"333\"/>,\n",
       " <img alt=\"elon musk 的圖片結果\" class=\"mimg vimgld\" data-src=\"https://tse3.mm.bing.net/th/id/OIP.ogLTLt64f4AUZgaYdXLedAHaEK?w=333&amp;h=187&amp;c=7&amp;r=0&amp;o=7&amp;cb=12&amp;pid=1.7&amp;rm=3\" height=\"187\" style=\"background-color:#71423e;color:#71423e\" width=\"333\"/>,\n",
       " <img alt=\"elon musk 的圖片結果\" class=\"mimg vimgld\" data-src=\"https://tse2.mm.bing.net/th/id/OIP.Dy6ktgqHDa03f6_pFuipPQHaFj?w=274&amp;h=187&amp;c=7&amp;r=0&amp;o=7&amp;cb=12&amp;pid=1.7&amp;rm=3\" height=\"187\" style=\"background-color:#31211f;color:#31211f\" width=\"274\"/>,\n",
       " <img alt=\"靜態縮圖預留位置\" class=\"vrhi hide\"/>,\n",
       " <img alt=\"\" class=\"flagIcon\" src=\"/sa/simg/Flag_Feedback.png\"/>,\n",
       " <img class=\"rms_img\" loading=\"lazy\" role=\"presentation\" src=\"https://r.bing.com/rp/ytiieusXgM2K8bLkEDP-AS1ePds.png\"/>]"
      ]
     },
     "execution_count": 24,
     "metadata": {},
     "output_type": "execute_result"
    }
   ],
   "source": [
    "soup.find_all(\"img\")"
   ]
  },
  {
   "cell_type": "code",
   "execution_count": 25,
   "id": "6b69a3a0",
   "metadata": {},
   "outputs": [
    {
     "name": "stdout",
     "output_type": "stream",
     "text": [
      "https://r.bing.com/rp/ytiieusXgM2K8bLkEDP-AS1ePds.png\n"
     ]
    }
   ],
   "source": [
    "for img in soup.find_all(\"img\"):\n",
    "    src = img.get(\"src\") or img.get(\"data-src\")\n",
    "    if src and src.startswith(\"http\"):\n",
    "        if \"logo\" not in src.lower():\n",
    "            exts = [\".jpg\", \".jpeg\", \".png\", \".webp\"]\n",
    "            if any(ext in src.lower() for ext in exts):\n",
    "                print(src)\n",
    "                image_urls.append(src)"
   ]
  },
  {
   "cell_type": "code",
   "execution_count": 31,
   "id": "f474be70",
   "metadata": {},
   "outputs": [],
   "source": [
    "image_urls = list(set(image_urls))"
   ]
  },
  {
   "cell_type": "code",
   "execution_count": 32,
   "id": "39dbd4c8",
   "metadata": {},
   "outputs": [
    {
     "data": {
      "text/plain": [
       "33"
      ]
     },
     "execution_count": 32,
     "metadata": {},
     "output_type": "execute_result"
    }
   ],
   "source": [
    "len(image_urls)"
   ]
  },
  {
   "cell_type": "code",
   "execution_count": 33,
   "id": "6d18e035",
   "metadata": {},
   "outputs": [],
   "source": [
    "from urllib.parse import urlparse\n",
    "import os"
   ]
  },
  {
   "cell_type": "code",
   "execution_count": 35,
   "id": "2a00c781",
   "metadata": {},
   "outputs": [
    {
     "data": {
      "text/plain": [
       "'https://tse4.mm.bing.net/th/id/OIP.D_eaxuvNG3OmFZqek_1V2gHaE7?w=300&h=200&c=7&r=0&o=7&cb=12&pid=1.7&rm=3'"
      ]
     },
     "execution_count": 35,
     "metadata": {},
     "output_type": "execute_result"
    }
   ],
   "source": [
    "url = image_urls[0]\n",
    "url"
   ]
  },
  {
   "cell_type": "code",
   "execution_count": 36,
   "id": "be737b59",
   "metadata": {},
   "outputs": [],
   "source": [
    "parsed = urlparse(url)"
   ]
  },
  {
   "cell_type": "code",
   "execution_count": 37,
   "id": "d83a153c",
   "metadata": {},
   "outputs": [
    {
     "data": {
      "text/plain": [
       "ParseResult(scheme='https', netloc='tse4.mm.bing.net', path='/th/id/OIP.D_eaxuvNG3OmFZqek_1V2gHaE7', params='', query='w=300&h=200&c=7&r=0&o=7&cb=12&pid=1.7&rm=3', fragment='')"
      ]
     },
     "execution_count": 37,
     "metadata": {},
     "output_type": "execute_result"
    }
   ],
   "source": [
    "parsed"
   ]
  },
  {
   "cell_type": "code",
   "execution_count": 38,
   "id": "1ede3674",
   "metadata": {},
   "outputs": [
    {
     "data": {
      "text/plain": [
       "'/th/id/OIP.D_eaxuvNG3OmFZqek_1V2gHaE7'"
      ]
     },
     "execution_count": 38,
     "metadata": {},
     "output_type": "execute_result"
    }
   ],
   "source": [
    "parsed.path"
   ]
  },
  {
   "cell_type": "code",
   "execution_count": 39,
   "id": "63351d33",
   "metadata": {},
   "outputs": [
    {
     "data": {
      "text/plain": [
       "('/th/id/OIP', '.D_eaxuvNG3OmFZqek_1V2gHaE7')"
      ]
     },
     "execution_count": 39,
     "metadata": {},
     "output_type": "execute_result"
    }
   ],
   "source": [
    "os.path.splitext(parsed.path)"
   ]
  },
  {
   "cell_type": "code",
   "execution_count": 40,
   "id": "6be7d63c",
   "metadata": {},
   "outputs": [
    {
     "data": {
      "text/plain": [
       "'.D_eaxuvNG3OmFZqek_1V2gHaE7'"
      ]
     },
     "execution_count": 40,
     "metadata": {},
     "output_type": "execute_result"
    }
   ],
   "source": [
    "ext = os.path.splitext(parsed.path)[1]\n",
    "ext"
   ]
  },
  {
   "cell_type": "code",
   "execution_count": 41,
   "id": "026163ea",
   "metadata": {},
   "outputs": [
    {
     "data": {
      "text/plain": [
       "'.jpg'"
      ]
     },
     "execution_count": 41,
     "metadata": {},
     "output_type": "execute_result"
    }
   ],
   "source": [
    "valid_exts = [\".jpg\", \".jpeg\", \".png\", \".webp\", \".bmp\"]\n",
    "if not ext or ext not in valid_exts:\n",
    "    ext = \".jpg\"\n",
    "ext "
   ]
  },
  {
   "cell_type": "code",
   "execution_count": 42,
   "id": "21bdfccc",
   "metadata": {},
   "outputs": [],
   "source": [
    "query = \"elon musk\""
   ]
  },
  {
   "cell_type": "code",
   "execution_count": 43,
   "id": "1a148f67",
   "metadata": {},
   "outputs": [
    {
     "data": {
      "text/plain": [
       "'elon_musk'"
      ]
     },
     "execution_count": 43,
     "metadata": {},
     "output_type": "execute_result"
    }
   ],
   "source": [
    "query.replace(' ', '_')"
   ]
  },
  {
   "cell_type": "code",
   "execution_count": 44,
   "id": "7a27a4f5",
   "metadata": {},
   "outputs": [],
   "source": [
    "i  = 0"
   ]
  },
  {
   "cell_type": "code",
   "execution_count": 45,
   "id": "c1f41573",
   "metadata": {},
   "outputs": [
    {
     "data": {
      "text/plain": [
       "'elon_musk_001.jpg'"
      ]
     },
     "execution_count": 45,
     "metadata": {},
     "output_type": "execute_result"
    }
   ],
   "source": [
    "f\"{query.replace(' ', '_')}_{i+1:03d}{ext}\""
   ]
  },
  {
   "cell_type": "code",
   "execution_count": null,
   "id": "dbec423f",
   "metadata": {},
   "outputs": [],
   "source": [
    " for i, url in enumerate(image_urls[: 20]):\n",
    "    # Determine file extension\n",
    "    parsed = urlparse(url)\n",
    "    ext = os.path.splitext(parsed.path)[1]\n",
    "    valid_exts = [\".jpg\", \".jpeg\", \".png\", \".webp\", \".bmp\"]\n",
    "    if not ext or ext not in valid_exts:\n",
    "        ext = \".jpg\"\n",
    "\n",
    "    filename = f\"{query.replace(' ', '_')}_{i+1:03d}{ext}\"\n",
    "    save_path = output_path / filename\n",
    "\n",
    "    print(f\"Downloading {i+1}/{len(image_urls)}: {filename}\")"
   ]
  }
 ],
 "metadata": {
  "kernelspec": {
   "display_name": "detectron2",
   "language": "python",
   "name": "python3"
  },
  "language_info": {
   "codemirror_mode": {
    "name": "ipython",
    "version": 3
   },
   "file_extension": ".py",
   "mimetype": "text/x-python",
   "name": "python",
   "nbconvert_exporter": "python",
   "pygments_lexer": "ipython3",
   "version": "3.11.9"
  }
 },
 "nbformat": 4,
 "nbformat_minor": 5
}
